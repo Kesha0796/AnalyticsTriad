{
 "cells": [
  {
   "cell_type": "markdown",
   "metadata": {},
   "source": [
    "## PREPROCESSING AND MERGING OF DATASETS FOR FIT PREDICTION\n",
    "### NAME: Priyanka Raju\n",
    "### SJSU ID: 013839865"
   ]
  },
  {
   "cell_type": "code",
   "execution_count": 1,
   "metadata": {},
   "outputs": [],
   "source": [
    "import pandas as pd\n",
    "import numpy as np\n",
    "\n",
    "# TO IMPUTE MISSING VALUES\n",
    "from sklearn.impute import SimpleImputer\n",
    "\n",
    "# CATEGORICAL TO NUMERICAL ENCODING\n",
    "import category_encoders as ce"
   ]
  },
  {
   "cell_type": "code",
   "execution_count": 2,
   "metadata": {},
   "outputs": [],
   "source": [
    "dfMod = pd.read_json('modcloth_final_data.json', lines=True)"
   ]
  },
  {
   "cell_type": "code",
   "execution_count": 3,
   "metadata": {},
   "outputs": [],
   "source": [
    "dfRent = pd.read_json('renttherunway_final_data.json', lines=True)"
   ]
  },
  {
   "cell_type": "markdown",
   "metadata": {},
   "source": [
    "### Looking into the details of the ModCloth dataset"
   ]
  },
  {
   "cell_type": "code",
   "execution_count": 4,
   "metadata": {},
   "outputs": [
    {
     "data": {
      "text/html": [
       "<div>\n",
       "<style scoped>\n",
       "    .dataframe tbody tr th:only-of-type {\n",
       "        vertical-align: middle;\n",
       "    }\n",
       "\n",
       "    .dataframe tbody tr th {\n",
       "        vertical-align: top;\n",
       "    }\n",
       "\n",
       "    .dataframe thead th {\n",
       "        text-align: right;\n",
       "    }\n",
       "</style>\n",
       "<table border=\"1\" class=\"dataframe\">\n",
       "  <thead>\n",
       "    <tr style=\"text-align: right;\">\n",
       "      <th></th>\n",
       "      <th>bra size</th>\n",
       "      <th>hips</th>\n",
       "      <th>item_id</th>\n",
       "      <th>quality</th>\n",
       "      <th>shoe size</th>\n",
       "      <th>size</th>\n",
       "      <th>user_id</th>\n",
       "      <th>waist</th>\n",
       "    </tr>\n",
       "  </thead>\n",
       "  <tbody>\n",
       "    <tr>\n",
       "      <th>count</th>\n",
       "      <td>76772.000000</td>\n",
       "      <td>56064.000000</td>\n",
       "      <td>82790.000000</td>\n",
       "      <td>82722.000000</td>\n",
       "      <td>27915.000000</td>\n",
       "      <td>82790.000000</td>\n",
       "      <td>82790.000000</td>\n",
       "      <td>2882.000000</td>\n",
       "    </tr>\n",
       "    <tr>\n",
       "      <th>mean</th>\n",
       "      <td>35.972125</td>\n",
       "      <td>40.358501</td>\n",
       "      <td>469325.229170</td>\n",
       "      <td>3.949058</td>\n",
       "      <td>8.145818</td>\n",
       "      <td>12.661602</td>\n",
       "      <td>498849.564718</td>\n",
       "      <td>31.319223</td>\n",
       "    </tr>\n",
       "    <tr>\n",
       "      <th>std</th>\n",
       "      <td>3.224907</td>\n",
       "      <td>5.827166</td>\n",
       "      <td>213999.803314</td>\n",
       "      <td>0.992783</td>\n",
       "      <td>1.336109</td>\n",
       "      <td>8.271952</td>\n",
       "      <td>286356.969459</td>\n",
       "      <td>5.302849</td>\n",
       "    </tr>\n",
       "    <tr>\n",
       "      <th>min</th>\n",
       "      <td>28.000000</td>\n",
       "      <td>30.000000</td>\n",
       "      <td>123373.000000</td>\n",
       "      <td>1.000000</td>\n",
       "      <td>5.000000</td>\n",
       "      <td>0.000000</td>\n",
       "      <td>6.000000</td>\n",
       "      <td>20.000000</td>\n",
       "    </tr>\n",
       "    <tr>\n",
       "      <th>25%</th>\n",
       "      <td>34.000000</td>\n",
       "      <td>36.000000</td>\n",
       "      <td>314980.000000</td>\n",
       "      <td>3.000000</td>\n",
       "      <td>7.000000</td>\n",
       "      <td>8.000000</td>\n",
       "      <td>252897.750000</td>\n",
       "      <td>28.000000</td>\n",
       "    </tr>\n",
       "    <tr>\n",
       "      <th>50%</th>\n",
       "      <td>36.000000</td>\n",
       "      <td>39.000000</td>\n",
       "      <td>454030.000000</td>\n",
       "      <td>4.000000</td>\n",
       "      <td>8.000000</td>\n",
       "      <td>12.000000</td>\n",
       "      <td>497913.500000</td>\n",
       "      <td>30.000000</td>\n",
       "    </tr>\n",
       "    <tr>\n",
       "      <th>75%</th>\n",
       "      <td>38.000000</td>\n",
       "      <td>43.000000</td>\n",
       "      <td>658440.000000</td>\n",
       "      <td>5.000000</td>\n",
       "      <td>9.000000</td>\n",
       "      <td>15.000000</td>\n",
       "      <td>744745.250000</td>\n",
       "      <td>34.000000</td>\n",
       "    </tr>\n",
       "    <tr>\n",
       "      <th>max</th>\n",
       "      <td>48.000000</td>\n",
       "      <td>60.000000</td>\n",
       "      <td>807722.000000</td>\n",
       "      <td>5.000000</td>\n",
       "      <td>38.000000</td>\n",
       "      <td>38.000000</td>\n",
       "      <td>999972.000000</td>\n",
       "      <td>50.000000</td>\n",
       "    </tr>\n",
       "  </tbody>\n",
       "</table>\n",
       "</div>"
      ],
      "text/plain": [
       "           bra size          hips        item_id       quality     shoe size  \\\n",
       "count  76772.000000  56064.000000   82790.000000  82722.000000  27915.000000   \n",
       "mean      35.972125     40.358501  469325.229170      3.949058      8.145818   \n",
       "std        3.224907      5.827166  213999.803314      0.992783      1.336109   \n",
       "min       28.000000     30.000000  123373.000000      1.000000      5.000000   \n",
       "25%       34.000000     36.000000  314980.000000      3.000000      7.000000   \n",
       "50%       36.000000     39.000000  454030.000000      4.000000      8.000000   \n",
       "75%       38.000000     43.000000  658440.000000      5.000000      9.000000   \n",
       "max       48.000000     60.000000  807722.000000      5.000000     38.000000   \n",
       "\n",
       "               size        user_id        waist  \n",
       "count  82790.000000   82790.000000  2882.000000  \n",
       "mean      12.661602  498849.564718    31.319223  \n",
       "std        8.271952  286356.969459     5.302849  \n",
       "min        0.000000       6.000000    20.000000  \n",
       "25%        8.000000  252897.750000    28.000000  \n",
       "50%       12.000000  497913.500000    30.000000  \n",
       "75%       15.000000  744745.250000    34.000000  \n",
       "max       38.000000  999972.000000    50.000000  "
      ]
     },
     "execution_count": 4,
     "metadata": {},
     "output_type": "execute_result"
    }
   ],
   "source": [
    "dfMod.describe()"
   ]
  },
  {
   "cell_type": "code",
   "execution_count": 5,
   "metadata": {},
   "outputs": [
    {
     "name": "stdout",
     "output_type": "stream",
     "text": [
      "<class 'pandas.core.frame.DataFrame'>\n",
      "RangeIndex: 82790 entries, 0 to 82789\n",
      "Data columns (total 18 columns):\n",
      "bra size          76772 non-null float64\n",
      "bust              11854 non-null object\n",
      "category          82790 non-null object\n",
      "cup size          76535 non-null object\n",
      "fit               82790 non-null object\n",
      "height            81683 non-null object\n",
      "hips              56064 non-null float64\n",
      "item_id           82790 non-null int64\n",
      "length            82755 non-null object\n",
      "quality           82722 non-null float64\n",
      "review_summary    76065 non-null object\n",
      "review_text       76065 non-null object\n",
      "shoe size         27915 non-null float64\n",
      "shoe width        18607 non-null object\n",
      "size              82790 non-null int64\n",
      "user_id           82790 non-null int64\n",
      "user_name         82790 non-null object\n",
      "waist             2882 non-null float64\n",
      "dtypes: float64(5), int64(3), object(10)\n",
      "memory usage: 11.4+ MB\n"
     ]
    }
   ],
   "source": [
    "dfMod.info()"
   ]
  },
  {
   "cell_type": "code",
   "execution_count": 6,
   "metadata": {
    "scrolled": true
   },
   "outputs": [
    {
     "data": {
      "text/plain": [
       "bra size           7.27\n",
       "bust              85.68\n",
       "category           0.00\n",
       "cup size           7.56\n",
       "fit                0.00\n",
       "height             1.34\n",
       "hips              32.28\n",
       "item_id            0.00\n",
       "length             0.04\n",
       "quality            0.08\n",
       "review_summary     8.12\n",
       "review_text        8.12\n",
       "shoe size         66.28\n",
       "shoe width        77.53\n",
       "size               0.00\n",
       "user_id            0.00\n",
       "user_name          0.00\n",
       "waist             96.52\n",
       "dtype: float64"
      ]
     },
     "execution_count": 6,
     "metadata": {},
     "output_type": "execute_result"
    }
   ],
   "source": [
    "dfMod.isnull().mean().round(4) * 100"
   ]
  },
  {
   "cell_type": "markdown",
   "metadata": {},
   "source": [
    "#### Dataset with feature 'waist' has 96% and feature 'bust' has 85% of missing data. Feature 'shoe size' has around 66% of missing values. Feature 'shoe width' has around 77% of missing values.\n",
    "\n",
    "#### We can handle such kind of data set multiple ways\n",
    "\n",
    "#### Based on the feature importance related to predicting the target we can either drop these columns from the training set or impute the missing values or convert them into classes/categories.\n",
    "\n",
    "#### Feature 'hips' have around 32% missing data. For this column it might seem reasonable to impute the missing values by mean/median."
   ]
  },
  {
   "cell_type": "code",
   "execution_count": 7,
   "metadata": {},
   "outputs": [
    {
     "data": {
      "text/html": [
       "<div>\n",
       "<style scoped>\n",
       "    .dataframe tbody tr th:only-of-type {\n",
       "        vertical-align: middle;\n",
       "    }\n",
       "\n",
       "    .dataframe tbody tr th {\n",
       "        vertical-align: top;\n",
       "    }\n",
       "\n",
       "    .dataframe thead th {\n",
       "        text-align: right;\n",
       "    }\n",
       "</style>\n",
       "<table border=\"1\" class=\"dataframe\">\n",
       "  <thead>\n",
       "    <tr style=\"text-align: right;\">\n",
       "      <th></th>\n",
       "      <th>bra size</th>\n",
       "      <th>bust</th>\n",
       "      <th>category</th>\n",
       "      <th>cup size</th>\n",
       "      <th>fit</th>\n",
       "      <th>height</th>\n",
       "      <th>hips</th>\n",
       "      <th>item_id</th>\n",
       "      <th>length</th>\n",
       "      <th>quality</th>\n",
       "      <th>review_summary</th>\n",
       "      <th>review_text</th>\n",
       "      <th>shoe size</th>\n",
       "      <th>shoe width</th>\n",
       "      <th>size</th>\n",
       "      <th>user_id</th>\n",
       "      <th>user_name</th>\n",
       "      <th>waist</th>\n",
       "    </tr>\n",
       "  </thead>\n",
       "  <tbody>\n",
       "    <tr>\n",
       "      <th>0</th>\n",
       "      <td>34.0</td>\n",
       "      <td>36</td>\n",
       "      <td>new</td>\n",
       "      <td>d</td>\n",
       "      <td>small</td>\n",
       "      <td>5ft 6in</td>\n",
       "      <td>38.0</td>\n",
       "      <td>123373</td>\n",
       "      <td>just right</td>\n",
       "      <td>5.0</td>\n",
       "      <td>NaN</td>\n",
       "      <td>NaN</td>\n",
       "      <td>NaN</td>\n",
       "      <td>NaN</td>\n",
       "      <td>7</td>\n",
       "      <td>991571</td>\n",
       "      <td>Emily</td>\n",
       "      <td>29.0</td>\n",
       "    </tr>\n",
       "    <tr>\n",
       "      <th>1</th>\n",
       "      <td>36.0</td>\n",
       "      <td>NaN</td>\n",
       "      <td>new</td>\n",
       "      <td>b</td>\n",
       "      <td>small</td>\n",
       "      <td>5ft 2in</td>\n",
       "      <td>30.0</td>\n",
       "      <td>123373</td>\n",
       "      <td>just right</td>\n",
       "      <td>3.0</td>\n",
       "      <td>NaN</td>\n",
       "      <td>NaN</td>\n",
       "      <td>NaN</td>\n",
       "      <td>NaN</td>\n",
       "      <td>13</td>\n",
       "      <td>587883</td>\n",
       "      <td>sydneybraden2001</td>\n",
       "      <td>31.0</td>\n",
       "    </tr>\n",
       "    <tr>\n",
       "      <th>2</th>\n",
       "      <td>32.0</td>\n",
       "      <td>NaN</td>\n",
       "      <td>new</td>\n",
       "      <td>b</td>\n",
       "      <td>small</td>\n",
       "      <td>5ft 7in</td>\n",
       "      <td>NaN</td>\n",
       "      <td>123373</td>\n",
       "      <td>slightly long</td>\n",
       "      <td>2.0</td>\n",
       "      <td>NaN</td>\n",
       "      <td>NaN</td>\n",
       "      <td>9.0</td>\n",
       "      <td>NaN</td>\n",
       "      <td>7</td>\n",
       "      <td>395665</td>\n",
       "      <td>Ugggh</td>\n",
       "      <td>30.0</td>\n",
       "    </tr>\n",
       "    <tr>\n",
       "      <th>3</th>\n",
       "      <td>NaN</td>\n",
       "      <td>NaN</td>\n",
       "      <td>new</td>\n",
       "      <td>dd/e</td>\n",
       "      <td>fit</td>\n",
       "      <td>NaN</td>\n",
       "      <td>NaN</td>\n",
       "      <td>123373</td>\n",
       "      <td>just right</td>\n",
       "      <td>5.0</td>\n",
       "      <td>NaN</td>\n",
       "      <td>NaN</td>\n",
       "      <td>NaN</td>\n",
       "      <td>NaN</td>\n",
       "      <td>21</td>\n",
       "      <td>875643</td>\n",
       "      <td>alexmeyer626</td>\n",
       "      <td>NaN</td>\n",
       "    </tr>\n",
       "    <tr>\n",
       "      <th>4</th>\n",
       "      <td>36.0</td>\n",
       "      <td>NaN</td>\n",
       "      <td>new</td>\n",
       "      <td>b</td>\n",
       "      <td>small</td>\n",
       "      <td>5ft 2in</td>\n",
       "      <td>NaN</td>\n",
       "      <td>123373</td>\n",
       "      <td>slightly long</td>\n",
       "      <td>5.0</td>\n",
       "      <td>NaN</td>\n",
       "      <td>NaN</td>\n",
       "      <td>NaN</td>\n",
       "      <td>NaN</td>\n",
       "      <td>18</td>\n",
       "      <td>944840</td>\n",
       "      <td>dberrones1</td>\n",
       "      <td>NaN</td>\n",
       "    </tr>\n",
       "  </tbody>\n",
       "</table>\n",
       "</div>"
      ],
      "text/plain": [
       "   bra size bust category cup size    fit   height  hips  item_id  \\\n",
       "0      34.0   36      new        d  small  5ft 6in  38.0   123373   \n",
       "1      36.0  NaN      new        b  small  5ft 2in  30.0   123373   \n",
       "2      32.0  NaN      new        b  small  5ft 7in   NaN   123373   \n",
       "3       NaN  NaN      new     dd/e    fit      NaN   NaN   123373   \n",
       "4      36.0  NaN      new        b  small  5ft 2in   NaN   123373   \n",
       "\n",
       "          length  quality review_summary review_text  shoe size shoe width  \\\n",
       "0     just right      5.0            NaN         NaN        NaN        NaN   \n",
       "1     just right      3.0            NaN         NaN        NaN        NaN   \n",
       "2  slightly long      2.0            NaN         NaN        9.0        NaN   \n",
       "3     just right      5.0            NaN         NaN        NaN        NaN   \n",
       "4  slightly long      5.0            NaN         NaN        NaN        NaN   \n",
       "\n",
       "   size  user_id         user_name  waist  \n",
       "0     7   991571             Emily   29.0  \n",
       "1    13   587883  sydneybraden2001   31.0  \n",
       "2     7   395665             Ugggh   30.0  \n",
       "3    21   875643      alexmeyer626    NaN  \n",
       "4    18   944840        dberrones1    NaN  "
      ]
     },
     "execution_count": 7,
     "metadata": {},
     "output_type": "execute_result"
    }
   ],
   "source": [
    "dfMod.head()"
   ]
  },
  {
   "cell_type": "markdown",
   "metadata": {},
   "source": [
    "#### values in 'height' column  are in format 'ft & in' which can be converted to cms for ModCloth dataset\n",
    "https://techstudy.org/python/Write-a-Python-program-to-convert-height-in-feet-and-inches-to-centimeters"
   ]
  },
  {
   "cell_type": "code",
   "execution_count": 8,
   "metadata": {},
   "outputs": [],
   "source": [
    "def get_height_in_cms(height):\n",
    "    if type(height) == type(1.0):\n",
    "        return\n",
    "    try: \n",
    "        h_inch = int(height[4:-2])\n",
    "        h_inch += int(height[0]) * 12\n",
    "        h_cm = round(h_inch * 2.54, 1)        \n",
    "        return h_cm\n",
    "    except:\n",
    "        return (int(height[0]) * 12 * 2.54)\n",
    "    \n",
    "dfMod['height'] = dfMod['height'].apply(get_height_in_cms)"
   ]
  },
  {
   "cell_type": "markdown",
   "metadata": {},
   "source": [
    "### Looking into the details of Renttherunway dataset"
   ]
  },
  {
   "cell_type": "code",
   "execution_count": 9,
   "metadata": {},
   "outputs": [
    {
     "data": {
      "text/html": [
       "<div>\n",
       "<style scoped>\n",
       "    .dataframe tbody tr th:only-of-type {\n",
       "        vertical-align: middle;\n",
       "    }\n",
       "\n",
       "    .dataframe tbody tr th {\n",
       "        vertical-align: top;\n",
       "    }\n",
       "\n",
       "    .dataframe thead th {\n",
       "        text-align: right;\n",
       "    }\n",
       "</style>\n",
       "<table border=\"1\" class=\"dataframe\">\n",
       "  <thead>\n",
       "    <tr style=\"text-align: right;\">\n",
       "      <th></th>\n",
       "      <th>age</th>\n",
       "      <th>item_id</th>\n",
       "      <th>rating</th>\n",
       "      <th>size</th>\n",
       "      <th>user_id</th>\n",
       "    </tr>\n",
       "  </thead>\n",
       "  <tbody>\n",
       "    <tr>\n",
       "      <th>count</th>\n",
       "      <td>191584.000000</td>\n",
       "      <td>1.925440e+05</td>\n",
       "      <td>192462.000000</td>\n",
       "      <td>192544.000000</td>\n",
       "      <td>192544.000000</td>\n",
       "    </tr>\n",
       "    <tr>\n",
       "      <th>mean</th>\n",
       "      <td>33.871017</td>\n",
       "      <td>1.045684e+06</td>\n",
       "      <td>9.092371</td>\n",
       "      <td>12.245175</td>\n",
       "      <td>499494.100149</td>\n",
       "    </tr>\n",
       "    <tr>\n",
       "      <th>std</th>\n",
       "      <td>8.058083</td>\n",
       "      <td>8.053148e+05</td>\n",
       "      <td>1.430044</td>\n",
       "      <td>8.494877</td>\n",
       "      <td>289059.719328</td>\n",
       "    </tr>\n",
       "    <tr>\n",
       "      <th>min</th>\n",
       "      <td>0.000000</td>\n",
       "      <td>1.233730e+05</td>\n",
       "      <td>2.000000</td>\n",
       "      <td>0.000000</td>\n",
       "      <td>9.000000</td>\n",
       "    </tr>\n",
       "    <tr>\n",
       "      <th>25%</th>\n",
       "      <td>29.000000</td>\n",
       "      <td>1.950760e+05</td>\n",
       "      <td>8.000000</td>\n",
       "      <td>8.000000</td>\n",
       "      <td>250654.250000</td>\n",
       "    </tr>\n",
       "    <tr>\n",
       "      <th>50%</th>\n",
       "      <td>32.000000</td>\n",
       "      <td>9.483960e+05</td>\n",
       "      <td>10.000000</td>\n",
       "      <td>12.000000</td>\n",
       "      <td>499419.000000</td>\n",
       "    </tr>\n",
       "    <tr>\n",
       "      <th>75%</th>\n",
       "      <td>37.000000</td>\n",
       "      <td>1.678888e+06</td>\n",
       "      <td>10.000000</td>\n",
       "      <td>16.000000</td>\n",
       "      <td>750974.000000</td>\n",
       "    </tr>\n",
       "    <tr>\n",
       "      <th>max</th>\n",
       "      <td>117.000000</td>\n",
       "      <td>2.966087e+06</td>\n",
       "      <td>10.000000</td>\n",
       "      <td>58.000000</td>\n",
       "      <td>999997.000000</td>\n",
       "    </tr>\n",
       "  </tbody>\n",
       "</table>\n",
       "</div>"
      ],
      "text/plain": [
       "                 age       item_id         rating           size  \\\n",
       "count  191584.000000  1.925440e+05  192462.000000  192544.000000   \n",
       "mean       33.871017  1.045684e+06       9.092371      12.245175   \n",
       "std         8.058083  8.053148e+05       1.430044       8.494877   \n",
       "min         0.000000  1.233730e+05       2.000000       0.000000   \n",
       "25%        29.000000  1.950760e+05       8.000000       8.000000   \n",
       "50%        32.000000  9.483960e+05      10.000000      12.000000   \n",
       "75%        37.000000  1.678888e+06      10.000000      16.000000   \n",
       "max       117.000000  2.966087e+06      10.000000      58.000000   \n",
       "\n",
       "             user_id  \n",
       "count  192544.000000  \n",
       "mean   499494.100149  \n",
       "std    289059.719328  \n",
       "min         9.000000  \n",
       "25%    250654.250000  \n",
       "50%    499419.000000  \n",
       "75%    750974.000000  \n",
       "max    999997.000000  "
      ]
     },
     "execution_count": 9,
     "metadata": {},
     "output_type": "execute_result"
    }
   ],
   "source": [
    "dfRent.describe()"
   ]
  },
  {
   "cell_type": "code",
   "execution_count": 10,
   "metadata": {},
   "outputs": [
    {
     "name": "stdout",
     "output_type": "stream",
     "text": [
      "<class 'pandas.core.frame.DataFrame'>\n",
      "RangeIndex: 192544 entries, 0 to 192543\n",
      "Data columns (total 15 columns):\n",
      "age               191584 non-null float64\n",
      "body type         177907 non-null object\n",
      "bust size         174133 non-null object\n",
      "category          192544 non-null object\n",
      "fit               192544 non-null object\n",
      "height            191867 non-null object\n",
      "item_id           192544 non-null int64\n",
      "rating            192462 non-null float64\n",
      "rented for        192534 non-null object\n",
      "review_date       192544 non-null object\n",
      "review_summary    192544 non-null object\n",
      "review_text       192544 non-null object\n",
      "size              192544 non-null int64\n",
      "user_id           192544 non-null int64\n",
      "weight            162562 non-null object\n",
      "dtypes: float64(2), int64(3), object(10)\n",
      "memory usage: 22.0+ MB\n"
     ]
    }
   ],
   "source": [
    "dfRent.info()"
   ]
  },
  {
   "cell_type": "code",
   "execution_count": 11,
   "metadata": {},
   "outputs": [
    {
     "data": {
      "text/plain": [
       "age                0.50\n",
       "body type          7.60\n",
       "bust size          9.56\n",
       "category           0.00\n",
       "fit                0.00\n",
       "height             0.35\n",
       "item_id            0.00\n",
       "rating             0.04\n",
       "rented for         0.01\n",
       "review_date        0.00\n",
       "review_summary     0.00\n",
       "review_text        0.00\n",
       "size               0.00\n",
       "user_id            0.00\n",
       "weight            15.57\n",
       "dtype: float64"
      ]
     },
     "execution_count": 11,
     "metadata": {},
     "output_type": "execute_result"
    }
   ],
   "source": [
    "dfRent.isnull().mean().round(4) * 100"
   ]
  },
  {
   "cell_type": "markdown",
   "metadata": {},
   "source": [
    "####  Features 'bust' has 9.56%,'weight' has 15.57% and 'body type' has 7% of missing values"
   ]
  },
  {
   "cell_type": "code",
   "execution_count": 12,
   "metadata": {},
   "outputs": [
    {
     "data": {
      "text/html": [
       "<div>\n",
       "<style scoped>\n",
       "    .dataframe tbody tr th:only-of-type {\n",
       "        vertical-align: middle;\n",
       "    }\n",
       "\n",
       "    .dataframe tbody tr th {\n",
       "        vertical-align: top;\n",
       "    }\n",
       "\n",
       "    .dataframe thead th {\n",
       "        text-align: right;\n",
       "    }\n",
       "</style>\n",
       "<table border=\"1\" class=\"dataframe\">\n",
       "  <thead>\n",
       "    <tr style=\"text-align: right;\">\n",
       "      <th></th>\n",
       "      <th>age</th>\n",
       "      <th>body type</th>\n",
       "      <th>bust size</th>\n",
       "      <th>category</th>\n",
       "      <th>fit</th>\n",
       "      <th>height</th>\n",
       "      <th>item_id</th>\n",
       "      <th>rating</th>\n",
       "      <th>rented for</th>\n",
       "      <th>review_date</th>\n",
       "      <th>review_summary</th>\n",
       "      <th>review_text</th>\n",
       "      <th>size</th>\n",
       "      <th>user_id</th>\n",
       "      <th>weight</th>\n",
       "    </tr>\n",
       "  </thead>\n",
       "  <tbody>\n",
       "    <tr>\n",
       "      <th>0</th>\n",
       "      <td>28.0</td>\n",
       "      <td>hourglass</td>\n",
       "      <td>34d</td>\n",
       "      <td>romper</td>\n",
       "      <td>fit</td>\n",
       "      <td>5' 8\"</td>\n",
       "      <td>2260466</td>\n",
       "      <td>10.0</td>\n",
       "      <td>vacation</td>\n",
       "      <td>April 20, 2016</td>\n",
       "      <td>So many compliments!</td>\n",
       "      <td>An adorable romper! Belt and zipper were a lit...</td>\n",
       "      <td>14</td>\n",
       "      <td>420272</td>\n",
       "      <td>137lbs</td>\n",
       "    </tr>\n",
       "    <tr>\n",
       "      <th>1</th>\n",
       "      <td>36.0</td>\n",
       "      <td>straight &amp; narrow</td>\n",
       "      <td>34b</td>\n",
       "      <td>gown</td>\n",
       "      <td>fit</td>\n",
       "      <td>5' 6\"</td>\n",
       "      <td>153475</td>\n",
       "      <td>10.0</td>\n",
       "      <td>other</td>\n",
       "      <td>June 18, 2013</td>\n",
       "      <td>I felt so glamourous!!!</td>\n",
       "      <td>I rented this dress for a photo shoot. The the...</td>\n",
       "      <td>12</td>\n",
       "      <td>273551</td>\n",
       "      <td>132lbs</td>\n",
       "    </tr>\n",
       "    <tr>\n",
       "      <th>2</th>\n",
       "      <td>116.0</td>\n",
       "      <td>NaN</td>\n",
       "      <td>NaN</td>\n",
       "      <td>sheath</td>\n",
       "      <td>fit</td>\n",
       "      <td>5' 4\"</td>\n",
       "      <td>1063761</td>\n",
       "      <td>10.0</td>\n",
       "      <td>party</td>\n",
       "      <td>December 14, 2015</td>\n",
       "      <td>It was a great time to celebrate the (almost) ...</td>\n",
       "      <td>This hugged in all the right places! It was a ...</td>\n",
       "      <td>4</td>\n",
       "      <td>360448</td>\n",
       "      <td>NaN</td>\n",
       "    </tr>\n",
       "    <tr>\n",
       "      <th>3</th>\n",
       "      <td>34.0</td>\n",
       "      <td>pear</td>\n",
       "      <td>34c</td>\n",
       "      <td>dress</td>\n",
       "      <td>fit</td>\n",
       "      <td>5' 5\"</td>\n",
       "      <td>126335</td>\n",
       "      <td>8.0</td>\n",
       "      <td>formal affair</td>\n",
       "      <td>February 12, 2014</td>\n",
       "      <td>Dress arrived on time and in perfect condition.</td>\n",
       "      <td>I rented this for my company's black tie award...</td>\n",
       "      <td>8</td>\n",
       "      <td>909926</td>\n",
       "      <td>135lbs</td>\n",
       "    </tr>\n",
       "    <tr>\n",
       "      <th>4</th>\n",
       "      <td>27.0</td>\n",
       "      <td>athletic</td>\n",
       "      <td>34b</td>\n",
       "      <td>gown</td>\n",
       "      <td>fit</td>\n",
       "      <td>5' 9\"</td>\n",
       "      <td>616682</td>\n",
       "      <td>10.0</td>\n",
       "      <td>wedding</td>\n",
       "      <td>September 26, 2016</td>\n",
       "      <td>Was in love with this dress !!!</td>\n",
       "      <td>I have always been petite in my upper body and...</td>\n",
       "      <td>12</td>\n",
       "      <td>151944</td>\n",
       "      <td>145lbs</td>\n",
       "    </tr>\n",
       "  </tbody>\n",
       "</table>\n",
       "</div>"
      ],
      "text/plain": [
       "     age          body type bust size category  fit height  item_id  rating  \\\n",
       "0   28.0          hourglass       34d   romper  fit  5' 8\"  2260466    10.0   \n",
       "1   36.0  straight & narrow       34b     gown  fit  5' 6\"   153475    10.0   \n",
       "2  116.0                NaN       NaN   sheath  fit  5' 4\"  1063761    10.0   \n",
       "3   34.0               pear       34c    dress  fit  5' 5\"   126335     8.0   \n",
       "4   27.0           athletic       34b     gown  fit  5' 9\"   616682    10.0   \n",
       "\n",
       "      rented for         review_date  \\\n",
       "0       vacation      April 20, 2016   \n",
       "1          other       June 18, 2013   \n",
       "2          party   December 14, 2015   \n",
       "3  formal affair   February 12, 2014   \n",
       "4        wedding  September 26, 2016   \n",
       "\n",
       "                                      review_summary  \\\n",
       "0                               So many compliments!   \n",
       "1                            I felt so glamourous!!!   \n",
       "2  It was a great time to celebrate the (almost) ...   \n",
       "3   Dress arrived on time and in perfect condition.    \n",
       "4                    Was in love with this dress !!!   \n",
       "\n",
       "                                         review_text  size  user_id  weight  \n",
       "0  An adorable romper! Belt and zipper were a lit...    14   420272  137lbs  \n",
       "1  I rented this dress for a photo shoot. The the...    12   273551  132lbs  \n",
       "2  This hugged in all the right places! It was a ...     4   360448     NaN  \n",
       "3  I rented this for my company's black tie award...     8   909926  135lbs  \n",
       "4  I have always been petite in my upper body and...    12   151944  145lbs  "
      ]
     },
     "execution_count": 12,
     "metadata": {},
     "output_type": "execute_result"
    }
   ],
   "source": [
    "dfRent.head()"
   ]
  },
  {
   "cell_type": "markdown",
   "metadata": {},
   "source": [
    "#### values in 'height' column  are in format 'ft & in' which can be converted to cms for Rentherunway dataset\n",
    "https://techstudy.org/python/Write-a-Python-program-to-convert-height-in-feet-and-inches-to-centimeters"
   ]
  },
  {
   "cell_type": "code",
   "execution_count": 13,
   "metadata": {},
   "outputs": [],
   "source": [
    "def get_height_cms(height):\n",
    "    if type(height) == type(1.0):\n",
    "        return\n",
    "    try: \n",
    "        h_inch = int(height[3:-1])\n",
    "        h_inch += int(height[0]) * 12\n",
    "        h_cm = round(h_inch * 2.54, 1)        \n",
    "        return h_cm\n",
    "    except:\n",
    "        return (int(height[0]) * 12 * 2.54)\n",
    "\n",
    "dfRent['height'] = dfRent['height'].apply(get_height_cms)"
   ]
  },
  {
   "cell_type": "markdown",
   "metadata": {},
   "source": [
    "#### RenttheRunner dataset has the rating column on the scale of 1 to 10 and ModCloth dataset has the quality on the scale of 1  to 5. In order to merge the dataset we can convert the scale of RenttheRunner to scale of 1 to 5."
   ]
  },
  {
   "cell_type": "code",
   "execution_count": 14,
   "metadata": {},
   "outputs": [],
   "source": [
    "dfRent['quality'] = dfRent['rating']/2\n",
    "dfRent = dfRent.drop(columns={'rating'},axis=1)"
   ]
  },
  {
   "cell_type": "code",
   "execution_count": 15,
   "metadata": {},
   "outputs": [
    {
     "data": {
      "text/html": [
       "<div>\n",
       "<style scoped>\n",
       "    .dataframe tbody tr th:only-of-type {\n",
       "        vertical-align: middle;\n",
       "    }\n",
       "\n",
       "    .dataframe tbody tr th {\n",
       "        vertical-align: top;\n",
       "    }\n",
       "\n",
       "    .dataframe thead th {\n",
       "        text-align: right;\n",
       "    }\n",
       "</style>\n",
       "<table border=\"1\" class=\"dataframe\">\n",
       "  <thead>\n",
       "    <tr style=\"text-align: right;\">\n",
       "      <th></th>\n",
       "      <th>age</th>\n",
       "      <th>body type</th>\n",
       "      <th>bust size</th>\n",
       "      <th>category</th>\n",
       "      <th>fit</th>\n",
       "      <th>height</th>\n",
       "      <th>item_id</th>\n",
       "      <th>rented for</th>\n",
       "      <th>review_date</th>\n",
       "      <th>review_summary</th>\n",
       "      <th>review_text</th>\n",
       "      <th>size</th>\n",
       "      <th>user_id</th>\n",
       "      <th>weight</th>\n",
       "      <th>quality</th>\n",
       "    </tr>\n",
       "  </thead>\n",
       "  <tbody>\n",
       "    <tr>\n",
       "      <th>0</th>\n",
       "      <td>28.0</td>\n",
       "      <td>hourglass</td>\n",
       "      <td>34d</td>\n",
       "      <td>romper</td>\n",
       "      <td>fit</td>\n",
       "      <td>172.7</td>\n",
       "      <td>2260466</td>\n",
       "      <td>vacation</td>\n",
       "      <td>April 20, 2016</td>\n",
       "      <td>So many compliments!</td>\n",
       "      <td>An adorable romper! Belt and zipper were a lit...</td>\n",
       "      <td>14</td>\n",
       "      <td>420272</td>\n",
       "      <td>137lbs</td>\n",
       "      <td>5.0</td>\n",
       "    </tr>\n",
       "    <tr>\n",
       "      <th>1</th>\n",
       "      <td>36.0</td>\n",
       "      <td>straight &amp; narrow</td>\n",
       "      <td>34b</td>\n",
       "      <td>gown</td>\n",
       "      <td>fit</td>\n",
       "      <td>167.6</td>\n",
       "      <td>153475</td>\n",
       "      <td>other</td>\n",
       "      <td>June 18, 2013</td>\n",
       "      <td>I felt so glamourous!!!</td>\n",
       "      <td>I rented this dress for a photo shoot. The the...</td>\n",
       "      <td>12</td>\n",
       "      <td>273551</td>\n",
       "      <td>132lbs</td>\n",
       "      <td>5.0</td>\n",
       "    </tr>\n",
       "    <tr>\n",
       "      <th>2</th>\n",
       "      <td>116.0</td>\n",
       "      <td>NaN</td>\n",
       "      <td>NaN</td>\n",
       "      <td>sheath</td>\n",
       "      <td>fit</td>\n",
       "      <td>162.6</td>\n",
       "      <td>1063761</td>\n",
       "      <td>party</td>\n",
       "      <td>December 14, 2015</td>\n",
       "      <td>It was a great time to celebrate the (almost) ...</td>\n",
       "      <td>This hugged in all the right places! It was a ...</td>\n",
       "      <td>4</td>\n",
       "      <td>360448</td>\n",
       "      <td>NaN</td>\n",
       "      <td>5.0</td>\n",
       "    </tr>\n",
       "    <tr>\n",
       "      <th>3</th>\n",
       "      <td>34.0</td>\n",
       "      <td>pear</td>\n",
       "      <td>34c</td>\n",
       "      <td>dress</td>\n",
       "      <td>fit</td>\n",
       "      <td>165.1</td>\n",
       "      <td>126335</td>\n",
       "      <td>formal affair</td>\n",
       "      <td>February 12, 2014</td>\n",
       "      <td>Dress arrived on time and in perfect condition.</td>\n",
       "      <td>I rented this for my company's black tie award...</td>\n",
       "      <td>8</td>\n",
       "      <td>909926</td>\n",
       "      <td>135lbs</td>\n",
       "      <td>4.0</td>\n",
       "    </tr>\n",
       "    <tr>\n",
       "      <th>4</th>\n",
       "      <td>27.0</td>\n",
       "      <td>athletic</td>\n",
       "      <td>34b</td>\n",
       "      <td>gown</td>\n",
       "      <td>fit</td>\n",
       "      <td>175.3</td>\n",
       "      <td>616682</td>\n",
       "      <td>wedding</td>\n",
       "      <td>September 26, 2016</td>\n",
       "      <td>Was in love with this dress !!!</td>\n",
       "      <td>I have always been petite in my upper body and...</td>\n",
       "      <td>12</td>\n",
       "      <td>151944</td>\n",
       "      <td>145lbs</td>\n",
       "      <td>5.0</td>\n",
       "    </tr>\n",
       "  </tbody>\n",
       "</table>\n",
       "</div>"
      ],
      "text/plain": [
       "     age          body type bust size category  fit  height  item_id  \\\n",
       "0   28.0          hourglass       34d   romper  fit   172.7  2260466   \n",
       "1   36.0  straight & narrow       34b     gown  fit   167.6   153475   \n",
       "2  116.0                NaN       NaN   sheath  fit   162.6  1063761   \n",
       "3   34.0               pear       34c    dress  fit   165.1   126335   \n",
       "4   27.0           athletic       34b     gown  fit   175.3   616682   \n",
       "\n",
       "      rented for         review_date  \\\n",
       "0       vacation      April 20, 2016   \n",
       "1          other       June 18, 2013   \n",
       "2          party   December 14, 2015   \n",
       "3  formal affair   February 12, 2014   \n",
       "4        wedding  September 26, 2016   \n",
       "\n",
       "                                      review_summary  \\\n",
       "0                               So many compliments!   \n",
       "1                            I felt so glamourous!!!   \n",
       "2  It was a great time to celebrate the (almost) ...   \n",
       "3   Dress arrived on time and in perfect condition.    \n",
       "4                    Was in love with this dress !!!   \n",
       "\n",
       "                                         review_text  size  user_id  weight  \\\n",
       "0  An adorable romper! Belt and zipper were a lit...    14   420272  137lbs   \n",
       "1  I rented this dress for a photo shoot. The the...    12   273551  132lbs   \n",
       "2  This hugged in all the right places! It was a ...     4   360448     NaN   \n",
       "3  I rented this for my company's black tie award...     8   909926  135lbs   \n",
       "4  I have always been petite in my upper body and...    12   151944  145lbs   \n",
       "\n",
       "   quality  \n",
       "0      5.0  \n",
       "1      5.0  \n",
       "2      5.0  \n",
       "3      4.0  \n",
       "4      5.0  "
      ]
     },
     "execution_count": 15,
     "metadata": {},
     "output_type": "execute_result"
    }
   ],
   "source": [
    "dfRent.head()"
   ]
  },
  {
   "cell_type": "markdown",
   "metadata": {},
   "source": [
    "### Merge the two datasets"
   ]
  },
  {
   "cell_type": "code",
   "execution_count": 16,
   "metadata": {},
   "outputs": [],
   "source": [
    "mergedDF = dfMod.append(dfRent, sort=False,ignore_index=True)"
   ]
  },
  {
   "cell_type": "code",
   "execution_count": 17,
   "metadata": {},
   "outputs": [
    {
     "data": {
      "text/html": [
       "<div>\n",
       "<style scoped>\n",
       "    .dataframe tbody tr th:only-of-type {\n",
       "        vertical-align: middle;\n",
       "    }\n",
       "\n",
       "    .dataframe tbody tr th {\n",
       "        vertical-align: top;\n",
       "    }\n",
       "\n",
       "    .dataframe thead th {\n",
       "        text-align: right;\n",
       "    }\n",
       "</style>\n",
       "<table border=\"1\" class=\"dataframe\">\n",
       "  <thead>\n",
       "    <tr style=\"text-align: right;\">\n",
       "      <th></th>\n",
       "      <th>bra size</th>\n",
       "      <th>bust</th>\n",
       "      <th>category</th>\n",
       "      <th>cup size</th>\n",
       "      <th>fit</th>\n",
       "      <th>height</th>\n",
       "      <th>hips</th>\n",
       "      <th>item_id</th>\n",
       "      <th>length</th>\n",
       "      <th>quality</th>\n",
       "      <th>...</th>\n",
       "      <th>size</th>\n",
       "      <th>user_id</th>\n",
       "      <th>user_name</th>\n",
       "      <th>waist</th>\n",
       "      <th>age</th>\n",
       "      <th>body type</th>\n",
       "      <th>bust size</th>\n",
       "      <th>rented for</th>\n",
       "      <th>review_date</th>\n",
       "      <th>weight</th>\n",
       "    </tr>\n",
       "  </thead>\n",
       "  <tbody>\n",
       "    <tr>\n",
       "      <th>0</th>\n",
       "      <td>34.0</td>\n",
       "      <td>36</td>\n",
       "      <td>new</td>\n",
       "      <td>d</td>\n",
       "      <td>small</td>\n",
       "      <td>167.6</td>\n",
       "      <td>38.0</td>\n",
       "      <td>123373</td>\n",
       "      <td>just right</td>\n",
       "      <td>5.0</td>\n",
       "      <td>...</td>\n",
       "      <td>7</td>\n",
       "      <td>991571</td>\n",
       "      <td>Emily</td>\n",
       "      <td>29.0</td>\n",
       "      <td>NaN</td>\n",
       "      <td>NaN</td>\n",
       "      <td>NaN</td>\n",
       "      <td>NaN</td>\n",
       "      <td>NaN</td>\n",
       "      <td>NaN</td>\n",
       "    </tr>\n",
       "    <tr>\n",
       "      <th>1</th>\n",
       "      <td>36.0</td>\n",
       "      <td>NaN</td>\n",
       "      <td>new</td>\n",
       "      <td>b</td>\n",
       "      <td>small</td>\n",
       "      <td>157.5</td>\n",
       "      <td>30.0</td>\n",
       "      <td>123373</td>\n",
       "      <td>just right</td>\n",
       "      <td>3.0</td>\n",
       "      <td>...</td>\n",
       "      <td>13</td>\n",
       "      <td>587883</td>\n",
       "      <td>sydneybraden2001</td>\n",
       "      <td>31.0</td>\n",
       "      <td>NaN</td>\n",
       "      <td>NaN</td>\n",
       "      <td>NaN</td>\n",
       "      <td>NaN</td>\n",
       "      <td>NaN</td>\n",
       "      <td>NaN</td>\n",
       "    </tr>\n",
       "    <tr>\n",
       "      <th>2</th>\n",
       "      <td>32.0</td>\n",
       "      <td>NaN</td>\n",
       "      <td>new</td>\n",
       "      <td>b</td>\n",
       "      <td>small</td>\n",
       "      <td>170.2</td>\n",
       "      <td>NaN</td>\n",
       "      <td>123373</td>\n",
       "      <td>slightly long</td>\n",
       "      <td>2.0</td>\n",
       "      <td>...</td>\n",
       "      <td>7</td>\n",
       "      <td>395665</td>\n",
       "      <td>Ugggh</td>\n",
       "      <td>30.0</td>\n",
       "      <td>NaN</td>\n",
       "      <td>NaN</td>\n",
       "      <td>NaN</td>\n",
       "      <td>NaN</td>\n",
       "      <td>NaN</td>\n",
       "      <td>NaN</td>\n",
       "    </tr>\n",
       "    <tr>\n",
       "      <th>3</th>\n",
       "      <td>NaN</td>\n",
       "      <td>NaN</td>\n",
       "      <td>new</td>\n",
       "      <td>dd/e</td>\n",
       "      <td>fit</td>\n",
       "      <td>NaN</td>\n",
       "      <td>NaN</td>\n",
       "      <td>123373</td>\n",
       "      <td>just right</td>\n",
       "      <td>5.0</td>\n",
       "      <td>...</td>\n",
       "      <td>21</td>\n",
       "      <td>875643</td>\n",
       "      <td>alexmeyer626</td>\n",
       "      <td>NaN</td>\n",
       "      <td>NaN</td>\n",
       "      <td>NaN</td>\n",
       "      <td>NaN</td>\n",
       "      <td>NaN</td>\n",
       "      <td>NaN</td>\n",
       "      <td>NaN</td>\n",
       "    </tr>\n",
       "    <tr>\n",
       "      <th>4</th>\n",
       "      <td>36.0</td>\n",
       "      <td>NaN</td>\n",
       "      <td>new</td>\n",
       "      <td>b</td>\n",
       "      <td>small</td>\n",
       "      <td>157.5</td>\n",
       "      <td>NaN</td>\n",
       "      <td>123373</td>\n",
       "      <td>slightly long</td>\n",
       "      <td>5.0</td>\n",
       "      <td>...</td>\n",
       "      <td>18</td>\n",
       "      <td>944840</td>\n",
       "      <td>dberrones1</td>\n",
       "      <td>NaN</td>\n",
       "      <td>NaN</td>\n",
       "      <td>NaN</td>\n",
       "      <td>NaN</td>\n",
       "      <td>NaN</td>\n",
       "      <td>NaN</td>\n",
       "      <td>NaN</td>\n",
       "    </tr>\n",
       "  </tbody>\n",
       "</table>\n",
       "<p>5 rows × 24 columns</p>\n",
       "</div>"
      ],
      "text/plain": [
       "   bra size bust category cup size    fit  height  hips  item_id  \\\n",
       "0      34.0   36      new        d  small   167.6  38.0   123373   \n",
       "1      36.0  NaN      new        b  small   157.5  30.0   123373   \n",
       "2      32.0  NaN      new        b  small   170.2   NaN   123373   \n",
       "3       NaN  NaN      new     dd/e    fit     NaN   NaN   123373   \n",
       "4      36.0  NaN      new        b  small   157.5   NaN   123373   \n",
       "\n",
       "          length  quality  ...   size user_id         user_name waist  age  \\\n",
       "0     just right      5.0  ...      7  991571             Emily  29.0  NaN   \n",
       "1     just right      3.0  ...     13  587883  sydneybraden2001  31.0  NaN   \n",
       "2  slightly long      2.0  ...      7  395665             Ugggh  30.0  NaN   \n",
       "3     just right      5.0  ...     21  875643      alexmeyer626   NaN  NaN   \n",
       "4  slightly long      5.0  ...     18  944840        dberrones1   NaN  NaN   \n",
       "\n",
       "   body type bust size  rented for  review_date weight  \n",
       "0        NaN       NaN         NaN          NaN    NaN  \n",
       "1        NaN       NaN         NaN          NaN    NaN  \n",
       "2        NaN       NaN         NaN          NaN    NaN  \n",
       "3        NaN       NaN         NaN          NaN    NaN  \n",
       "4        NaN       NaN         NaN          NaN    NaN  \n",
       "\n",
       "[5 rows x 24 columns]"
      ]
     },
     "execution_count": 17,
     "metadata": {},
     "output_type": "execute_result"
    }
   ],
   "source": [
    "mergedDF.head()"
   ]
  },
  {
   "cell_type": "code",
   "execution_count": 18,
   "metadata": {},
   "outputs": [
    {
     "data": {
      "text/html": [
       "<div>\n",
       "<style scoped>\n",
       "    .dataframe tbody tr th:only-of-type {\n",
       "        vertical-align: middle;\n",
       "    }\n",
       "\n",
       "    .dataframe tbody tr th {\n",
       "        vertical-align: top;\n",
       "    }\n",
       "\n",
       "    .dataframe thead th {\n",
       "        text-align: right;\n",
       "    }\n",
       "</style>\n",
       "<table border=\"1\" class=\"dataframe\">\n",
       "  <thead>\n",
       "    <tr style=\"text-align: right;\">\n",
       "      <th></th>\n",
       "      <th>bra size</th>\n",
       "      <th>height</th>\n",
       "      <th>hips</th>\n",
       "      <th>item_id</th>\n",
       "      <th>quality</th>\n",
       "      <th>shoe size</th>\n",
       "      <th>size</th>\n",
       "      <th>user_id</th>\n",
       "      <th>waist</th>\n",
       "      <th>age</th>\n",
       "    </tr>\n",
       "  </thead>\n",
       "  <tbody>\n",
       "    <tr>\n",
       "      <th>count</th>\n",
       "      <td>76772.000000</td>\n",
       "      <td>273550.000000</td>\n",
       "      <td>56064.000000</td>\n",
       "      <td>2.753340e+05</td>\n",
       "      <td>275184.000000</td>\n",
       "      <td>27915.000000</td>\n",
       "      <td>275334.000000</td>\n",
       "      <td>275334.000000</td>\n",
       "      <td>2882.000000</td>\n",
       "      <td>191584.000000</td>\n",
       "    </tr>\n",
       "    <tr>\n",
       "      <th>mean</th>\n",
       "      <td>35.972125</td>\n",
       "      <td>165.765608</td>\n",
       "      <td>40.358501</td>\n",
       "      <td>8.723788e+05</td>\n",
       "      <td>4.366686</td>\n",
       "      <td>8.145818</td>\n",
       "      <td>12.370390</td>\n",
       "      <td>499300.295212</td>\n",
       "      <td>31.319223</td>\n",
       "      <td>33.871017</td>\n",
       "    </tr>\n",
       "    <tr>\n",
       "      <th>std</th>\n",
       "      <td>3.224907</td>\n",
       "      <td>6.914054</td>\n",
       "      <td>5.827166</td>\n",
       "      <td>7.329026e+05</td>\n",
       "      <td>0.853706</td>\n",
       "      <td>1.336109</td>\n",
       "      <td>8.430614</td>\n",
       "      <td>288249.327638</td>\n",
       "      <td>5.302849</td>\n",
       "      <td>8.058083</td>\n",
       "    </tr>\n",
       "    <tr>\n",
       "      <th>min</th>\n",
       "      <td>28.000000</td>\n",
       "      <td>91.440000</td>\n",
       "      <td>30.000000</td>\n",
       "      <td>1.233730e+05</td>\n",
       "      <td>1.000000</td>\n",
       "      <td>5.000000</td>\n",
       "      <td>0.000000</td>\n",
       "      <td>6.000000</td>\n",
       "      <td>20.000000</td>\n",
       "      <td>0.000000</td>\n",
       "    </tr>\n",
       "    <tr>\n",
       "      <th>25%</th>\n",
       "      <td>34.000000</td>\n",
       "      <td>160.000000</td>\n",
       "      <td>36.000000</td>\n",
       "      <td>2.224670e+05</td>\n",
       "      <td>4.000000</td>\n",
       "      <td>7.000000</td>\n",
       "      <td>8.000000</td>\n",
       "      <td>251353.500000</td>\n",
       "      <td>28.000000</td>\n",
       "      <td>29.000000</td>\n",
       "    </tr>\n",
       "    <tr>\n",
       "      <th>50%</th>\n",
       "      <td>36.000000</td>\n",
       "      <td>165.100000</td>\n",
       "      <td>39.000000</td>\n",
       "      <td>6.552110e+05</td>\n",
       "      <td>5.000000</td>\n",
       "      <td>8.000000</td>\n",
       "      <td>12.000000</td>\n",
       "      <td>498924.000000</td>\n",
       "      <td>30.000000</td>\n",
       "      <td>32.000000</td>\n",
       "    </tr>\n",
       "    <tr>\n",
       "      <th>75%</th>\n",
       "      <td>38.000000</td>\n",
       "      <td>170.200000</td>\n",
       "      <td>43.000000</td>\n",
       "      <td>1.353371e+06</td>\n",
       "      <td>5.000000</td>\n",
       "      <td>9.000000</td>\n",
       "      <td>16.000000</td>\n",
       "      <td>749031.000000</td>\n",
       "      <td>34.000000</td>\n",
       "      <td>37.000000</td>\n",
       "    </tr>\n",
       "    <tr>\n",
       "      <th>max</th>\n",
       "      <td>48.000000</td>\n",
       "      <td>241.300000</td>\n",
       "      <td>60.000000</td>\n",
       "      <td>2.966087e+06</td>\n",
       "      <td>5.000000</td>\n",
       "      <td>38.000000</td>\n",
       "      <td>58.000000</td>\n",
       "      <td>999997.000000</td>\n",
       "      <td>50.000000</td>\n",
       "      <td>117.000000</td>\n",
       "    </tr>\n",
       "  </tbody>\n",
       "</table>\n",
       "</div>"
      ],
      "text/plain": [
       "           bra size         height          hips       item_id        quality  \\\n",
       "count  76772.000000  273550.000000  56064.000000  2.753340e+05  275184.000000   \n",
       "mean      35.972125     165.765608     40.358501  8.723788e+05       4.366686   \n",
       "std        3.224907       6.914054      5.827166  7.329026e+05       0.853706   \n",
       "min       28.000000      91.440000     30.000000  1.233730e+05       1.000000   \n",
       "25%       34.000000     160.000000     36.000000  2.224670e+05       4.000000   \n",
       "50%       36.000000     165.100000     39.000000  6.552110e+05       5.000000   \n",
       "75%       38.000000     170.200000     43.000000  1.353371e+06       5.000000   \n",
       "max       48.000000     241.300000     60.000000  2.966087e+06       5.000000   \n",
       "\n",
       "          shoe size           size        user_id        waist            age  \n",
       "count  27915.000000  275334.000000  275334.000000  2882.000000  191584.000000  \n",
       "mean       8.145818      12.370390  499300.295212    31.319223      33.871017  \n",
       "std        1.336109       8.430614  288249.327638     5.302849       8.058083  \n",
       "min        5.000000       0.000000       6.000000    20.000000       0.000000  \n",
       "25%        7.000000       8.000000  251353.500000    28.000000      29.000000  \n",
       "50%        8.000000      12.000000  498924.000000    30.000000      32.000000  \n",
       "75%        9.000000      16.000000  749031.000000    34.000000      37.000000  \n",
       "max       38.000000      58.000000  999997.000000    50.000000     117.000000  "
      ]
     },
     "execution_count": 18,
     "metadata": {},
     "output_type": "execute_result"
    }
   ],
   "source": [
    "mergedDF.describe()"
   ]
  },
  {
   "cell_type": "code",
   "execution_count": 19,
   "metadata": {},
   "outputs": [
    {
     "data": {
      "text/plain": [
       "(275334, 24)"
      ]
     },
     "execution_count": 19,
     "metadata": {},
     "output_type": "execute_result"
    }
   ],
   "source": [
    "mergedDF.shape"
   ]
  },
  {
   "cell_type": "code",
   "execution_count": 20,
   "metadata": {},
   "outputs": [
    {
     "data": {
      "text/plain": [
       "(82790, 18)"
      ]
     },
     "execution_count": 20,
     "metadata": {},
     "output_type": "execute_result"
    }
   ],
   "source": [
    "dfMod.shape"
   ]
  },
  {
   "cell_type": "code",
   "execution_count": 21,
   "metadata": {},
   "outputs": [
    {
     "data": {
      "text/plain": [
       "(192544, 15)"
      ]
     },
     "execution_count": 21,
     "metadata": {},
     "output_type": "execute_result"
    }
   ],
   "source": [
    "dfRent.shape"
   ]
  },
  {
   "cell_type": "code",
   "execution_count": 22,
   "metadata": {},
   "outputs": [
    {
     "name": "stdout",
     "output_type": "stream",
     "text": [
      "<class 'pandas.core.frame.DataFrame'>\n",
      "RangeIndex: 275334 entries, 0 to 275333\n",
      "Data columns (total 24 columns):\n",
      "bra size          76772 non-null float64\n",
      "bust              11854 non-null object\n",
      "category          275334 non-null object\n",
      "cup size          76535 non-null object\n",
      "fit               275334 non-null object\n",
      "height            273550 non-null float64\n",
      "hips              56064 non-null float64\n",
      "item_id           275334 non-null int64\n",
      "length            82755 non-null object\n",
      "quality           275184 non-null float64\n",
      "review_summary    268609 non-null object\n",
      "review_text       268609 non-null object\n",
      "shoe size         27915 non-null float64\n",
      "shoe width        18607 non-null object\n",
      "size              275334 non-null int64\n",
      "user_id           275334 non-null int64\n",
      "user_name         82790 non-null object\n",
      "waist             2882 non-null float64\n",
      "age               191584 non-null float64\n",
      "body type         177907 non-null object\n",
      "bust size         174133 non-null object\n",
      "rented for        192534 non-null object\n",
      "review_date       192544 non-null object\n",
      "weight            162562 non-null object\n",
      "dtypes: float64(7), int64(3), object(14)\n",
      "memory usage: 50.4+ MB\n"
     ]
    }
   ],
   "source": [
    "mergedDF.info()"
   ]
  },
  {
   "cell_type": "code",
   "execution_count": 23,
   "metadata": {},
   "outputs": [
    {
     "data": {
      "text/html": [
       "<div>\n",
       "<style scoped>\n",
       "    .dataframe tbody tr th:only-of-type {\n",
       "        vertical-align: middle;\n",
       "    }\n",
       "\n",
       "    .dataframe tbody tr th {\n",
       "        vertical-align: top;\n",
       "    }\n",
       "\n",
       "    .dataframe thead th {\n",
       "        text-align: right;\n",
       "    }\n",
       "</style>\n",
       "<table border=\"1\" class=\"dataframe\">\n",
       "  <thead>\n",
       "    <tr style=\"text-align: right;\">\n",
       "      <th></th>\n",
       "      <th>Missing values Count</th>\n",
       "      <th>Missing values Percentage</th>\n",
       "      <th>Data Type</th>\n",
       "    </tr>\n",
       "  </thead>\n",
       "  <tbody>\n",
       "    <tr>\n",
       "      <th>bra size</th>\n",
       "      <td>198562</td>\n",
       "      <td>72.12</td>\n",
       "      <td>float64</td>\n",
       "    </tr>\n",
       "    <tr>\n",
       "      <th>bust</th>\n",
       "      <td>263480</td>\n",
       "      <td>95.69</td>\n",
       "      <td>object</td>\n",
       "    </tr>\n",
       "    <tr>\n",
       "      <th>category</th>\n",
       "      <td>0</td>\n",
       "      <td>0.00</td>\n",
       "      <td>object</td>\n",
       "    </tr>\n",
       "    <tr>\n",
       "      <th>cup size</th>\n",
       "      <td>198799</td>\n",
       "      <td>72.20</td>\n",
       "      <td>object</td>\n",
       "    </tr>\n",
       "    <tr>\n",
       "      <th>fit</th>\n",
       "      <td>0</td>\n",
       "      <td>0.00</td>\n",
       "      <td>object</td>\n",
       "    </tr>\n",
       "    <tr>\n",
       "      <th>height</th>\n",
       "      <td>1784</td>\n",
       "      <td>0.65</td>\n",
       "      <td>float64</td>\n",
       "    </tr>\n",
       "    <tr>\n",
       "      <th>hips</th>\n",
       "      <td>219270</td>\n",
       "      <td>79.64</td>\n",
       "      <td>float64</td>\n",
       "    </tr>\n",
       "    <tr>\n",
       "      <th>item_id</th>\n",
       "      <td>0</td>\n",
       "      <td>0.00</td>\n",
       "      <td>int64</td>\n",
       "    </tr>\n",
       "    <tr>\n",
       "      <th>length</th>\n",
       "      <td>192579</td>\n",
       "      <td>69.94</td>\n",
       "      <td>object</td>\n",
       "    </tr>\n",
       "    <tr>\n",
       "      <th>quality</th>\n",
       "      <td>150</td>\n",
       "      <td>0.05</td>\n",
       "      <td>float64</td>\n",
       "    </tr>\n",
       "    <tr>\n",
       "      <th>review_summary</th>\n",
       "      <td>6725</td>\n",
       "      <td>2.44</td>\n",
       "      <td>object</td>\n",
       "    </tr>\n",
       "    <tr>\n",
       "      <th>review_text</th>\n",
       "      <td>6725</td>\n",
       "      <td>2.44</td>\n",
       "      <td>object</td>\n",
       "    </tr>\n",
       "    <tr>\n",
       "      <th>shoe size</th>\n",
       "      <td>247419</td>\n",
       "      <td>89.86</td>\n",
       "      <td>float64</td>\n",
       "    </tr>\n",
       "    <tr>\n",
       "      <th>shoe width</th>\n",
       "      <td>256727</td>\n",
       "      <td>93.24</td>\n",
       "      <td>object</td>\n",
       "    </tr>\n",
       "    <tr>\n",
       "      <th>size</th>\n",
       "      <td>0</td>\n",
       "      <td>0.00</td>\n",
       "      <td>int64</td>\n",
       "    </tr>\n",
       "    <tr>\n",
       "      <th>user_id</th>\n",
       "      <td>0</td>\n",
       "      <td>0.00</td>\n",
       "      <td>int64</td>\n",
       "    </tr>\n",
       "    <tr>\n",
       "      <th>user_name</th>\n",
       "      <td>192544</td>\n",
       "      <td>69.93</td>\n",
       "      <td>object</td>\n",
       "    </tr>\n",
       "    <tr>\n",
       "      <th>waist</th>\n",
       "      <td>272452</td>\n",
       "      <td>98.95</td>\n",
       "      <td>float64</td>\n",
       "    </tr>\n",
       "    <tr>\n",
       "      <th>age</th>\n",
       "      <td>83750</td>\n",
       "      <td>30.42</td>\n",
       "      <td>float64</td>\n",
       "    </tr>\n",
       "    <tr>\n",
       "      <th>body type</th>\n",
       "      <td>97427</td>\n",
       "      <td>35.39</td>\n",
       "      <td>object</td>\n",
       "    </tr>\n",
       "    <tr>\n",
       "      <th>bust size</th>\n",
       "      <td>101201</td>\n",
       "      <td>36.76</td>\n",
       "      <td>object</td>\n",
       "    </tr>\n",
       "    <tr>\n",
       "      <th>rented for</th>\n",
       "      <td>82800</td>\n",
       "      <td>30.07</td>\n",
       "      <td>object</td>\n",
       "    </tr>\n",
       "    <tr>\n",
       "      <th>review_date</th>\n",
       "      <td>82790</td>\n",
       "      <td>30.07</td>\n",
       "      <td>object</td>\n",
       "    </tr>\n",
       "    <tr>\n",
       "      <th>weight</th>\n",
       "      <td>112772</td>\n",
       "      <td>40.96</td>\n",
       "      <td>object</td>\n",
       "    </tr>\n",
       "  </tbody>\n",
       "</table>\n",
       "</div>"
      ],
      "text/plain": [
       "                Missing values Count  Missing values Percentage Data Type\n",
       "bra size                      198562                      72.12   float64\n",
       "bust                          263480                      95.69    object\n",
       "category                           0                       0.00    object\n",
       "cup size                      198799                      72.20    object\n",
       "fit                                0                       0.00    object\n",
       "height                          1784                       0.65   float64\n",
       "hips                          219270                      79.64   float64\n",
       "item_id                            0                       0.00     int64\n",
       "length                        192579                      69.94    object\n",
       "quality                          150                       0.05   float64\n",
       "review_summary                  6725                       2.44    object\n",
       "review_text                     6725                       2.44    object\n",
       "shoe size                     247419                      89.86   float64\n",
       "shoe width                    256727                      93.24    object\n",
       "size                               0                       0.00     int64\n",
       "user_id                            0                       0.00     int64\n",
       "user_name                     192544                      69.93    object\n",
       "waist                         272452                      98.95   float64\n",
       "age                            83750                      30.42   float64\n",
       "body type                      97427                      35.39    object\n",
       "bust size                     101201                      36.76    object\n",
       "rented for                     82800                      30.07    object\n",
       "review_date                    82790                      30.07    object\n",
       "weight                        112772                      40.96    object"
      ]
     },
     "execution_count": 23,
     "metadata": {},
     "output_type": "execute_result"
    }
   ],
   "source": [
    "data = {'Missing values Count': mergedDF.isnull().sum(),'Missing values Percentage': mergedDF.isnull().mean().round(4) * 100,\n",
    "        'Data Type': mergedDF.dtypes}\n",
    "nullDFcheck = pd.DataFrame(data=data) \n",
    "nullDFcheck"
   ]
  },
  {
   "cell_type": "markdown",
   "metadata": {},
   "source": [
    "## Preprocessing on the merged dataset"
   ]
  },
  {
   "cell_type": "markdown",
   "metadata": {},
   "source": [
    "### Feature 'weight' values are represented in the format 'xxxlbs' and will be converting it into numeric readable/understandable format."
   ]
  },
  {
   "cell_type": "code",
   "execution_count": 24,
   "metadata": {},
   "outputs": [],
   "source": [
    "def get_weight(weight):\n",
    "    if type(weight) == type(1.0):\n",
    "        return\n",
    "    weightN = int(weight[0:-3])        \n",
    "    return weightN\n",
    "\n",
    "mergedDF['weight'] = mergedDF['weight'].apply(get_weight)"
   ]
  },
  {
   "cell_type": "code",
   "execution_count": 25,
   "metadata": {},
   "outputs": [],
   "source": [
    "mergedDF['weight'] = mergedDF['weight'].astype('float')"
   ]
  },
  {
   "cell_type": "markdown",
   "metadata": {},
   "source": [
    "### Impute the missing values for 'weight' column with mean"
   ]
  },
  {
   "cell_type": "code",
   "execution_count": 26,
   "metadata": {},
   "outputs": [],
   "source": [
    "weightImp = np.array(mergedDF['weight']).reshape(-1, 1)\n",
    "imp = SimpleImputer(strategy='mean')\n",
    "mergedDF['weight'] = imp.fit_transform(weightImp)"
   ]
  },
  {
   "cell_type": "markdown",
   "metadata": {},
   "source": [
    "### The 'height' column has 0.65% of missing values we can impute the missing values by considering the mean factor"
   ]
  },
  {
   "cell_type": "code",
   "execution_count": 27,
   "metadata": {},
   "outputs": [],
   "source": [
    "heightImp = np.array(mergedDF['height']).reshape(-1, 1)\n",
    "imp = SimpleImputer(strategy='median')\n",
    "mergedDF['height'] = imp.fit_transform(heightImp)"
   ]
  },
  {
   "cell_type": "markdown",
   "metadata": {},
   "source": [
    "### We can consider dropping the columns 'waist','bust' since majority of values are missing and 'user_name' can also be dropped as we might not be using them for our analysis"
   ]
  },
  {
   "cell_type": "code",
   "execution_count": 28,
   "metadata": {},
   "outputs": [],
   "source": [
    "mergedDF = mergedDF.drop(columns={'waist','bust','user_name'})"
   ]
  },
  {
   "cell_type": "markdown",
   "metadata": {},
   "source": [
    "### 'quality' feature missing values can also be imputed with mean strategy"
   ]
  },
  {
   "cell_type": "code",
   "execution_count": 29,
   "metadata": {},
   "outputs": [],
   "source": [
    "qualityImp = np.array(mergedDF['quality']).reshape(-1, 1)\n",
    "imp = SimpleImputer(strategy='mean')\n",
    "mergedDF['quality'] = imp.fit_transform(qualityImp)"
   ]
  },
  {
   "cell_type": "markdown",
   "metadata": {},
   "source": [
    "### 'shoe width' feature missing values can be specified as 'Unspecifed' and this feature can be considered as categorical"
   ]
  },
  {
   "cell_type": "code",
   "execution_count": 30,
   "metadata": {},
   "outputs": [
    {
     "data": {
      "text/plain": [
       "array(['average', 'narrow', 'wide', nan], dtype=object)"
      ]
     },
     "execution_count": 30,
     "metadata": {},
     "output_type": "execute_result"
    }
   ],
   "source": [
    "mergedDF['shoe width'].sort_values(ascending=True).unique()"
   ]
  },
  {
   "cell_type": "code",
   "execution_count": 31,
   "metadata": {},
   "outputs": [],
   "source": [
    "mergedDF['shoe width'].fillna('Unspecified', inplace=True)\n",
    "mergedDF['shoe width'] = mergedDF['shoe width'].astype('category')"
   ]
  },
  {
   "cell_type": "markdown",
   "metadata": {},
   "source": [
    "### 'shoe size' feature can either be considered as categorical or can also be considered as numerical. For our analysis purpose i have retained it to be a numerical feature replacing the missing values with 0 which indicated that customer has not entered any details"
   ]
  },
  {
   "cell_type": "code",
   "execution_count": 32,
   "metadata": {},
   "outputs": [
    {
     "data": {
      "text/plain": [
       "array([ 5. ,  5.5,  6. ,  6.5,  7. ,  7.5,  8. ,  8.5,  9. ,  9.5, 10. ,\n",
       "       10.5, 11. , 11.5, 38. ,  nan])"
      ]
     },
     "execution_count": 32,
     "metadata": {},
     "output_type": "execute_result"
    }
   ],
   "source": [
    "mergedDF['shoe size'].sort_values(ascending=True).unique()"
   ]
  },
  {
   "cell_type": "code",
   "execution_count": 33,
   "metadata": {},
   "outputs": [],
   "source": [
    "mergedDF['shoe size'].fillna(0, inplace=True)\n",
    "mergedDF['shoe size'] = mergedDF['shoe size'].astype('float')"
   ]
  },
  {
   "cell_type": "markdown",
   "metadata": {},
   "source": [
    "### 'length' feature can be considered as categorical and the missing values can be replaced with a category called 'Unspecified'"
   ]
  },
  {
   "cell_type": "code",
   "execution_count": 34,
   "metadata": {},
   "outputs": [
    {
     "data": {
      "text/plain": [
       "array(['just right', 'slightly long', 'slightly short', 'very long',\n",
       "       'very short', nan], dtype=object)"
      ]
     },
     "execution_count": 34,
     "metadata": {},
     "output_type": "execute_result"
    }
   ],
   "source": [
    "mergedDF['length'].sort_values(ascending=True).unique()"
   ]
  },
  {
   "cell_type": "code",
   "execution_count": 35,
   "metadata": {},
   "outputs": [],
   "source": [
    "mergedDF['length'].fillna('Unspecified', inplace=True)\n",
    "mergedDF['length'] = mergedDF['length'].astype('category')"
   ]
  },
  {
   "cell_type": "markdown",
   "metadata": {},
   "source": [
    "### 'Hips' feature can be imputed for missing values with the mean strategy"
   ]
  },
  {
   "cell_type": "code",
   "execution_count": 36,
   "metadata": {},
   "outputs": [],
   "source": [
    "hipImp = np.array(mergedDF['hips']).reshape(-1, 1)\n",
    "imp = SimpleImputer(strategy='mean')\n",
    "mergedDF['hips'] = imp.fit_transform(hipImp)"
   ]
  },
  {
   "cell_type": "markdown",
   "metadata": {},
   "source": [
    "### 'cup size' feature can be considered as categorical and missing values can be replaced with class 'Unspecified'"
   ]
  },
  {
   "cell_type": "code",
   "execution_count": 37,
   "metadata": {},
   "outputs": [
    {
     "data": {
      "text/plain": [
       "array(['a', 'aa', 'b', 'c', 'd', 'dd/e', 'ddd/f', 'dddd/g', 'h', 'i', 'j',\n",
       "       'k', nan], dtype=object)"
      ]
     },
     "execution_count": 37,
     "metadata": {},
     "output_type": "execute_result"
    }
   ],
   "source": [
    "mergedDF['cup size'].sort_values(ascending=True).unique()"
   ]
  },
  {
   "cell_type": "code",
   "execution_count": 38,
   "metadata": {},
   "outputs": [],
   "source": [
    "mergedDF['cup size'].fillna('Unspecified', inplace=True)\n",
    "mergedDF['cup size'] = mergedDF['cup size'].astype('category')"
   ]
  },
  {
   "cell_type": "markdown",
   "metadata": {},
   "source": [
    "### 'bra size' feature can be considered as numeric type for our analysis and the missing values can be replaced with median "
   ]
  },
  {
   "cell_type": "code",
   "execution_count": 39,
   "metadata": {},
   "outputs": [
    {
     "data": {
      "text/plain": [
       "array([28., 30., 32., 34., 36., 38., 40., 42., 44., 46., 48., nan])"
      ]
     },
     "execution_count": 39,
     "metadata": {},
     "output_type": "execute_result"
    }
   ],
   "source": [
    "mergedDF['bra size'].sort_values(ascending=True).unique()"
   ]
  },
  {
   "cell_type": "code",
   "execution_count": 40,
   "metadata": {},
   "outputs": [],
   "source": [
    "bSizeImp = np.array(mergedDF['bra size']).reshape(-1, 1)\n",
    "imp = SimpleImputer(strategy='median')\n",
    "mergedDF['bra size'] = imp.fit_transform(bSizeImp)"
   ]
  },
  {
   "cell_type": "markdown",
   "metadata": {},
   "source": [
    "### 'rented for' feature can be considered as categorical and missing values can be replaced with class 'Unspecified'"
   ]
  },
  {
   "cell_type": "code",
   "execution_count": 41,
   "metadata": {},
   "outputs": [
    {
     "data": {
      "text/plain": [
       "array(['date', 'everyday', 'formal affair', 'other', 'party',\n",
       "       'party: cocktail', 'vacation', 'wedding', 'work', nan],\n",
       "      dtype=object)"
      ]
     },
     "execution_count": 41,
     "metadata": {},
     "output_type": "execute_result"
    }
   ],
   "source": [
    "mergedDF['rented for'].sort_values(ascending=True).unique()"
   ]
  },
  {
   "cell_type": "code",
   "execution_count": 42,
   "metadata": {},
   "outputs": [],
   "source": [
    "mergedDF['rented for'].fillna('Unspecified', inplace=True)\n",
    "mergedDF['rented for'] = mergedDF['rented for'].astype('category')"
   ]
  },
  {
   "cell_type": "markdown",
   "metadata": {},
   "source": [
    "### 'body type' feature can be considered as categorical and missing values can be replaced with class 'Unspecified'"
   ]
  },
  {
   "cell_type": "code",
   "execution_count": 43,
   "metadata": {},
   "outputs": [
    {
     "data": {
      "text/plain": [
       "array(['apple', 'athletic', 'full bust', 'hourglass', 'pear', 'petite',\n",
       "       'straight & narrow', nan], dtype=object)"
      ]
     },
     "execution_count": 43,
     "metadata": {},
     "output_type": "execute_result"
    }
   ],
   "source": [
    "mergedDF['body type'].sort_values(ascending=True).unique()"
   ]
  },
  {
   "cell_type": "code",
   "execution_count": 44,
   "metadata": {},
   "outputs": [],
   "source": [
    "mergedDF['body type'].fillna('Unspecified', inplace=True)\n",
    "mergedDF['body type'] = mergedDF['body type'].astype('category')"
   ]
  },
  {
   "cell_type": "markdown",
   "metadata": {},
   "source": [
    "### 'age' feature impute the missing values with median value"
   ]
  },
  {
   "cell_type": "code",
   "execution_count": 45,
   "metadata": {},
   "outputs": [],
   "source": [
    "ageImp = np.array(mergedDF['age']).reshape(-1, 1)\n",
    "imp = SimpleImputer(strategy='mean')\n",
    "mergedDF['age'] = imp.fit_transform(ageImp)"
   ]
  },
  {
   "cell_type": "code",
   "execution_count": 46,
   "metadata": {},
   "outputs": [],
   "source": [
    "mergedDF['age'] = mergedDF['age'].astype('int')"
   ]
  },
  {
   "cell_type": "markdown",
   "metadata": {},
   "source": [
    "### 'bust size' feature can be considered as categorical and missing values can be replaced with class 'Unspecified'"
   ]
  },
  {
   "cell_type": "code",
   "execution_count": 47,
   "metadata": {},
   "outputs": [
    {
     "data": {
      "text/plain": [
       "array(['28a', '28aa', '28b', '28c', '28d', '28dd', '28ddd/e', '28f',\n",
       "       '28g', '28h', '28i', '30a', '30aa', '30b', '30c', '30d', '30dd',\n",
       "       '30ddd/e', '30f', '30g', '30h', '30i', '32a', '32aa', '32b', '32c',\n",
       "       '32d', '32d+', '32dd', '32ddd/e', '32f', '32g', '32h', '32i',\n",
       "       '32j', '34a', '34aa', '34b', '34c', '34d', '34d+', '34dd',\n",
       "       '34ddd/e', '34f', '34g', '34h', '34i', '34j', '36a', '36aa', '36b',\n",
       "       '36c', '36d', '36d+', '36dd', '36ddd/e', '36f', '36g', '36h',\n",
       "       '36i', '36j', '38a', '38aa', '38b', '38c', '38d', '38d+', '38dd',\n",
       "       '38ddd/e', '38f', '38g', '38h', '38i', '38j', '40b', '40c', '40d',\n",
       "       '40dd', '40ddd/e', '40f', '40g', '40h', '40i', '40j', '42b', '42c',\n",
       "       '42d', '42dd', '42ddd/e', '42f', '42g', '42h', '42j', '44b', '44c',\n",
       "       '44d', '44dd', '44ddd/e', '44f', '44g', '44h', '46c', '46ddd/e',\n",
       "       '46f', '48d', '48dd', nan], dtype=object)"
      ]
     },
     "execution_count": 47,
     "metadata": {},
     "output_type": "execute_result"
    }
   ],
   "source": [
    "mergedDF['bust size'].sort_values(ascending=True).unique()"
   ]
  },
  {
   "cell_type": "code",
   "execution_count": 48,
   "metadata": {},
   "outputs": [],
   "source": [
    "mergedDF['bust size'].fillna('Unspecified', inplace=True)\n",
    "mergedDF['bust size'] = mergedDF['bust size'].astype('category')"
   ]
  },
  {
   "cell_type": "markdown",
   "metadata": {},
   "source": [
    "### 'review_date' feature can be dropped as we will not be considering this attribute for our analysis"
   ]
  },
  {
   "cell_type": "code",
   "execution_count": 49,
   "metadata": {},
   "outputs": [],
   "source": [
    "mergedDF = mergedDF.drop(columns={'review_date'})"
   ]
  },
  {
   "cell_type": "markdown",
   "metadata": {},
   "source": [
    "### feature 'category' can be considered as categorical"
   ]
  },
  {
   "cell_type": "code",
   "execution_count": 50,
   "metadata": {},
   "outputs": [
    {
     "data": {
      "text/plain": [
       "array(['ballgown', 'blazer', 'blouse', 'blouson', 'bomber', 'bottoms',\n",
       "       'buttondown', 'caftan', 'cami', 'cape', 'cardigan', 'coat',\n",
       "       'combo', 'crewneck', 'culotte', 'culottes', 'down', 'dress',\n",
       "       'dresses', 'duster', 'for', 'frock', 'gown', 'henley', 'hoodie',\n",
       "       'jacket', 'jeans', 'jogger', 'jumpsuit', 'kaftan', 'kimono',\n",
       "       'knit', 'legging', 'leggings', 'maxi', 'midi', 'mini', 'new',\n",
       "       'outerwear', 'overalls', 'overcoat', 'pant', 'pants', 'parka',\n",
       "       'peacoat', 'poncho', 'print', 'pullover', 'romper', 'sale',\n",
       "       'sheath', 'shift', 'shirt', 'shirtdress', 'skirt', 'skirts',\n",
       "       'skort', 'suit', 'sweater', 'sweatershirt', 'sweatpants',\n",
       "       'sweatshirt', 't-shirt', 'tank', 'tee', 'tight', 'top', 'tops',\n",
       "       'trench', 'trouser', 'trousers', 'tunic', 'turtleneck', 'vest',\n",
       "       'wedding'], dtype=object)"
      ]
     },
     "execution_count": 50,
     "metadata": {},
     "output_type": "execute_result"
    }
   ],
   "source": [
    "mergedDF['category'].sort_values(ascending=True).unique()"
   ]
  },
  {
   "cell_type": "code",
   "execution_count": 51,
   "metadata": {},
   "outputs": [],
   "source": [
    "mergedDF['category'] = mergedDF['category'].astype('category')"
   ]
  },
  {
   "cell_type": "markdown",
   "metadata": {},
   "source": [
    "### We can notice that quite a few features are duplicated with similar labels and this can be cleaned by updated the duplicate values \n",
    "#### For example 'skirt' 'skirts' & 'skort' falls under same category and we can group them together"
   ]
  },
  {
   "cell_type": "code",
   "execution_count": 52,
   "metadata": {},
   "outputs": [],
   "source": [
    "mergedDF['category'] = mergedDF['category'].replace(['skirts','skort'],'skirt')\n",
    "mergedDF['category'] = mergedDF['category'].replace(['culottes'],'culotte')\n",
    "mergedDF['category'] = mergedDF['category'].replace(['pants'],'pant')\n",
    "mergedDF['category'] = mergedDF['category'].replace(['tops'],'top')\n",
    "mergedDF['category'] = mergedDF['category'].replace(['dresses'],'dress')\n",
    "mergedDF['category'] = mergedDF['category'].replace(['legging'],'leggings')\n",
    "mergedDF['category'] = mergedDF['category'].replace(['blouson'],'blouse')\n",
    "mergedDF['category'] = mergedDF['category'].replace(['trousers'],'trouser')\n",
    "mergedDF['category'] = mergedDF['category'].replace(['down'],'gown')\n",
    "mergedDF['category'] = mergedDF['category'].replace(['for'],'frock')\n",
    "mergedDF['category'] = mergedDF['category'].replace(['caftan'],'kaftan')\n",
    "mergedDF['category'] = mergedDF['category'].replace(['shift'],'shirt')\n",
    "mergedDF['category'] = mergedDF['category'].replace(['tee'],'t-shirt')\n",
    "mergedDF['category'] = mergedDF['category'].replace(['sweatershirt'],'sweatshirt')"
   ]
  },
  {
   "cell_type": "code",
   "execution_count": 53,
   "metadata": {},
   "outputs": [
    {
     "data": {
      "text/plain": [
       "[new, dress, wedding, sale, top, ..., crewneck, parka, buttondown, sweatpants, jeans]\n",
       "Length: 60\n",
       "Categories (60, object): [new, dress, wedding, sale, ..., parka, buttondown, sweatpants, jeans]"
      ]
     },
     "execution_count": 53,
     "metadata": {},
     "output_type": "execute_result"
    }
   ],
   "source": [
    "mergedDF['category'].unique()"
   ]
  },
  {
   "cell_type": "markdown",
   "metadata": {},
   "source": [
    "### convert the feature 'fit' from categorical to numeric and create new feature 'fit_to_numeric'. This is be our target variable"
   ]
  },
  {
   "cell_type": "code",
   "execution_count": 54,
   "metadata": {},
   "outputs": [],
   "source": [
    "mergedDF['fit'] = mergedDF['fit'].astype('category')"
   ]
  },
  {
   "cell_type": "code",
   "execution_count": 55,
   "metadata": {},
   "outputs": [],
   "source": [
    "mappingFit=[{'col': 'fit','mapping': {'small': 1, 'fit': 2, 'large': 3}}]\n",
    "\n",
    "ceOrdFit = ce.OrdinalEncoder(cols=['fit'],return_df=True,mapping=mappingFit)\n",
    "mergedDF['fit_to_numeric'] = ceOrdFit.fit_transform(mergedDF['fit'])"
   ]
  },
  {
   "cell_type": "markdown",
   "metadata": {},
   "source": [
    "### features 'review_text' and 'review_summary' can be used when considering the opinion mining analysis but for analysis we are not considering these features"
   ]
  },
  {
   "cell_type": "code",
   "execution_count": 56,
   "metadata": {},
   "outputs": [],
   "source": [
    "mergedDF = mergedDF.drop(columns={'review_text','review_summary'},axis=1)"
   ]
  },
  {
   "cell_type": "code",
   "execution_count": 57,
   "metadata": {},
   "outputs": [
    {
     "data": {
      "text/html": [
       "<div>\n",
       "<style scoped>\n",
       "    .dataframe tbody tr th:only-of-type {\n",
       "        vertical-align: middle;\n",
       "    }\n",
       "\n",
       "    .dataframe tbody tr th {\n",
       "        vertical-align: top;\n",
       "    }\n",
       "\n",
       "    .dataframe thead th {\n",
       "        text-align: right;\n",
       "    }\n",
       "</style>\n",
       "<table border=\"1\" class=\"dataframe\">\n",
       "  <thead>\n",
       "    <tr style=\"text-align: right;\">\n",
       "      <th></th>\n",
       "      <th>bra size</th>\n",
       "      <th>category</th>\n",
       "      <th>cup size</th>\n",
       "      <th>fit</th>\n",
       "      <th>height</th>\n",
       "      <th>hips</th>\n",
       "      <th>item_id</th>\n",
       "      <th>length</th>\n",
       "      <th>quality</th>\n",
       "      <th>shoe size</th>\n",
       "      <th>shoe width</th>\n",
       "      <th>size</th>\n",
       "      <th>user_id</th>\n",
       "      <th>age</th>\n",
       "      <th>body type</th>\n",
       "      <th>bust size</th>\n",
       "      <th>rented for</th>\n",
       "      <th>weight</th>\n",
       "      <th>fit_to_numeric</th>\n",
       "    </tr>\n",
       "  </thead>\n",
       "  <tbody>\n",
       "    <tr>\n",
       "      <th>0</th>\n",
       "      <td>34.0</td>\n",
       "      <td>new</td>\n",
       "      <td>d</td>\n",
       "      <td>small</td>\n",
       "      <td>167.6</td>\n",
       "      <td>38.000000</td>\n",
       "      <td>123373</td>\n",
       "      <td>just right</td>\n",
       "      <td>5.0</td>\n",
       "      <td>0.0</td>\n",
       "      <td>Unspecified</td>\n",
       "      <td>7</td>\n",
       "      <td>991571</td>\n",
       "      <td>33</td>\n",
       "      <td>Unspecified</td>\n",
       "      <td>Unspecified</td>\n",
       "      <td>Unspecified</td>\n",
       "      <td>137.391709</td>\n",
       "      <td>1</td>\n",
       "    </tr>\n",
       "    <tr>\n",
       "      <th>1</th>\n",
       "      <td>36.0</td>\n",
       "      <td>new</td>\n",
       "      <td>b</td>\n",
       "      <td>small</td>\n",
       "      <td>157.5</td>\n",
       "      <td>30.000000</td>\n",
       "      <td>123373</td>\n",
       "      <td>just right</td>\n",
       "      <td>3.0</td>\n",
       "      <td>0.0</td>\n",
       "      <td>Unspecified</td>\n",
       "      <td>13</td>\n",
       "      <td>587883</td>\n",
       "      <td>33</td>\n",
       "      <td>Unspecified</td>\n",
       "      <td>Unspecified</td>\n",
       "      <td>Unspecified</td>\n",
       "      <td>137.391709</td>\n",
       "      <td>1</td>\n",
       "    </tr>\n",
       "    <tr>\n",
       "      <th>2</th>\n",
       "      <td>32.0</td>\n",
       "      <td>new</td>\n",
       "      <td>b</td>\n",
       "      <td>small</td>\n",
       "      <td>170.2</td>\n",
       "      <td>40.358501</td>\n",
       "      <td>123373</td>\n",
       "      <td>slightly long</td>\n",
       "      <td>2.0</td>\n",
       "      <td>9.0</td>\n",
       "      <td>Unspecified</td>\n",
       "      <td>7</td>\n",
       "      <td>395665</td>\n",
       "      <td>33</td>\n",
       "      <td>Unspecified</td>\n",
       "      <td>Unspecified</td>\n",
       "      <td>Unspecified</td>\n",
       "      <td>137.391709</td>\n",
       "      <td>1</td>\n",
       "    </tr>\n",
       "    <tr>\n",
       "      <th>3</th>\n",
       "      <td>36.0</td>\n",
       "      <td>new</td>\n",
       "      <td>dd/e</td>\n",
       "      <td>fit</td>\n",
       "      <td>165.1</td>\n",
       "      <td>40.358501</td>\n",
       "      <td>123373</td>\n",
       "      <td>just right</td>\n",
       "      <td>5.0</td>\n",
       "      <td>0.0</td>\n",
       "      <td>Unspecified</td>\n",
       "      <td>21</td>\n",
       "      <td>875643</td>\n",
       "      <td>33</td>\n",
       "      <td>Unspecified</td>\n",
       "      <td>Unspecified</td>\n",
       "      <td>Unspecified</td>\n",
       "      <td>137.391709</td>\n",
       "      <td>2</td>\n",
       "    </tr>\n",
       "    <tr>\n",
       "      <th>4</th>\n",
       "      <td>36.0</td>\n",
       "      <td>new</td>\n",
       "      <td>b</td>\n",
       "      <td>small</td>\n",
       "      <td>157.5</td>\n",
       "      <td>40.358501</td>\n",
       "      <td>123373</td>\n",
       "      <td>slightly long</td>\n",
       "      <td>5.0</td>\n",
       "      <td>0.0</td>\n",
       "      <td>Unspecified</td>\n",
       "      <td>18</td>\n",
       "      <td>944840</td>\n",
       "      <td>33</td>\n",
       "      <td>Unspecified</td>\n",
       "      <td>Unspecified</td>\n",
       "      <td>Unspecified</td>\n",
       "      <td>137.391709</td>\n",
       "      <td>1</td>\n",
       "    </tr>\n",
       "    <tr>\n",
       "      <th>5</th>\n",
       "      <td>36.0</td>\n",
       "      <td>new</td>\n",
       "      <td>c</td>\n",
       "      <td>small</td>\n",
       "      <td>162.6</td>\n",
       "      <td>41.000000</td>\n",
       "      <td>123373</td>\n",
       "      <td>just right</td>\n",
       "      <td>5.0</td>\n",
       "      <td>0.0</td>\n",
       "      <td>Unspecified</td>\n",
       "      <td>11</td>\n",
       "      <td>162012</td>\n",
       "      <td>33</td>\n",
       "      <td>Unspecified</td>\n",
       "      <td>Unspecified</td>\n",
       "      <td>Unspecified</td>\n",
       "      <td>137.391709</td>\n",
       "      <td>1</td>\n",
       "    </tr>\n",
       "    <tr>\n",
       "      <th>6</th>\n",
       "      <td>32.0</td>\n",
       "      <td>new</td>\n",
       "      <td>b</td>\n",
       "      <td>large</td>\n",
       "      <td>160.0</td>\n",
       "      <td>40.358501</td>\n",
       "      <td>123373</td>\n",
       "      <td>just right</td>\n",
       "      <td>1.0</td>\n",
       "      <td>0.0</td>\n",
       "      <td>Unspecified</td>\n",
       "      <td>5</td>\n",
       "      <td>114843</td>\n",
       "      <td>33</td>\n",
       "      <td>Unspecified</td>\n",
       "      <td>Unspecified</td>\n",
       "      <td>Unspecified</td>\n",
       "      <td>137.391709</td>\n",
       "      <td>3</td>\n",
       "    </tr>\n",
       "    <tr>\n",
       "      <th>7</th>\n",
       "      <td>38.0</td>\n",
       "      <td>new</td>\n",
       "      <td>d</td>\n",
       "      <td>small</td>\n",
       "      <td>165.1</td>\n",
       "      <td>42.000000</td>\n",
       "      <td>123373</td>\n",
       "      <td>just right</td>\n",
       "      <td>5.0</td>\n",
       "      <td>8.5</td>\n",
       "      <td>Unspecified</td>\n",
       "      <td>11</td>\n",
       "      <td>58869</td>\n",
       "      <td>33</td>\n",
       "      <td>Unspecified</td>\n",
       "      <td>Unspecified</td>\n",
       "      <td>Unspecified</td>\n",
       "      <td>137.391709</td>\n",
       "      <td>1</td>\n",
       "    </tr>\n",
       "    <tr>\n",
       "      <th>8</th>\n",
       "      <td>42.0</td>\n",
       "      <td>new</td>\n",
       "      <td>d</td>\n",
       "      <td>small</td>\n",
       "      <td>177.8</td>\n",
       "      <td>50.000000</td>\n",
       "      <td>123373</td>\n",
       "      <td>just right</td>\n",
       "      <td>4.0</td>\n",
       "      <td>11.0</td>\n",
       "      <td>wide</td>\n",
       "      <td>30</td>\n",
       "      <td>279568</td>\n",
       "      <td>33</td>\n",
       "      <td>Unspecified</td>\n",
       "      <td>Unspecified</td>\n",
       "      <td>Unspecified</td>\n",
       "      <td>137.391709</td>\n",
       "      <td>1</td>\n",
       "    </tr>\n",
       "    <tr>\n",
       "      <th>9</th>\n",
       "      <td>36.0</td>\n",
       "      <td>new</td>\n",
       "      <td>dd/e</td>\n",
       "      <td>fit</td>\n",
       "      <td>167.6</td>\n",
       "      <td>41.000000</td>\n",
       "      <td>123373</td>\n",
       "      <td>just right</td>\n",
       "      <td>5.0</td>\n",
       "      <td>9.0</td>\n",
       "      <td>Unspecified</td>\n",
       "      <td>13</td>\n",
       "      <td>950172</td>\n",
       "      <td>33</td>\n",
       "      <td>Unspecified</td>\n",
       "      <td>Unspecified</td>\n",
       "      <td>Unspecified</td>\n",
       "      <td>137.391709</td>\n",
       "      <td>2</td>\n",
       "    </tr>\n",
       "  </tbody>\n",
       "</table>\n",
       "</div>"
      ],
      "text/plain": [
       "   bra size category cup size    fit  height       hips  item_id  \\\n",
       "0      34.0      new        d  small   167.6  38.000000   123373   \n",
       "1      36.0      new        b  small   157.5  30.000000   123373   \n",
       "2      32.0      new        b  small   170.2  40.358501   123373   \n",
       "3      36.0      new     dd/e    fit   165.1  40.358501   123373   \n",
       "4      36.0      new        b  small   157.5  40.358501   123373   \n",
       "5      36.0      new        c  small   162.6  41.000000   123373   \n",
       "6      32.0      new        b  large   160.0  40.358501   123373   \n",
       "7      38.0      new        d  small   165.1  42.000000   123373   \n",
       "8      42.0      new        d  small   177.8  50.000000   123373   \n",
       "9      36.0      new     dd/e    fit   167.6  41.000000   123373   \n",
       "\n",
       "          length  quality  shoe size   shoe width  size  user_id  age  \\\n",
       "0     just right      5.0        0.0  Unspecified     7   991571   33   \n",
       "1     just right      3.0        0.0  Unspecified    13   587883   33   \n",
       "2  slightly long      2.0        9.0  Unspecified     7   395665   33   \n",
       "3     just right      5.0        0.0  Unspecified    21   875643   33   \n",
       "4  slightly long      5.0        0.0  Unspecified    18   944840   33   \n",
       "5     just right      5.0        0.0  Unspecified    11   162012   33   \n",
       "6     just right      1.0        0.0  Unspecified     5   114843   33   \n",
       "7     just right      5.0        8.5  Unspecified    11    58869   33   \n",
       "8     just right      4.0       11.0         wide    30   279568   33   \n",
       "9     just right      5.0        9.0  Unspecified    13   950172   33   \n",
       "\n",
       "     body type    bust size   rented for      weight  fit_to_numeric  \n",
       "0  Unspecified  Unspecified  Unspecified  137.391709               1  \n",
       "1  Unspecified  Unspecified  Unspecified  137.391709               1  \n",
       "2  Unspecified  Unspecified  Unspecified  137.391709               1  \n",
       "3  Unspecified  Unspecified  Unspecified  137.391709               2  \n",
       "4  Unspecified  Unspecified  Unspecified  137.391709               1  \n",
       "5  Unspecified  Unspecified  Unspecified  137.391709               1  \n",
       "6  Unspecified  Unspecified  Unspecified  137.391709               3  \n",
       "7  Unspecified  Unspecified  Unspecified  137.391709               1  \n",
       "8  Unspecified  Unspecified  Unspecified  137.391709               1  \n",
       "9  Unspecified  Unspecified  Unspecified  137.391709               2  "
      ]
     },
     "execution_count": 57,
     "metadata": {},
     "output_type": "execute_result"
    }
   ],
   "source": [
    "mergedDF.head(10)"
   ]
  },
  {
   "cell_type": "code",
   "execution_count": 58,
   "metadata": {},
   "outputs": [
    {
     "data": {
      "text/html": [
       "<div>\n",
       "<style scoped>\n",
       "    .dataframe tbody tr th:only-of-type {\n",
       "        vertical-align: middle;\n",
       "    }\n",
       "\n",
       "    .dataframe tbody tr th {\n",
       "        vertical-align: top;\n",
       "    }\n",
       "\n",
       "    .dataframe thead th {\n",
       "        text-align: right;\n",
       "    }\n",
       "</style>\n",
       "<table border=\"1\" class=\"dataframe\">\n",
       "  <thead>\n",
       "    <tr style=\"text-align: right;\">\n",
       "      <th></th>\n",
       "      <th>missing values count</th>\n",
       "      <th>missing values Percentage</th>\n",
       "      <th>Data Type</th>\n",
       "    </tr>\n",
       "  </thead>\n",
       "  <tbody>\n",
       "    <tr>\n",
       "      <th>bra size</th>\n",
       "      <td>0</td>\n",
       "      <td>0.0</td>\n",
       "      <td>float64</td>\n",
       "    </tr>\n",
       "    <tr>\n",
       "      <th>category</th>\n",
       "      <td>0</td>\n",
       "      <td>0.0</td>\n",
       "      <td>category</td>\n",
       "    </tr>\n",
       "    <tr>\n",
       "      <th>cup size</th>\n",
       "      <td>0</td>\n",
       "      <td>0.0</td>\n",
       "      <td>category</td>\n",
       "    </tr>\n",
       "    <tr>\n",
       "      <th>fit</th>\n",
       "      <td>0</td>\n",
       "      <td>0.0</td>\n",
       "      <td>category</td>\n",
       "    </tr>\n",
       "    <tr>\n",
       "      <th>height</th>\n",
       "      <td>0</td>\n",
       "      <td>0.0</td>\n",
       "      <td>float64</td>\n",
       "    </tr>\n",
       "    <tr>\n",
       "      <th>hips</th>\n",
       "      <td>0</td>\n",
       "      <td>0.0</td>\n",
       "      <td>float64</td>\n",
       "    </tr>\n",
       "    <tr>\n",
       "      <th>item_id</th>\n",
       "      <td>0</td>\n",
       "      <td>0.0</td>\n",
       "      <td>int64</td>\n",
       "    </tr>\n",
       "    <tr>\n",
       "      <th>length</th>\n",
       "      <td>0</td>\n",
       "      <td>0.0</td>\n",
       "      <td>category</td>\n",
       "    </tr>\n",
       "    <tr>\n",
       "      <th>quality</th>\n",
       "      <td>0</td>\n",
       "      <td>0.0</td>\n",
       "      <td>float64</td>\n",
       "    </tr>\n",
       "    <tr>\n",
       "      <th>shoe size</th>\n",
       "      <td>0</td>\n",
       "      <td>0.0</td>\n",
       "      <td>float64</td>\n",
       "    </tr>\n",
       "    <tr>\n",
       "      <th>shoe width</th>\n",
       "      <td>0</td>\n",
       "      <td>0.0</td>\n",
       "      <td>category</td>\n",
       "    </tr>\n",
       "    <tr>\n",
       "      <th>size</th>\n",
       "      <td>0</td>\n",
       "      <td>0.0</td>\n",
       "      <td>int64</td>\n",
       "    </tr>\n",
       "    <tr>\n",
       "      <th>user_id</th>\n",
       "      <td>0</td>\n",
       "      <td>0.0</td>\n",
       "      <td>int64</td>\n",
       "    </tr>\n",
       "    <tr>\n",
       "      <th>age</th>\n",
       "      <td>0</td>\n",
       "      <td>0.0</td>\n",
       "      <td>int64</td>\n",
       "    </tr>\n",
       "    <tr>\n",
       "      <th>body type</th>\n",
       "      <td>0</td>\n",
       "      <td>0.0</td>\n",
       "      <td>category</td>\n",
       "    </tr>\n",
       "    <tr>\n",
       "      <th>bust size</th>\n",
       "      <td>0</td>\n",
       "      <td>0.0</td>\n",
       "      <td>category</td>\n",
       "    </tr>\n",
       "    <tr>\n",
       "      <th>rented for</th>\n",
       "      <td>0</td>\n",
       "      <td>0.0</td>\n",
       "      <td>category</td>\n",
       "    </tr>\n",
       "    <tr>\n",
       "      <th>weight</th>\n",
       "      <td>0</td>\n",
       "      <td>0.0</td>\n",
       "      <td>float64</td>\n",
       "    </tr>\n",
       "    <tr>\n",
       "      <th>fit_to_numeric</th>\n",
       "      <td>0</td>\n",
       "      <td>0.0</td>\n",
       "      <td>int64</td>\n",
       "    </tr>\n",
       "  </tbody>\n",
       "</table>\n",
       "</div>"
      ],
      "text/plain": [
       "                missing values count   missing values Percentage Data Type\n",
       "bra size                           0                         0.0   float64\n",
       "category                           0                         0.0  category\n",
       "cup size                           0                         0.0  category\n",
       "fit                                0                         0.0  category\n",
       "height                             0                         0.0   float64\n",
       "hips                               0                         0.0   float64\n",
       "item_id                            0                         0.0     int64\n",
       "length                             0                         0.0  category\n",
       "quality                            0                         0.0   float64\n",
       "shoe size                          0                         0.0   float64\n",
       "shoe width                         0                         0.0  category\n",
       "size                               0                         0.0     int64\n",
       "user_id                            0                         0.0     int64\n",
       "age                                0                         0.0     int64\n",
       "body type                          0                         0.0  category\n",
       "bust size                          0                         0.0  category\n",
       "rented for                         0                         0.0  category\n",
       "weight                             0                         0.0   float64\n",
       "fit_to_numeric                     0                         0.0     int64"
      ]
     },
     "execution_count": 58,
     "metadata": {},
     "output_type": "execute_result"
    }
   ],
   "source": [
    "pd.DataFrame({'missing values count': mergedDF.isnull().sum(),' missing values Percentage': mergedDF.isnull().mean().round(4) * 100,\n",
    "              'Data Type': mergedDF.dtypes})"
   ]
  },
  {
   "cell_type": "code",
   "execution_count": 59,
   "metadata": {},
   "outputs": [
    {
     "data": {
      "text/plain": [
       "(275334, 19)"
      ]
     },
     "execution_count": 59,
     "metadata": {},
     "output_type": "execute_result"
    }
   ],
   "source": [
    "mergedDF.shape"
   ]
  },
  {
   "cell_type": "code",
   "execution_count": 60,
   "metadata": {},
   "outputs": [
    {
     "data": {
      "image/png": "[encoded data removed]",
      "text/plain": [
       "<Figure size 1008x720 with 2 Axes>"
      ]
     },
     "metadata": {
      "needs_background": "light"
     },
     "output_type": "display_data"
    }
   ],
   "source": [
    "import matplotlib.pyplot as plt\n",
    "import seaborn as sns\n",
    "sns.set()\n",
    "%matplotlib inline\n",
    "corr = mergedDF.corr()\n",
    "g = sns.heatmap(corr,  vmax=.3, center=0,\n",
    "            square=True, linewidths=.5, cbar_kws={\"shrink\": .5}, annot=True, fmt='.2f', cmap='coolwarm')\n",
    "sns.despine()\n",
    "g.figure.set_size_inches(14,10)\n",
    "    \n",
    "plt.show()"
   ]
  },
  {
   "cell_type": "markdown",
   "metadata": {},
   "source": [
    "### Save the merged dataset to a json file which can be accessed in other files for algorithm implementations"
   ]
  },
  {
   "cell_type": "code",
   "execution_count": 61,
   "metadata": {},
   "outputs": [],
   "source": [
    "mergedDF.to_json('updatedFitDF.json',lines=True,orient='records')"
   ]
  },
  {
   "cell_type": "markdown",
   "metadata": {},
   "source": [
    "### REFERENCES\n",
    "\n",
    "https://contrib.scikit-learn.org/categorical-encoding/index.html\n",
    "\n",
    "https://www.kaggle.com/rmisra/clothing-fit-dataset-for-size-recommendation\n",
    "\n",
    "https://seaborn.pydata.org/"
   ]
  },
  {
   "cell_type": "code",
   "execution_count": null,
   "metadata": {},
   "outputs": [],
   "source": []
  }
 ],
 "metadata": {
  "kernelspec": {
   "display_name": "Python 3",
   "language": "python",
   "name": "python3"
  },
  "language_info": {
   "codemirror_mode": {
    "name": "ipython",
    "version": 3
   },
   "file_extension": ".py",
   "mimetype": "text/x-python",
   "name": "python",
   "nbconvert_exporter": "python",
   "pygments_lexer": "ipython3",
   "version": "3.7.1"
  }
 },
 "nbformat": 4,
 "nbformat_minor": 2
}
