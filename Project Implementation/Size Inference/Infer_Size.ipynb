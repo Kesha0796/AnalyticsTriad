{
 "cells": [
  {
   "cell_type": "markdown",
   "metadata": {
    "colab_type": "text",
    "id": "dKCr7niBLzRW"
   },
   "source": [
    "**INFER/RECOMMEND SIZE FOR A CUSTOMER**\n",
    "\n",
    "For this analysiss we have only considered one of the two of the dataset\n",
    "\n",
    "This part of task was worked out together by all 3 of us equally. \n",
    "\n",
    "The preprocessing part was taken up from the already existing preprocessing file 'Fit-Prediction-Preprocessing-And-Merging-Dataset.ipynb'"
   ]
  },
  {
   "cell_type": "code",
   "execution_count": 0,
   "metadata": {
    "colab": {},
    "colab_type": "code",
    "id": "zO9xURDQEuu-"
   },
   "outputs": [],
   "source": [
    "from google.colab import drive\n",
    "drive.mount('/content/drive')"
   ]
  },
  {
   "cell_type": "markdown",
   "metadata": {},
   "source": [
    "https://seaborn.pydata.org/index.html\n",
    "\n",
    "https://matplotlib.org/"
   ]
  },
  {
   "cell_type": "code",
   "execution_count": 0,
   "metadata": {
    "colab": {},
    "colab_type": "code",
    "id": "ZS_j0ZtrFFXr"
   },
   "outputs": [],
   "source": [
    "import pandas as pd\n",
    "import numpy as np\n",
    "import warnings\n",
    "warnings.filterwarnings(\"ignore\")\n",
    "# Train and test split\n",
    "from sklearn.model_selection import train_test_split\n",
    "from sklearn.neighbors import KNeighborsClassifier"
   ]
  },
  {
   "cell_type": "code",
   "execution_count": 0,
   "metadata": {
    "colab": {},
    "colab_type": "code",
    "id": "R1PobpIVyY0I"
   },
   "outputs": [],
   "source": [
    "data = pd.read_json('/content/drive/My Drive/Colab Notebooks/256-project/renttherunway_final_data.json', lines=True)"
   ]
  },
  {
   "cell_type": "code",
   "execution_count": 4,
   "metadata": {
    "colab": {
     "base_uri": "https://localhost:8080/",
     "height": 513
    },
    "colab_type": "code",
    "id": "kopxGhimE6TK",
    "outputId": "ecef16dc-2940-430c-c2b1-f554fe040955"
   },
   "outputs": [
    {
     "data": {
      "text/html": [
       "<div>\n",
       "<style scoped>\n",
       "    .dataframe tbody tr th:only-of-type {\n",
       "        vertical-align: middle;\n",
       "    }\n",
       "\n",
       "    .dataframe tbody tr th {\n",
       "        vertical-align: top;\n",
       "    }\n",
       "\n",
       "    .dataframe thead th {\n",
       "        text-align: right;\n",
       "    }\n",
       "</style>\n",
       "<table border=\"1\" class=\"dataframe\">\n",
       "  <thead>\n",
       "    <tr style=\"text-align: right;\">\n",
       "      <th></th>\n",
       "      <th>fit</th>\n",
       "      <th>user_id</th>\n",
       "      <th>bust size</th>\n",
       "      <th>item_id</th>\n",
       "      <th>weight</th>\n",
       "      <th>rating</th>\n",
       "      <th>rented for</th>\n",
       "      <th>review_text</th>\n",
       "      <th>body type</th>\n",
       "      <th>review_summary</th>\n",
       "      <th>category</th>\n",
       "      <th>height</th>\n",
       "      <th>size</th>\n",
       "      <th>age</th>\n",
       "      <th>review_date</th>\n",
       "    </tr>\n",
       "  </thead>\n",
       "  <tbody>\n",
       "    <tr>\n",
       "      <th>0</th>\n",
       "      <td>fit</td>\n",
       "      <td>420272</td>\n",
       "      <td>34d</td>\n",
       "      <td>2260466</td>\n",
       "      <td>137lbs</td>\n",
       "      <td>10.0</td>\n",
       "      <td>vacation</td>\n",
       "      <td>An adorable romper! Belt and zipper were a lit...</td>\n",
       "      <td>hourglass</td>\n",
       "      <td>So many compliments!</td>\n",
       "      <td>romper</td>\n",
       "      <td>5' 8\"</td>\n",
       "      <td>14</td>\n",
       "      <td>28.0</td>\n",
       "      <td>April 20, 2016</td>\n",
       "    </tr>\n",
       "    <tr>\n",
       "      <th>1</th>\n",
       "      <td>fit</td>\n",
       "      <td>273551</td>\n",
       "      <td>34b</td>\n",
       "      <td>153475</td>\n",
       "      <td>132lbs</td>\n",
       "      <td>10.0</td>\n",
       "      <td>other</td>\n",
       "      <td>I rented this dress for a photo shoot. The the...</td>\n",
       "      <td>straight &amp; narrow</td>\n",
       "      <td>I felt so glamourous!!!</td>\n",
       "      <td>gown</td>\n",
       "      <td>5' 6\"</td>\n",
       "      <td>12</td>\n",
       "      <td>36.0</td>\n",
       "      <td>June 18, 2013</td>\n",
       "    </tr>\n",
       "    <tr>\n",
       "      <th>2</th>\n",
       "      <td>fit</td>\n",
       "      <td>360448</td>\n",
       "      <td>NaN</td>\n",
       "      <td>1063761</td>\n",
       "      <td>NaN</td>\n",
       "      <td>10.0</td>\n",
       "      <td>party</td>\n",
       "      <td>This hugged in all the right places! It was a ...</td>\n",
       "      <td>NaN</td>\n",
       "      <td>It was a great time to celebrate the (almost) ...</td>\n",
       "      <td>sheath</td>\n",
       "      <td>5' 4\"</td>\n",
       "      <td>4</td>\n",
       "      <td>116.0</td>\n",
       "      <td>December 14, 2015</td>\n",
       "    </tr>\n",
       "    <tr>\n",
       "      <th>3</th>\n",
       "      <td>fit</td>\n",
       "      <td>909926</td>\n",
       "      <td>34c</td>\n",
       "      <td>126335</td>\n",
       "      <td>135lbs</td>\n",
       "      <td>8.0</td>\n",
       "      <td>formal affair</td>\n",
       "      <td>I rented this for my company's black tie award...</td>\n",
       "      <td>pear</td>\n",
       "      <td>Dress arrived on time and in perfect condition.</td>\n",
       "      <td>dress</td>\n",
       "      <td>5' 5\"</td>\n",
       "      <td>8</td>\n",
       "      <td>34.0</td>\n",
       "      <td>February 12, 2014</td>\n",
       "    </tr>\n",
       "    <tr>\n",
       "      <th>4</th>\n",
       "      <td>fit</td>\n",
       "      <td>151944</td>\n",
       "      <td>34b</td>\n",
       "      <td>616682</td>\n",
       "      <td>145lbs</td>\n",
       "      <td>10.0</td>\n",
       "      <td>wedding</td>\n",
       "      <td>I have always been petite in my upper body and...</td>\n",
       "      <td>athletic</td>\n",
       "      <td>Was in love with this dress !!!</td>\n",
       "      <td>gown</td>\n",
       "      <td>5' 9\"</td>\n",
       "      <td>12</td>\n",
       "      <td>27.0</td>\n",
       "      <td>September 26, 2016</td>\n",
       "    </tr>\n",
       "  </tbody>\n",
       "</table>\n",
       "</div>"
      ],
      "text/plain": [
       "   fit  user_id bust size  item_id  ... height  size    age         review_date\n",
       "0  fit   420272       34d  2260466  ...  5' 8\"    14   28.0      April 20, 2016\n",
       "1  fit   273551       34b   153475  ...  5' 6\"    12   36.0       June 18, 2013\n",
       "2  fit   360448       NaN  1063761  ...  5' 4\"     4  116.0   December 14, 2015\n",
       "3  fit   909926       34c   126335  ...  5' 5\"     8   34.0   February 12, 2014\n",
       "4  fit   151944       34b   616682  ...  5' 9\"    12   27.0  September 26, 2016\n",
       "\n",
       "[5 rows x 15 columns]"
      ]
     },
     "execution_count": 4,
     "metadata": {
      "tags": []
     },
     "output_type": "execute_result"
    }
   ],
   "source": [
    "data.head()"
   ]
  },
  {
   "cell_type": "code",
   "execution_count": 5,
   "metadata": {
    "colab": {
     "base_uri": "https://localhost:8080/",
     "height": 204
    },
    "colab_type": "code",
    "id": "YD4S2rJuhgr9",
    "outputId": "47ae4cac-f3aa-4507-d382-621b669b16e6"
   },
   "outputs": [
    {
     "data": {
      "text/html": [
       "<div>\n",
       "<style scoped>\n",
       "    .dataframe tbody tr th:only-of-type {\n",
       "        vertical-align: middle;\n",
       "    }\n",
       "\n",
       "    .dataframe tbody tr th {\n",
       "        vertical-align: top;\n",
       "    }\n",
       "\n",
       "    .dataframe thead th {\n",
       "        text-align: right;\n",
       "    }\n",
       "</style>\n",
       "<table border=\"1\" class=\"dataframe\">\n",
       "  <thead>\n",
       "    <tr style=\"text-align: right;\">\n",
       "      <th></th>\n",
       "      <th>user_id</th>\n",
       "      <th>item_id</th>\n",
       "      <th>rating</th>\n",
       "      <th>size</th>\n",
       "      <th>age</th>\n",
       "    </tr>\n",
       "  </thead>\n",
       "  <tbody>\n",
       "    <tr>\n",
       "      <th>user_id</th>\n",
       "      <td>1.000000</td>\n",
       "      <td>-0.002721</td>\n",
       "      <td>-0.006973</td>\n",
       "      <td>0.003442</td>\n",
       "      <td>0.007424</td>\n",
       "    </tr>\n",
       "    <tr>\n",
       "      <th>item_id</th>\n",
       "      <td>-0.002721</td>\n",
       "      <td>1.000000</td>\n",
       "      <td>-0.001163</td>\n",
       "      <td>-0.044311</td>\n",
       "      <td>0.026516</td>\n",
       "    </tr>\n",
       "    <tr>\n",
       "      <th>rating</th>\n",
       "      <td>-0.006973</td>\n",
       "      <td>-0.001163</td>\n",
       "      <td>1.000000</td>\n",
       "      <td>-0.036731</td>\n",
       "      <td>-0.035280</td>\n",
       "    </tr>\n",
       "    <tr>\n",
       "      <th>size</th>\n",
       "      <td>0.003442</td>\n",
       "      <td>-0.044311</td>\n",
       "      <td>-0.036731</td>\n",
       "      <td>1.000000</td>\n",
       "      <td>0.155687</td>\n",
       "    </tr>\n",
       "    <tr>\n",
       "      <th>age</th>\n",
       "      <td>0.007424</td>\n",
       "      <td>0.026516</td>\n",
       "      <td>-0.035280</td>\n",
       "      <td>0.155687</td>\n",
       "      <td>1.000000</td>\n",
       "    </tr>\n",
       "  </tbody>\n",
       "</table>\n",
       "</div>"
      ],
      "text/plain": [
       "          user_id   item_id    rating      size       age\n",
       "user_id  1.000000 -0.002721 -0.006973  0.003442  0.007424\n",
       "item_id -0.002721  1.000000 -0.001163 -0.044311  0.026516\n",
       "rating  -0.006973 -0.001163  1.000000 -0.036731 -0.035280\n",
       "size     0.003442 -0.044311 -0.036731  1.000000  0.155687\n",
       "age      0.007424  0.026516 -0.035280  0.155687  1.000000"
      ]
     },
     "execution_count": 5,
     "metadata": {
      "tags": []
     },
     "output_type": "execute_result"
    }
   ],
   "source": [
    "data.corr()"
   ]
  },
  {
   "cell_type": "markdown",
   "metadata": {
    "colab_type": "text",
    "id": "K6gD83MPMzts"
   },
   "source": [
    "Selecting only the features that might be relevent for the Size inference"
   ]
  },
  {
   "cell_type": "code",
   "execution_count": 0,
   "metadata": {
    "colab": {},
    "colab_type": "code",
    "id": "6cBk2ucTIVh8"
   },
   "outputs": [],
   "source": [
    "dfRent = data[['weight','height','body type','size','fit','age','category','bust size']]"
   ]
  },
  {
   "cell_type": "code",
   "execution_count": 7,
   "metadata": {
    "colab": {
     "base_uri": "https://localhost:8080/",
     "height": 142
    },
    "colab_type": "code",
    "id": "G27mFEHDJKP7",
    "outputId": "fab265d0-4ac6-4169-b431-51b79aa8e1fc"
   },
   "outputs": [
    {
     "data": {
      "text/html": [
       "<div>\n",
       "<style scoped>\n",
       "    .dataframe tbody tr th:only-of-type {\n",
       "        vertical-align: middle;\n",
       "    }\n",
       "\n",
       "    .dataframe tbody tr th {\n",
       "        vertical-align: top;\n",
       "    }\n",
       "\n",
       "    .dataframe thead th {\n",
       "        text-align: right;\n",
       "    }\n",
       "</style>\n",
       "<table border=\"1\" class=\"dataframe\">\n",
       "  <thead>\n",
       "    <tr style=\"text-align: right;\">\n",
       "      <th></th>\n",
       "      <th>weight</th>\n",
       "      <th>height</th>\n",
       "      <th>body type</th>\n",
       "      <th>size</th>\n",
       "      <th>fit</th>\n",
       "      <th>age</th>\n",
       "      <th>category</th>\n",
       "      <th>bust size</th>\n",
       "    </tr>\n",
       "  </thead>\n",
       "  <tbody>\n",
       "    <tr>\n",
       "      <th>0</th>\n",
       "      <td>137lbs</td>\n",
       "      <td>5' 8\"</td>\n",
       "      <td>hourglass</td>\n",
       "      <td>14</td>\n",
       "      <td>fit</td>\n",
       "      <td>28.0</td>\n",
       "      <td>romper</td>\n",
       "      <td>34d</td>\n",
       "    </tr>\n",
       "    <tr>\n",
       "      <th>1</th>\n",
       "      <td>132lbs</td>\n",
       "      <td>5' 6\"</td>\n",
       "      <td>straight &amp; narrow</td>\n",
       "      <td>12</td>\n",
       "      <td>fit</td>\n",
       "      <td>36.0</td>\n",
       "      <td>gown</td>\n",
       "      <td>34b</td>\n",
       "    </tr>\n",
       "    <tr>\n",
       "      <th>2</th>\n",
       "      <td>NaN</td>\n",
       "      <td>5' 4\"</td>\n",
       "      <td>NaN</td>\n",
       "      <td>4</td>\n",
       "      <td>fit</td>\n",
       "      <td>116.0</td>\n",
       "      <td>sheath</td>\n",
       "      <td>NaN</td>\n",
       "    </tr>\n",
       "  </tbody>\n",
       "</table>\n",
       "</div>"
      ],
      "text/plain": [
       "   weight height          body type  size  fit    age category bust size\n",
       "0  137lbs  5' 8\"          hourglass    14  fit   28.0   romper       34d\n",
       "1  132lbs  5' 6\"  straight & narrow    12  fit   36.0     gown       34b\n",
       "2     NaN  5' 4\"                NaN     4  fit  116.0   sheath       NaN"
      ]
     },
     "execution_count": 7,
     "metadata": {
      "tags": []
     },
     "output_type": "execute_result"
    }
   ],
   "source": [
    "dfRent.head(3)"
   ]
  },
  {
   "cell_type": "code",
   "execution_count": 8,
   "metadata": {
    "colab": {
     "base_uri": "https://localhost:8080/",
     "height": 170
    },
    "colab_type": "code",
    "id": "gG2nUCgQK575",
    "outputId": "6bfa1271-218d-459f-9875-7a443f146784"
   },
   "outputs": [
    {
     "data": {
      "text/plain": [
       "weight       15.57\n",
       "height        0.35\n",
       "body type     7.60\n",
       "size          0.00\n",
       "fit           0.00\n",
       "age           0.50\n",
       "category      0.00\n",
       "bust size     9.56\n",
       "dtype: float64"
      ]
     },
     "execution_count": 8,
     "metadata": {
      "tags": []
     },
     "output_type": "execute_result"
    }
   ],
   "source": [
    "dfRent.isnull().mean().round(4) * 100"
   ]
  },
  {
   "cell_type": "code",
   "execution_count": 9,
   "metadata": {
    "colab": {
     "base_uri": "https://localhost:8080/",
     "height": 238
    },
    "colab_type": "code",
    "id": "9GJKBq0NLNav",
    "outputId": "d5f1cb48-3ac9-4bdf-c170-14d13dd15958"
   },
   "outputs": [
    {
     "name": "stdout",
     "output_type": "stream",
     "text": [
      "<class 'pandas.core.frame.DataFrame'>\n",
      "RangeIndex: 192544 entries, 0 to 192543\n",
      "Data columns (total 8 columns):\n",
      "weight       162562 non-null object\n",
      "height       191867 non-null object\n",
      "body type    177907 non-null object\n",
      "size         192544 non-null int64\n",
      "fit          192544 non-null object\n",
      "age          191584 non-null float64\n",
      "category     192544 non-null object\n",
      "bust size    174133 non-null object\n",
      "dtypes: float64(1), int64(1), object(6)\n",
      "memory usage: 11.8+ MB\n"
     ]
    }
   ],
   "source": [
    "dfRent.info()"
   ]
  },
  {
   "cell_type": "markdown",
   "metadata": {
    "colab_type": "text",
    "id": "GVYxWkhDM_Nc"
   },
   "source": [
    "**BELOW PREPROCESSING FOLLOWED SIMILAR TO THE PREPROCESSING IN FILE 'Fit-Prediction-Preprocessing-And-Merging-Dataset.ipynb'**"
   ]
  },
  {
   "cell_type": "markdown",
   "metadata": {
    "colab_type": "text",
    "id": "xQ3sgqApAXFy"
   },
   "source": [
    "**values in 'height' column can be converted to cms**\n",
    "****"
   ]
  },
  {
   "cell_type": "code",
   "execution_count": 0,
   "metadata": {
    "colab": {},
    "colab_type": "code",
    "id": "zbrxzY9mAXF1"
   },
   "outputs": [],
   "source": [
    "def get_height_cms(height):\n",
    "    if type(height) == type(1.0):\n",
    "        return\n",
    "    try: \n",
    "        h_inch = int(height[3:-1])\n",
    "        h_inch += int(height[0]) * 12\n",
    "        h_cm = round(h_inch * 2.54, 1)        \n",
    "        return h_cm\n",
    "    except:\n",
    "        return (int(height[0]) * 12 * 2.54)"
   ]
  },
  {
   "cell_type": "code",
   "execution_count": 0,
   "metadata": {
    "colab": {},
    "colab_type": "code",
    "id": "e71nYGX_Amp8"
   },
   "outputs": [],
   "source": [
    "dfRent['height'] = dfRent['height'].apply(get_height_cms)"
   ]
  },
  {
   "cell_type": "code",
   "execution_count": 0,
   "metadata": {
    "colab": {},
    "colab_type": "code",
    "id": "7gXt3hQCKIXW"
   },
   "outputs": [],
   "source": [
    "def get_weight(weight):\n",
    "    if type(weight) == type(1.0):\n",
    "        return\n",
    "    weightN = int(weight[0:-3])        \n",
    "    return weightN\n",
    "\n",
    "dfRent['weight'] = dfRent['weight'].apply(get_weight)"
   ]
  },
  {
   "cell_type": "code",
   "execution_count": 0,
   "metadata": {
    "colab": {},
    "colab_type": "code",
    "id": "trmbQ_wlTZCo"
   },
   "outputs": [],
   "source": [
    "dfRent['weight'] = dfRent['weight'].astype('float')"
   ]
  },
  {
   "cell_type": "markdown",
   "metadata": {
    "colab_type": "text",
    "id": "XxC_QTEpT4qi"
   },
   "source": [
    "**Impute the missing values for 'weight' column with mean**"
   ]
  },
  {
   "cell_type": "code",
   "execution_count": 0,
   "metadata": {
    "colab": {},
    "colab_type": "code",
    "id": "gJxAUzOmT3l0"
   },
   "outputs": [],
   "source": [
    "from sklearn.impute import SimpleImputer\n",
    "weightImp = np.array(dfRent['weight']).reshape(-1, 1)\n",
    "imp = SimpleImputer(strategy='mean')\n",
    "dfRent['weight'] = imp.fit_transform(weightImp)"
   ]
  },
  {
   "cell_type": "markdown",
   "metadata": {
    "colab_type": "text",
    "id": "_YnRhwG-NEMQ"
   },
   "source": [
    "**The 'height' column has 0.65% of missing values we can impute the missing values by considering the mean factor**"
   ]
  },
  {
   "cell_type": "code",
   "execution_count": 0,
   "metadata": {
    "colab": {},
    "colab_type": "code",
    "id": "ahmIG-ChQcL6"
   },
   "outputs": [],
   "source": [
    "# from sklearn.impute import SimpleImputer\n",
    "heightImp = np.array(dfRent['height']).reshape(-1, 1)\n",
    "imp = SimpleImputer(strategy='median')\n",
    "dfRent['height'] = imp.fit_transform(heightImp)"
   ]
  },
  {
   "cell_type": "code",
   "execution_count": 0,
   "metadata": {
    "colab": {},
    "colab_type": "code",
    "id": "243MA3YQM56F"
   },
   "outputs": [],
   "source": [
    "dfRent['body type'].fillna('Unspecified', inplace=True)\n",
    "dfRent['body type'] = dfRent['body type'].astype('category')"
   ]
  },
  {
   "cell_type": "code",
   "execution_count": 0,
   "metadata": {
    "colab": {},
    "colab_type": "code",
    "id": "-NbmssWfMZ4g"
   },
   "outputs": [],
   "source": [
    "from sklearn import preprocessing\n",
    "labelEnc = preprocessing.LabelEncoder()\n",
    "dfRent['body type'] = labelEnc.fit_transform(dfRent['body type'])"
   ]
  },
  {
   "cell_type": "code",
   "execution_count": 0,
   "metadata": {
    "colab": {},
    "colab_type": "code",
    "id": "tgsdQvG7UUUn"
   },
   "outputs": [],
   "source": [
    "dfRent['category'] = dfRent['category'].astype('category')\n",
    "dfRent['category'] = labelEnc.fit_transform(dfRent['category'])"
   ]
  },
  {
   "cell_type": "code",
   "execution_count": 0,
   "metadata": {
    "colab": {},
    "colab_type": "code",
    "id": "tHLDVSGmI_Dd"
   },
   "outputs": [],
   "source": [
    "dfRent['bust size'].fillna('Unspecified', inplace=True)\n",
    "dfRent['bust size'] = dfRent['bust size'].astype('category')\n",
    "dfRent['bust size'] = labelEnc.fit_transform(dfRent['bust size'])"
   ]
  },
  {
   "cell_type": "code",
   "execution_count": 0,
   "metadata": {
    "colab": {},
    "colab_type": "code",
    "id": "9_-rXDAGhsr-"
   },
   "outputs": [],
   "source": [
    "dfRent['fit'] = dfRent['fit'].astype('category')"
   ]
  },
  {
   "cell_type": "code",
   "execution_count": 0,
   "metadata": {
    "colab": {},
    "colab_type": "code",
    "id": "NVGMwM-5gvS_"
   },
   "outputs": [],
   "source": [
    "def fit_to_numeric(fit):\n",
    "    if fit=='small':\n",
    "        return 1\n",
    "    if fit=='fit':\n",
    "        return 2\n",
    "    if fit=='large':\n",
    "        return 3\n",
    "\n",
    "dfRent['fit_to_numeric'] = dfRent['fit'].apply(fit_to_numeric)"
   ]
  },
  {
   "cell_type": "code",
   "execution_count": 23,
   "metadata": {
    "colab": {
     "base_uri": "https://localhost:8080/",
     "height": 204
    },
    "colab_type": "code",
    "id": "BD5Z_aS-iHmM",
    "outputId": "fce6f759-530f-4446-aa31-4df94e436a05"
   },
   "outputs": [
    {
     "data": {
      "text/html": [
       "<div>\n",
       "<style scoped>\n",
       "    .dataframe tbody tr th:only-of-type {\n",
       "        vertical-align: middle;\n",
       "    }\n",
       "\n",
       "    .dataframe tbody tr th {\n",
       "        vertical-align: top;\n",
       "    }\n",
       "\n",
       "    .dataframe thead th {\n",
       "        text-align: right;\n",
       "    }\n",
       "</style>\n",
       "<table border=\"1\" class=\"dataframe\">\n",
       "  <thead>\n",
       "    <tr style=\"text-align: right;\">\n",
       "      <th></th>\n",
       "      <th>weight</th>\n",
       "      <th>height</th>\n",
       "      <th>body type</th>\n",
       "      <th>size</th>\n",
       "      <th>fit</th>\n",
       "      <th>age</th>\n",
       "      <th>category</th>\n",
       "      <th>bust size</th>\n",
       "      <th>fit_to_numeric</th>\n",
       "    </tr>\n",
       "  </thead>\n",
       "  <tbody>\n",
       "    <tr>\n",
       "      <th>0</th>\n",
       "      <td>137.000000</td>\n",
       "      <td>172.7</td>\n",
       "      <td>4</td>\n",
       "      <td>14</td>\n",
       "      <td>fit</td>\n",
       "      <td>28.0</td>\n",
       "      <td>44</td>\n",
       "      <td>39</td>\n",
       "      <td>2</td>\n",
       "    </tr>\n",
       "    <tr>\n",
       "      <th>1</th>\n",
       "      <td>132.000000</td>\n",
       "      <td>167.6</td>\n",
       "      <td>7</td>\n",
       "      <td>12</td>\n",
       "      <td>fit</td>\n",
       "      <td>36.0</td>\n",
       "      <td>20</td>\n",
       "      <td>37</td>\n",
       "      <td>2</td>\n",
       "    </tr>\n",
       "    <tr>\n",
       "      <th>2</th>\n",
       "      <td>137.391709</td>\n",
       "      <td>162.6</td>\n",
       "      <td>0</td>\n",
       "      <td>4</td>\n",
       "      <td>fit</td>\n",
       "      <td>116.0</td>\n",
       "      <td>45</td>\n",
       "      <td>106</td>\n",
       "      <td>2</td>\n",
       "    </tr>\n",
       "    <tr>\n",
       "      <th>3</th>\n",
       "      <td>135.000000</td>\n",
       "      <td>165.1</td>\n",
       "      <td>5</td>\n",
       "      <td>8</td>\n",
       "      <td>fit</td>\n",
       "      <td>34.0</td>\n",
       "      <td>16</td>\n",
       "      <td>38</td>\n",
       "      <td>2</td>\n",
       "    </tr>\n",
       "    <tr>\n",
       "      <th>4</th>\n",
       "      <td>145.000000</td>\n",
       "      <td>175.3</td>\n",
       "      <td>2</td>\n",
       "      <td>12</td>\n",
       "      <td>fit</td>\n",
       "      <td>27.0</td>\n",
       "      <td>20</td>\n",
       "      <td>37</td>\n",
       "      <td>2</td>\n",
       "    </tr>\n",
       "  </tbody>\n",
       "</table>\n",
       "</div>"
      ],
      "text/plain": [
       "       weight  height  body type  ...  category bust size  fit_to_numeric\n",
       "0  137.000000   172.7          4  ...        44        39               2\n",
       "1  132.000000   167.6          7  ...        20        37               2\n",
       "2  137.391709   162.6          0  ...        45       106               2\n",
       "3  135.000000   165.1          5  ...        16        38               2\n",
       "4  145.000000   175.3          2  ...        20        37               2\n",
       "\n",
       "[5 rows x 9 columns]"
      ]
     },
     "execution_count": 23,
     "metadata": {
      "tags": []
     },
     "output_type": "execute_result"
    }
   ],
   "source": [
    "dfRent.head()"
   ]
  },
  {
   "cell_type": "markdown",
   "metadata": {
    "colab_type": "text",
    "id": "zDg8WB_VUqVT"
   },
   "source": [
    "**TO PROCEED WITH THIS IMPLEMENTATION WE ARE CONSIDERING ONLY THE \"FIT\" DATA OF THE CUSTOMER AS PART OF TRAINING THE MODEL AND LEARN THE FIT FOR EVERY INSTANCE/CUSTOMER BASED ON THE ATTRIBUTES SPECIFIED BY THE USER TO PREDICT THE SIZE**"
   ]
  },
  {
   "cell_type": "code",
   "execution_count": 0,
   "metadata": {
    "colab": {},
    "colab_type": "code",
    "id": "AsjaOKn42Aan"
   },
   "outputs": [],
   "source": [
    "dfRent = dfRent[dfRent['fit_to_numeric'] == 2]"
   ]
  },
  {
   "cell_type": "code",
   "execution_count": 0,
   "metadata": {
    "colab": {},
    "colab_type": "code",
    "id": "CLfi6DSrXZ99"
   },
   "outputs": [],
   "source": [
    "dfRent = dfRent.drop(columns={'fit_to_numeric','fit'},axis=1)"
   ]
  },
  {
   "cell_type": "code",
   "execution_count": 26,
   "metadata": {
    "colab": {
     "base_uri": "https://localhost:8080/",
     "height": 34
    },
    "colab_type": "code",
    "id": "cz3aQeWOiTev",
    "outputId": "9524fd72-a404-4302-a92b-a494193c810f"
   },
   "outputs": [
    {
     "data": {
      "text/plain": [
       "(142058, 7)"
      ]
     },
     "execution_count": 26,
     "metadata": {
      "tags": []
     },
     "output_type": "execute_result"
    }
   ],
   "source": [
    "dfRent.shape"
   ]
  },
  {
   "cell_type": "markdown",
   "metadata": {
    "colab_type": "text",
    "id": "WpuN5lxSk6r_"
   },
   "source": [
    "**'age' feature impute the missing values with mean**"
   ]
  },
  {
   "cell_type": "code",
   "execution_count": 0,
   "metadata": {
    "colab": {},
    "colab_type": "code",
    "id": "TNxhODE1k9s5"
   },
   "outputs": [],
   "source": [
    "ageImp = np.array(dfRent['age']).reshape(-1, 1)\n",
    "imp = SimpleImputer(strategy='mean')\n",
    "dfRent['age'] = imp.fit_transform(ageImp)"
   ]
  },
  {
   "cell_type": "code",
   "execution_count": 0,
   "metadata": {
    "colab": {},
    "colab_type": "code",
    "id": "YGNz1qbXwVQE"
   },
   "outputs": [],
   "source": [
    "dfRent['age'] = dfRent['age'].astype('int')"
   ]
  },
  {
   "cell_type": "code",
   "execution_count": 29,
   "metadata": {
    "colab": {
     "base_uri": "https://localhost:8080/",
     "height": 317
    },
    "colab_type": "code",
    "id": "vwzY0txfuUss",
    "outputId": "677670f1-0256-4ad8-9d5c-4ce5918081c1"
   },
   "outputs": [
    {
     "data": {
      "text/html": [
       "<div>\n",
       "<style scoped>\n",
       "    .dataframe tbody tr th:only-of-type {\n",
       "        vertical-align: middle;\n",
       "    }\n",
       "\n",
       "    .dataframe tbody tr th {\n",
       "        vertical-align: top;\n",
       "    }\n",
       "\n",
       "    .dataframe thead th {\n",
       "        text-align: right;\n",
       "    }\n",
       "</style>\n",
       "<table border=\"1\" class=\"dataframe\">\n",
       "  <thead>\n",
       "    <tr style=\"text-align: right;\">\n",
       "      <th></th>\n",
       "      <th>weight</th>\n",
       "      <th>height</th>\n",
       "      <th>body type</th>\n",
       "      <th>size</th>\n",
       "      <th>age</th>\n",
       "      <th>category</th>\n",
       "      <th>bust size</th>\n",
       "    </tr>\n",
       "  </thead>\n",
       "  <tbody>\n",
       "    <tr>\n",
       "      <th>count</th>\n",
       "      <td>142058.000000</td>\n",
       "      <td>142058.000000</td>\n",
       "      <td>142058.000000</td>\n",
       "      <td>142058.000000</td>\n",
       "      <td>142058.000000</td>\n",
       "      <td>142058.000000</td>\n",
       "      <td>142058.000000</td>\n",
       "    </tr>\n",
       "    <tr>\n",
       "      <th>mean</th>\n",
       "      <td>137.301627</td>\n",
       "      <td>165.911150</td>\n",
       "      <td>3.663954</td>\n",
       "      <td>12.097249</td>\n",
       "      <td>33.886842</td>\n",
       "      <td>23.924355</td>\n",
       "      <td>45.665531</td>\n",
       "    </tr>\n",
       "    <tr>\n",
       "      <th>std</th>\n",
       "      <td>20.073273</td>\n",
       "      <td>6.753198</td>\n",
       "      <td>1.897160</td>\n",
       "      <td>8.400862</td>\n",
       "      <td>8.083542</td>\n",
       "      <td>12.678789</td>\n",
       "      <td>22.516600</td>\n",
       "    </tr>\n",
       "    <tr>\n",
       "      <th>min</th>\n",
       "      <td>50.000000</td>\n",
       "      <td>137.200000</td>\n",
       "      <td>0.000000</td>\n",
       "      <td>0.000000</td>\n",
       "      <td>0.000000</td>\n",
       "      <td>0.000000</td>\n",
       "      <td>0.000000</td>\n",
       "    </tr>\n",
       "    <tr>\n",
       "      <th>25%</th>\n",
       "      <td>125.000000</td>\n",
       "      <td>160.000000</td>\n",
       "      <td>2.000000</td>\n",
       "      <td>8.000000</td>\n",
       "      <td>29.000000</td>\n",
       "      <td>16.000000</td>\n",
       "      <td>35.000000</td>\n",
       "    </tr>\n",
       "    <tr>\n",
       "      <th>50%</th>\n",
       "      <td>137.391709</td>\n",
       "      <td>165.100000</td>\n",
       "      <td>4.000000</td>\n",
       "      <td>12.000000</td>\n",
       "      <td>32.000000</td>\n",
       "      <td>20.000000</td>\n",
       "      <td>38.000000</td>\n",
       "    </tr>\n",
       "    <tr>\n",
       "      <th>75%</th>\n",
       "      <td>145.000000</td>\n",
       "      <td>170.200000</td>\n",
       "      <td>5.000000</td>\n",
       "      <td>16.000000</td>\n",
       "      <td>37.000000</td>\n",
       "      <td>26.000000</td>\n",
       "      <td>51.000000</td>\n",
       "    </tr>\n",
       "    <tr>\n",
       "      <th>max</th>\n",
       "      <td>300.000000</td>\n",
       "      <td>198.100000</td>\n",
       "      <td>7.000000</td>\n",
       "      <td>58.000000</td>\n",
       "      <td>117.000000</td>\n",
       "      <td>67.000000</td>\n",
       "      <td>106.000000</td>\n",
       "    </tr>\n",
       "  </tbody>\n",
       "</table>\n",
       "</div>"
      ],
      "text/plain": [
       "              weight         height  ...       category      bust size\n",
       "count  142058.000000  142058.000000  ...  142058.000000  142058.000000\n",
       "mean      137.301627     165.911150  ...      23.924355      45.665531\n",
       "std        20.073273       6.753198  ...      12.678789      22.516600\n",
       "min        50.000000     137.200000  ...       0.000000       0.000000\n",
       "25%       125.000000     160.000000  ...      16.000000      35.000000\n",
       "50%       137.391709     165.100000  ...      20.000000      38.000000\n",
       "75%       145.000000     170.200000  ...      26.000000      51.000000\n",
       "max       300.000000     198.100000  ...      67.000000     106.000000\n",
       "\n",
       "[8 rows x 7 columns]"
      ]
     },
     "execution_count": 29,
     "metadata": {
      "tags": []
     },
     "output_type": "execute_result"
    }
   ],
   "source": [
    "dfRent.describe()"
   ]
  },
  {
   "cell_type": "code",
   "execution_count": 0,
   "metadata": {
    "colab": {},
    "colab_type": "code",
    "id": "MbqyE7wkGrbH"
   },
   "outputs": [],
   "source": [
    "df = dfRent"
   ]
  },
  {
   "cell_type": "code",
   "execution_count": 31,
   "metadata": {
    "colab": {
     "base_uri": "https://localhost:8080/",
     "height": 204
    },
    "colab_type": "code",
    "id": "34OxKvd9uDF_",
    "outputId": "98839314-2f78-482c-e9b7-c8fe96d16806"
   },
   "outputs": [
    {
     "data": {
      "text/html": [
       "<div>\n",
       "<style scoped>\n",
       "    .dataframe tbody tr th:only-of-type {\n",
       "        vertical-align: middle;\n",
       "    }\n",
       "\n",
       "    .dataframe tbody tr th {\n",
       "        vertical-align: top;\n",
       "    }\n",
       "\n",
       "    .dataframe thead th {\n",
       "        text-align: right;\n",
       "    }\n",
       "</style>\n",
       "<table border=\"1\" class=\"dataframe\">\n",
       "  <thead>\n",
       "    <tr style=\"text-align: right;\">\n",
       "      <th></th>\n",
       "      <th>weight</th>\n",
       "      <th>height</th>\n",
       "      <th>body type</th>\n",
       "      <th>size</th>\n",
       "      <th>age</th>\n",
       "      <th>category</th>\n",
       "      <th>bust size</th>\n",
       "    </tr>\n",
       "  </thead>\n",
       "  <tbody>\n",
       "    <tr>\n",
       "      <th>0</th>\n",
       "      <td>137.000000</td>\n",
       "      <td>172.7</td>\n",
       "      <td>4</td>\n",
       "      <td>14</td>\n",
       "      <td>28</td>\n",
       "      <td>44</td>\n",
       "      <td>39</td>\n",
       "    </tr>\n",
       "    <tr>\n",
       "      <th>1</th>\n",
       "      <td>132.000000</td>\n",
       "      <td>167.6</td>\n",
       "      <td>7</td>\n",
       "      <td>12</td>\n",
       "      <td>36</td>\n",
       "      <td>20</td>\n",
       "      <td>37</td>\n",
       "    </tr>\n",
       "    <tr>\n",
       "      <th>2</th>\n",
       "      <td>137.391709</td>\n",
       "      <td>162.6</td>\n",
       "      <td>0</td>\n",
       "      <td>4</td>\n",
       "      <td>116</td>\n",
       "      <td>45</td>\n",
       "      <td>106</td>\n",
       "    </tr>\n",
       "    <tr>\n",
       "      <th>3</th>\n",
       "      <td>135.000000</td>\n",
       "      <td>165.1</td>\n",
       "      <td>5</td>\n",
       "      <td>8</td>\n",
       "      <td>34</td>\n",
       "      <td>16</td>\n",
       "      <td>38</td>\n",
       "    </tr>\n",
       "    <tr>\n",
       "      <th>4</th>\n",
       "      <td>145.000000</td>\n",
       "      <td>175.3</td>\n",
       "      <td>2</td>\n",
       "      <td>12</td>\n",
       "      <td>27</td>\n",
       "      <td>20</td>\n",
       "      <td>37</td>\n",
       "    </tr>\n",
       "  </tbody>\n",
       "</table>\n",
       "</div>"
      ],
      "text/plain": [
       "       weight  height  body type  size  age  category  bust size\n",
       "0  137.000000   172.7          4    14   28        44         39\n",
       "1  132.000000   167.6          7    12   36        20         37\n",
       "2  137.391709   162.6          0     4  116        45        106\n",
       "3  135.000000   165.1          5     8   34        16         38\n",
       "4  145.000000   175.3          2    12   27        20         37"
      ]
     },
     "execution_count": 31,
     "metadata": {
      "tags": []
     },
     "output_type": "execute_result"
    }
   ],
   "source": [
    "df.head()"
   ]
  },
  {
   "cell_type": "code",
   "execution_count": 32,
   "metadata": {
    "colab": {
     "base_uri": "https://localhost:8080/",
     "height": 153
    },
    "colab_type": "code",
    "id": "FpS1AV6F_pYc",
    "outputId": "9a8173c2-db00-4b0a-bcba-e151fc199ecb"
   },
   "outputs": [
    {
     "data": {
      "text/plain": [
       "weight       0.0\n",
       "height       0.0\n",
       "body type    0.0\n",
       "size         0.0\n",
       "age          0.0\n",
       "category     0.0\n",
       "bust size    0.0\n",
       "dtype: float64"
      ]
     },
     "execution_count": 32,
     "metadata": {
      "tags": []
     },
     "output_type": "execute_result"
    }
   ],
   "source": [
    "df.isnull().mean().round(4) * 100"
   ]
  },
  {
   "cell_type": "code",
   "execution_count": 33,
   "metadata": {
    "colab": {
     "base_uri": "https://localhost:8080/",
     "height": 204
    },
    "colab_type": "code",
    "id": "8pZRB-PiNwz4",
    "outputId": "892b98ce-5e55-494b-f88f-547c1741d78d"
   },
   "outputs": [
    {
     "data": {
      "text/html": [
       "<div>\n",
       "<style scoped>\n",
       "    .dataframe tbody tr th:only-of-type {\n",
       "        vertical-align: middle;\n",
       "    }\n",
       "\n",
       "    .dataframe tbody tr th {\n",
       "        vertical-align: top;\n",
       "    }\n",
       "\n",
       "    .dataframe thead th {\n",
       "        text-align: right;\n",
       "    }\n",
       "</style>\n",
       "<table border=\"1\" class=\"dataframe\">\n",
       "  <thead>\n",
       "    <tr style=\"text-align: right;\">\n",
       "      <th></th>\n",
       "      <th>weight</th>\n",
       "      <th>height</th>\n",
       "      <th>body type</th>\n",
       "      <th>size</th>\n",
       "      <th>age</th>\n",
       "      <th>category</th>\n",
       "      <th>bust size</th>\n",
       "    </tr>\n",
       "  </thead>\n",
       "  <tbody>\n",
       "    <tr>\n",
       "      <th>0</th>\n",
       "      <td>137.000000</td>\n",
       "      <td>172.7</td>\n",
       "      <td>4</td>\n",
       "      <td>14</td>\n",
       "      <td>28</td>\n",
       "      <td>44</td>\n",
       "      <td>39</td>\n",
       "    </tr>\n",
       "    <tr>\n",
       "      <th>1</th>\n",
       "      <td>132.000000</td>\n",
       "      <td>167.6</td>\n",
       "      <td>7</td>\n",
       "      <td>12</td>\n",
       "      <td>36</td>\n",
       "      <td>20</td>\n",
       "      <td>37</td>\n",
       "    </tr>\n",
       "    <tr>\n",
       "      <th>2</th>\n",
       "      <td>137.391709</td>\n",
       "      <td>162.6</td>\n",
       "      <td>0</td>\n",
       "      <td>4</td>\n",
       "      <td>116</td>\n",
       "      <td>45</td>\n",
       "      <td>106</td>\n",
       "    </tr>\n",
       "    <tr>\n",
       "      <th>3</th>\n",
       "      <td>135.000000</td>\n",
       "      <td>165.1</td>\n",
       "      <td>5</td>\n",
       "      <td>8</td>\n",
       "      <td>34</td>\n",
       "      <td>16</td>\n",
       "      <td>38</td>\n",
       "    </tr>\n",
       "    <tr>\n",
       "      <th>4</th>\n",
       "      <td>145.000000</td>\n",
       "      <td>175.3</td>\n",
       "      <td>2</td>\n",
       "      <td>12</td>\n",
       "      <td>27</td>\n",
       "      <td>20</td>\n",
       "      <td>37</td>\n",
       "    </tr>\n",
       "  </tbody>\n",
       "</table>\n",
       "</div>"
      ],
      "text/plain": [
       "       weight  height  body type  size  age  category  bust size\n",
       "0  137.000000   172.7          4    14   28        44         39\n",
       "1  132.000000   167.6          7    12   36        20         37\n",
       "2  137.391709   162.6          0     4  116        45        106\n",
       "3  135.000000   165.1          5     8   34        16         38\n",
       "4  145.000000   175.3          2    12   27        20         37"
      ]
     },
     "execution_count": 33,
     "metadata": {
      "tags": []
     },
     "output_type": "execute_result"
    }
   ],
   "source": [
    "dfRent.head()"
   ]
  },
  {
   "cell_type": "code",
   "execution_count": 34,
   "metadata": {
    "colab": {
     "base_uri": "https://localhost:8080/",
     "height": 266
    },
    "colab_type": "code",
    "id": "kqcrvY9iTd4f",
    "outputId": "fbeba8df-9718-4dfa-bf55-ee57b3239241"
   },
   "outputs": [
    {
     "data": {
      "text/html": [
       "<div>\n",
       "<style scoped>\n",
       "    .dataframe tbody tr th:only-of-type {\n",
       "        vertical-align: middle;\n",
       "    }\n",
       "\n",
       "    .dataframe tbody tr th {\n",
       "        vertical-align: top;\n",
       "    }\n",
       "\n",
       "    .dataframe thead th {\n",
       "        text-align: right;\n",
       "    }\n",
       "</style>\n",
       "<table border=\"1\" class=\"dataframe\">\n",
       "  <thead>\n",
       "    <tr style=\"text-align: right;\">\n",
       "      <th></th>\n",
       "      <th>weight</th>\n",
       "      <th>height</th>\n",
       "      <th>body type</th>\n",
       "      <th>size</th>\n",
       "      <th>age</th>\n",
       "      <th>category</th>\n",
       "      <th>bust size</th>\n",
       "    </tr>\n",
       "  </thead>\n",
       "  <tbody>\n",
       "    <tr>\n",
       "      <th>weight</th>\n",
       "      <td>1.000000</td>\n",
       "      <td>0.354683</td>\n",
       "      <td>-0.199245</td>\n",
       "      <td>0.740676</td>\n",
       "      <td>0.062525</td>\n",
       "      <td>-0.016388</td>\n",
       "      <td>0.304074</td>\n",
       "    </tr>\n",
       "    <tr>\n",
       "      <th>height</th>\n",
       "      <td>0.354683</td>\n",
       "      <td>1.000000</td>\n",
       "      <td>-0.118369</td>\n",
       "      <td>0.235753</td>\n",
       "      <td>-0.007602</td>\n",
       "      <td>-0.005913</td>\n",
       "      <td>0.085782</td>\n",
       "    </tr>\n",
       "    <tr>\n",
       "      <th>body type</th>\n",
       "      <td>-0.199245</td>\n",
       "      <td>-0.118369</td>\n",
       "      <td>1.000000</td>\n",
       "      <td>-0.185946</td>\n",
       "      <td>-0.012738</td>\n",
       "      <td>0.000768</td>\n",
       "      <td>-0.236510</td>\n",
       "    </tr>\n",
       "    <tr>\n",
       "      <th>size</th>\n",
       "      <td>0.740676</td>\n",
       "      <td>0.235753</td>\n",
       "      <td>-0.185946</td>\n",
       "      <td>1.000000</td>\n",
       "      <td>0.157633</td>\n",
       "      <td>-0.010183</td>\n",
       "      <td>0.371962</td>\n",
       "    </tr>\n",
       "    <tr>\n",
       "      <th>age</th>\n",
       "      <td>0.062525</td>\n",
       "      <td>-0.007602</td>\n",
       "      <td>-0.012738</td>\n",
       "      <td>0.157633</td>\n",
       "      <td>1.000000</td>\n",
       "      <td>0.022846</td>\n",
       "      <td>0.073451</td>\n",
       "    </tr>\n",
       "    <tr>\n",
       "      <th>category</th>\n",
       "      <td>-0.016388</td>\n",
       "      <td>-0.005913</td>\n",
       "      <td>0.000768</td>\n",
       "      <td>-0.010183</td>\n",
       "      <td>0.022846</td>\n",
       "      <td>1.000000</td>\n",
       "      <td>-0.011591</td>\n",
       "    </tr>\n",
       "    <tr>\n",
       "      <th>bust size</th>\n",
       "      <td>0.304074</td>\n",
       "      <td>0.085782</td>\n",
       "      <td>-0.236510</td>\n",
       "      <td>0.371962</td>\n",
       "      <td>0.073451</td>\n",
       "      <td>-0.011591</td>\n",
       "      <td>1.000000</td>\n",
       "    </tr>\n",
       "  </tbody>\n",
       "</table>\n",
       "</div>"
      ],
      "text/plain": [
       "             weight    height  body type  ...       age  category  bust size\n",
       "weight     1.000000  0.354683  -0.199245  ...  0.062525 -0.016388   0.304074\n",
       "height     0.354683  1.000000  -0.118369  ... -0.007602 -0.005913   0.085782\n",
       "body type -0.199245 -0.118369   1.000000  ... -0.012738  0.000768  -0.236510\n",
       "size       0.740676  0.235753  -0.185946  ...  0.157633 -0.010183   0.371962\n",
       "age        0.062525 -0.007602  -0.012738  ...  1.000000  0.022846   0.073451\n",
       "category  -0.016388 -0.005913   0.000768  ...  0.022846  1.000000  -0.011591\n",
       "bust size  0.304074  0.085782  -0.236510  ...  0.073451 -0.011591   1.000000\n",
       "\n",
       "[7 rows x 7 columns]"
      ]
     },
     "execution_count": 34,
     "metadata": {
      "tags": []
     },
     "output_type": "execute_result"
    }
   ],
   "source": [
    "dfRent.corr()"
   ]
  },
  {
   "cell_type": "markdown",
   "metadata": {
    "colab_type": "text",
    "id": "04Gd4rwMNtV2"
   },
   "source": [
    "**BUILDING THE TRAIN TEST SET**"
   ]
  },
  {
   "cell_type": "code",
   "execution_count": 0,
   "metadata": {
    "colab": {},
    "colab_type": "code",
    "id": "e79iUqrmgu9y"
   },
   "outputs": [],
   "source": [
    "dfTrain = df"
   ]
  },
  {
   "cell_type": "code",
   "execution_count": 36,
   "metadata": {
    "colab": {
     "base_uri": "https://localhost:8080/",
     "height": 34
    },
    "colab_type": "code",
    "id": "PI6gM-2siWTd",
    "outputId": "b0b23b33-d8d7-4d05-c81a-b18ab7c9da88"
   },
   "outputs": [
    {
     "data": {
      "text/plain": [
       "(142058, 7)"
      ]
     },
     "execution_count": 36,
     "metadata": {
      "tags": []
     },
     "output_type": "execute_result"
    }
   ],
   "source": [
    "dfTrain.shape"
   ]
  },
  {
   "cell_type": "code",
   "execution_count": 37,
   "metadata": {
    "colab": {
     "base_uri": "https://localhost:8080/",
     "height": 204
    },
    "colab_type": "code",
    "id": "z3fOCoOri4rd",
    "outputId": "dfddeac6-4cae-43d8-b50f-d024bab3f5e2"
   },
   "outputs": [
    {
     "data": {
      "text/html": [
       "<div>\n",
       "<style scoped>\n",
       "    .dataframe tbody tr th:only-of-type {\n",
       "        vertical-align: middle;\n",
       "    }\n",
       "\n",
       "    .dataframe tbody tr th {\n",
       "        vertical-align: top;\n",
       "    }\n",
       "\n",
       "    .dataframe thead th {\n",
       "        text-align: right;\n",
       "    }\n",
       "</style>\n",
       "<table border=\"1\" class=\"dataframe\">\n",
       "  <thead>\n",
       "    <tr style=\"text-align: right;\">\n",
       "      <th></th>\n",
       "      <th>weight</th>\n",
       "      <th>height</th>\n",
       "      <th>body type</th>\n",
       "      <th>size</th>\n",
       "      <th>age</th>\n",
       "      <th>category</th>\n",
       "      <th>bust size</th>\n",
       "    </tr>\n",
       "  </thead>\n",
       "  <tbody>\n",
       "    <tr>\n",
       "      <th>0</th>\n",
       "      <td>137.000000</td>\n",
       "      <td>172.7</td>\n",
       "      <td>4</td>\n",
       "      <td>14</td>\n",
       "      <td>28</td>\n",
       "      <td>44</td>\n",
       "      <td>39</td>\n",
       "    </tr>\n",
       "    <tr>\n",
       "      <th>1</th>\n",
       "      <td>132.000000</td>\n",
       "      <td>167.6</td>\n",
       "      <td>7</td>\n",
       "      <td>12</td>\n",
       "      <td>36</td>\n",
       "      <td>20</td>\n",
       "      <td>37</td>\n",
       "    </tr>\n",
       "    <tr>\n",
       "      <th>2</th>\n",
       "      <td>137.391709</td>\n",
       "      <td>162.6</td>\n",
       "      <td>0</td>\n",
       "      <td>4</td>\n",
       "      <td>116</td>\n",
       "      <td>45</td>\n",
       "      <td>106</td>\n",
       "    </tr>\n",
       "    <tr>\n",
       "      <th>3</th>\n",
       "      <td>135.000000</td>\n",
       "      <td>165.1</td>\n",
       "      <td>5</td>\n",
       "      <td>8</td>\n",
       "      <td>34</td>\n",
       "      <td>16</td>\n",
       "      <td>38</td>\n",
       "    </tr>\n",
       "    <tr>\n",
       "      <th>4</th>\n",
       "      <td>145.000000</td>\n",
       "      <td>175.3</td>\n",
       "      <td>2</td>\n",
       "      <td>12</td>\n",
       "      <td>27</td>\n",
       "      <td>20</td>\n",
       "      <td>37</td>\n",
       "    </tr>\n",
       "  </tbody>\n",
       "</table>\n",
       "</div>"
      ],
      "text/plain": [
       "       weight  height  body type  size  age  category  bust size\n",
       "0  137.000000   172.7          4    14   28        44         39\n",
       "1  132.000000   167.6          7    12   36        20         37\n",
       "2  137.391709   162.6          0     4  116        45        106\n",
       "3  135.000000   165.1          5     8   34        16         38\n",
       "4  145.000000   175.3          2    12   27        20         37"
      ]
     },
     "execution_count": 37,
     "metadata": {
      "tags": []
     },
     "output_type": "execute_result"
    }
   ],
   "source": [
    "dfTrain.head()"
   ]
  },
  {
   "cell_type": "code",
   "execution_count": 0,
   "metadata": {
    "colab": {},
    "colab_type": "code",
    "id": "9DADcIfYOdAS"
   },
   "outputs": [],
   "source": [
    "train  = dfTrain.drop(columns={'size'})"
   ]
  },
  {
   "cell_type": "code",
   "execution_count": 39,
   "metadata": {
    "colab": {
     "base_uri": "https://localhost:8080/",
     "height": 34
    },
    "colab_type": "code",
    "id": "NKnlzU2MOpPg",
    "outputId": "6c359f68-ac85-4b73-f872-34812abe2d78"
   },
   "outputs": [
    {
     "data": {
      "text/plain": [
       "(142058, 6)"
      ]
     },
     "execution_count": 39,
     "metadata": {
      "tags": []
     },
     "output_type": "execute_result"
    }
   ],
   "source": [
    "train.shape"
   ]
  },
  {
   "cell_type": "code",
   "execution_count": 0,
   "metadata": {
    "colab": {},
    "colab_type": "code",
    "id": "xbDFd0JBOj7A"
   },
   "outputs": [],
   "source": [
    "target = dfTrain[['size']]"
   ]
  },
  {
   "cell_type": "code",
   "execution_count": 41,
   "metadata": {
    "colab": {
     "base_uri": "https://localhost:8080/",
     "height": 34
    },
    "colab_type": "code",
    "id": "BZK1S18ZOrNn",
    "outputId": "19eec038-6b63-4935-e92a-5f53d018f493"
   },
   "outputs": [
    {
     "data": {
      "text/plain": [
       "(142058, 1)"
      ]
     },
     "execution_count": 41,
     "metadata": {
      "tags": []
     },
     "output_type": "execute_result"
    }
   ],
   "source": [
    "target.shape"
   ]
  },
  {
   "cell_type": "code",
   "execution_count": 0,
   "metadata": {
    "colab": {},
    "colab_type": "code",
    "id": "te1bmo3y-bcb"
   },
   "outputs": [],
   "source": [
    "X_train, X_test, y_train, y_test = train_test_split(train, target, test_size=0.2, random_state=1)"
   ]
  },
  {
   "cell_type": "code",
   "execution_count": 45,
   "metadata": {
    "colab": {
     "base_uri": "https://localhost:8080/",
     "height": 34
    },
    "colab_type": "code",
    "id": "T4Em6nOOOMxz",
    "outputId": "4e34d770-5d67-4f4c-9e18-c67f12a4f0ff"
   },
   "outputs": [
    {
     "data": {
      "text/plain": [
       "(113646, 6)"
      ]
     },
     "execution_count": 45,
     "metadata": {
      "tags": []
     },
     "output_type": "execute_result"
    }
   ],
   "source": [
    "X_train.shape"
   ]
  },
  {
   "cell_type": "code",
   "execution_count": 46,
   "metadata": {
    "colab": {
     "base_uri": "https://localhost:8080/",
     "height": 34
    },
    "colab_type": "code",
    "id": "A5d-Ng7eO8CJ",
    "outputId": "ebbed1c5-1147-4294-f664-3d94b1ea46eb"
   },
   "outputs": [
    {
     "data": {
      "text/plain": [
       "(28412, 6)"
      ]
     },
     "execution_count": 46,
     "metadata": {
      "tags": []
     },
     "output_type": "execute_result"
    }
   ],
   "source": [
    "X_test.shape"
   ]
  },
  {
   "cell_type": "code",
   "execution_count": 47,
   "metadata": {
    "colab": {
     "base_uri": "https://localhost:8080/",
     "height": 34
    },
    "colab_type": "code",
    "id": "cqZw3f016zlh",
    "outputId": "f2155000-b665-4e0b-be4a-e20dedbfaefb"
   },
   "outputs": [
    {
     "data": {
      "text/plain": [
       "(113646, 1)"
      ]
     },
     "execution_count": 47,
     "metadata": {
      "tags": []
     },
     "output_type": "execute_result"
    }
   ],
   "source": [
    "y_train.shape"
   ]
  },
  {
   "cell_type": "code",
   "execution_count": 48,
   "metadata": {
    "colab": {
     "base_uri": "https://localhost:8080/",
     "height": 34
    },
    "colab_type": "code",
    "id": "x9kyjjUN535U",
    "outputId": "a6b37596-0e4c-4715-e793-eb5f88c290df"
   },
   "outputs": [
    {
     "data": {
      "text/plain": [
       "(28412, 1)"
      ]
     },
     "execution_count": 48,
     "metadata": {
      "tags": []
     },
     "output_type": "execute_result"
    }
   ],
   "source": [
    "y_test.shape"
   ]
  },
  {
   "cell_type": "markdown",
   "metadata": {
    "colab_type": "text",
    "id": "gty-eOiXQG2Z"
   },
   "source": [
    "Apply KNN to train the model using gridsearch to get the optimal parameter"
   ]
  },
  {
   "cell_type": "code",
   "execution_count": 0,
   "metadata": {
    "colab": {},
    "colab_type": "code",
    "id": "KC2RY5wUnos0"
   },
   "outputs": [],
   "source": [
    "from sklearn.model_selection import GridSearchCV\n",
    "param_grid = { 'n_neighbors':[10,20,30,50],\n",
    "               'algorithm': ['brute','auto'],\n",
    "               'weights': ['uniform','distance']}"
   ]
  },
  {
   "cell_type": "code",
   "execution_count": 51,
   "metadata": {
    "colab": {
     "base_uri": "https://localhost:8080/",
     "height": 34
    },
    "colab_type": "code",
    "id": "P4Fa39S3or1E",
    "outputId": "a85fb45f-bf58-4081-9d7e-5eda9292fed5"
   },
   "outputs": [
    {
     "data": {
      "text/plain": [
       "{'algorithm': 'auto', 'n_neighbors': 50, 'weights': 'distance'}"
      ]
     },
     "execution_count": 51,
     "metadata": {
      "tags": []
     },
     "output_type": "execute_result"
    }
   ],
   "source": [
    "gs = GridSearchCV(KNeighborsClassifier(), param_grid, cv=3)\n",
    "gs.fit(X_train,y_train)\n",
    "gs.best_params_"
   ]
  },
  {
   "cell_type": "code",
   "execution_count": 52,
   "metadata": {
    "colab": {
     "base_uri": "https://localhost:8080/",
     "height": 68
    },
    "colab_type": "code",
    "id": "3OvHseLLgFzC",
    "outputId": "89ef1ced-5d40-4548-bdf5-9b5cb1557197"
   },
   "outputs": [
    {
     "data": {
      "text/plain": [
       "KNeighborsClassifier(algorithm='auto', leaf_size=30, metric='minkowski',\n",
       "                     metric_params=None, n_jobs=None, n_neighbors=50, p=2,\n",
       "                     weights='distance')"
      ]
     },
     "execution_count": 52,
     "metadata": {
      "tags": []
     },
     "output_type": "execute_result"
    }
   ],
   "source": [
    "modelKNN = KNeighborsClassifier(n_neighbors=50,weights='distance')\n",
    "modelKNN.fit(X_train,y_train)"
   ]
  },
  {
   "cell_type": "code",
   "execution_count": 0,
   "metadata": {
    "colab": {},
    "colab_type": "code",
    "id": "y2AGd0DzPMmR"
   },
   "outputs": [],
   "source": [
    "inferSize = modelKNN.predict(X_test)"
   ]
  },
  {
   "cell_type": "code",
   "execution_count": 54,
   "metadata": {
    "colab": {
     "base_uri": "https://localhost:8080/",
     "height": 34
    },
    "colab_type": "code",
    "id": "_pCM4vIcmDlL",
    "outputId": "ee6e8d43-3f70-4c73-c5ee-15ca745b7acc"
   },
   "outputs": [
    {
     "name": "stdout",
     "output_type": "stream",
     "text": [
      "Accuracy:  38.84 %\n"
     ]
    }
   ],
   "source": [
    "#Import scikit-learn metrics module for accuracy calculation\n",
    "from sklearn import metrics\n",
    "print(\"Accuracy: \",round(((modelKNN.score(X_test,y_test))*100),2),\"%\")"
   ]
  },
  {
   "cell_type": "markdown",
   "metadata": {
    "colab_type": "text",
    "id": "eRvwpsVbT54h"
   },
   "source": [
    "**Though the accuracy is only 38%, its is actually not relevant in determining the performance of the problem definition because we just want to infer the probable size for the customer...**"
   ]
  },
  {
   "cell_type": "markdown",
   "metadata": {
    "colab_type": "text",
    "id": "mGBMYb18Q6qc"
   },
   "source": [
    "**Create new dataframe to store the result**"
   ]
  },
  {
   "cell_type": "code",
   "execution_count": 0,
   "metadata": {
    "colab": {},
    "colab_type": "code",
    "id": "CCNHDUnuAIDa"
   },
   "outputs": [],
   "source": [
    "printData = X_test\n",
    "printData['size'] = np.array(y_test)\n",
    "printData['inferred_size'] = np.array(inferSize)"
   ]
  },
  {
   "cell_type": "code",
   "execution_count": 59,
   "metadata": {
    "colab": {
     "base_uri": "https://localhost:8080/",
     "height": 204
    },
    "colab_type": "code",
    "id": "vuB4_RUUNxG3",
    "outputId": "9cfd8e5d-cd37-4c28-d0fa-344d2ed8242e"
   },
   "outputs": [
    {
     "data": {
      "text/html": [
       "<div>\n",
       "<style scoped>\n",
       "    .dataframe tbody tr th:only-of-type {\n",
       "        vertical-align: middle;\n",
       "    }\n",
       "\n",
       "    .dataframe tbody tr th {\n",
       "        vertical-align: top;\n",
       "    }\n",
       "\n",
       "    .dataframe thead th {\n",
       "        text-align: right;\n",
       "    }\n",
       "</style>\n",
       "<table border=\"1\" class=\"dataframe\">\n",
       "  <thead>\n",
       "    <tr style=\"text-align: right;\">\n",
       "      <th></th>\n",
       "      <th>weight</th>\n",
       "      <th>height</th>\n",
       "      <th>body type</th>\n",
       "      <th>age</th>\n",
       "      <th>category</th>\n",
       "      <th>bust size</th>\n",
       "      <th>size</th>\n",
       "      <th>inferred_size</th>\n",
       "    </tr>\n",
       "  </thead>\n",
       "  <tbody>\n",
       "    <tr>\n",
       "      <th>11186</th>\n",
       "      <td>110.0</td>\n",
       "      <td>157.5</td>\n",
       "      <td>0</td>\n",
       "      <td>22</td>\n",
       "      <td>20</td>\n",
       "      <td>106</td>\n",
       "      <td>1</td>\n",
       "      <td>8</td>\n",
       "    </tr>\n",
       "    <tr>\n",
       "      <th>133060</th>\n",
       "      <td>130.0</td>\n",
       "      <td>165.1</td>\n",
       "      <td>2</td>\n",
       "      <td>45</td>\n",
       "      <td>20</td>\n",
       "      <td>24</td>\n",
       "      <td>8</td>\n",
       "      <td>8</td>\n",
       "    </tr>\n",
       "    <tr>\n",
       "      <th>58545</th>\n",
       "      <td>145.0</td>\n",
       "      <td>165.1</td>\n",
       "      <td>3</td>\n",
       "      <td>30</td>\n",
       "      <td>16</td>\n",
       "      <td>41</td>\n",
       "      <td>16</td>\n",
       "      <td>16</td>\n",
       "    </tr>\n",
       "    <tr>\n",
       "      <th>67461</th>\n",
       "      <td>130.0</td>\n",
       "      <td>157.5</td>\n",
       "      <td>2</td>\n",
       "      <td>31</td>\n",
       "      <td>16</td>\n",
       "      <td>106</td>\n",
       "      <td>8</td>\n",
       "      <td>8</td>\n",
       "    </tr>\n",
       "    <tr>\n",
       "      <th>182173</th>\n",
       "      <td>114.0</td>\n",
       "      <td>154.9</td>\n",
       "      <td>4</td>\n",
       "      <td>34</td>\n",
       "      <td>45</td>\n",
       "      <td>39</td>\n",
       "      <td>8</td>\n",
       "      <td>4</td>\n",
       "    </tr>\n",
       "  </tbody>\n",
       "</table>\n",
       "</div>"
      ],
      "text/plain": [
       "        weight  height  body type  ...  bust size  size  inferred_size\n",
       "11186    110.0   157.5          0  ...        106     1              8\n",
       "133060   130.0   165.1          2  ...         24     8              8\n",
       "58545    145.0   165.1          3  ...         41    16             16\n",
       "67461    130.0   157.5          2  ...        106     8              8\n",
       "182173   114.0   154.9          4  ...         39     8              4\n",
       "\n",
       "[5 rows x 8 columns]"
      ]
     },
     "execution_count": 59,
     "metadata": {
      "tags": []
     },
     "output_type": "execute_result"
    }
   ],
   "source": [
    "printData.head()"
   ]
  },
  {
   "cell_type": "code",
   "execution_count": 61,
   "metadata": {
    "colab": {
     "base_uri": "https://localhost:8080/",
     "height": 1000
    },
    "colab_type": "code",
    "id": "QqYnpn3rOTr9",
    "outputId": "be9dac96-443d-4c19-83e6-96d4d33168ba"
   },
   "outputs": [
    {
     "data": {
      "text/html": [
       "<div>\n",
       "<style scoped>\n",
       "    .dataframe tbody tr th:only-of-type {\n",
       "        vertical-align: middle;\n",
       "    }\n",
       "\n",
       "    .dataframe tbody tr th {\n",
       "        vertical-align: top;\n",
       "    }\n",
       "\n",
       "    .dataframe thead th {\n",
       "        text-align: right;\n",
       "    }\n",
       "</style>\n",
       "<table border=\"1\" class=\"dataframe\">\n",
       "  <thead>\n",
       "    <tr style=\"text-align: right;\">\n",
       "      <th></th>\n",
       "      <th></th>\n",
       "      <th></th>\n",
       "      <th>weight</th>\n",
       "      <th>height</th>\n",
       "      <th>age</th>\n",
       "      <th>bust size</th>\n",
       "      <th>inferred_size</th>\n",
       "    </tr>\n",
       "    <tr>\n",
       "      <th>category</th>\n",
       "      <th>body type</th>\n",
       "      <th>size</th>\n",
       "      <th></th>\n",
       "      <th></th>\n",
       "      <th></th>\n",
       "      <th></th>\n",
       "      <th></th>\n",
       "    </tr>\n",
       "  </thead>\n",
       "  <tbody>\n",
       "    <tr>\n",
       "      <th rowspan=\"2\" valign=\"top\">0</th>\n",
       "      <th>3</th>\n",
       "      <th>42</th>\n",
       "      <td>137.391709</td>\n",
       "      <td>170.2</td>\n",
       "      <td>23</td>\n",
       "      <td>76</td>\n",
       "      <td>24</td>\n",
       "    </tr>\n",
       "    <tr>\n",
       "      <th>4</th>\n",
       "      <th>20</th>\n",
       "      <td>149.000000</td>\n",
       "      <td>162.6</td>\n",
       "      <td>49</td>\n",
       "      <td>38</td>\n",
       "      <td>14</td>\n",
       "    </tr>\n",
       "    <tr>\n",
       "      <th rowspan=\"28\" valign=\"top\">1</th>\n",
       "      <th rowspan=\"5\" valign=\"top\">0</th>\n",
       "      <th>1</th>\n",
       "      <td>137.391709</td>\n",
       "      <td>157.5</td>\n",
       "      <td>28</td>\n",
       "      <td>106</td>\n",
       "      <td>8</td>\n",
       "    </tr>\n",
       "    <tr>\n",
       "      <th>4</th>\n",
       "      <td>137.391709</td>\n",
       "      <td>160.0</td>\n",
       "      <td>31</td>\n",
       "      <td>106</td>\n",
       "      <td>8</td>\n",
       "    </tr>\n",
       "    <tr>\n",
       "      <th>8</th>\n",
       "      <td>137.391709</td>\n",
       "      <td>175.3</td>\n",
       "      <td>31</td>\n",
       "      <td>106</td>\n",
       "      <td>8</td>\n",
       "    </tr>\n",
       "    <tr>\n",
       "      <th>12</th>\n",
       "      <td>126.000000</td>\n",
       "      <td>167.6</td>\n",
       "      <td>21</td>\n",
       "      <td>37</td>\n",
       "      <td>8</td>\n",
       "    </tr>\n",
       "    <tr>\n",
       "      <th>16</th>\n",
       "      <td>137.391709</td>\n",
       "      <td>162.6</td>\n",
       "      <td>36</td>\n",
       "      <td>52</td>\n",
       "      <td>14</td>\n",
       "    </tr>\n",
       "    <tr>\n",
       "      <th rowspan=\"2\" valign=\"top\">1</th>\n",
       "      <th>12</th>\n",
       "      <td>135.000000</td>\n",
       "      <td>170.2</td>\n",
       "      <td>32</td>\n",
       "      <td>37</td>\n",
       "      <td>8</td>\n",
       "    </tr>\n",
       "    <tr>\n",
       "      <th>20</th>\n",
       "      <td>137.391709</td>\n",
       "      <td>175.3</td>\n",
       "      <td>40</td>\n",
       "      <td>64</td>\n",
       "      <td>20</td>\n",
       "    </tr>\n",
       "    <tr>\n",
       "      <th rowspan=\"7\" valign=\"top\">2</th>\n",
       "      <th>1</th>\n",
       "      <td>120.000000</td>\n",
       "      <td>167.6</td>\n",
       "      <td>26</td>\n",
       "      <td>25</td>\n",
       "      <td>4</td>\n",
       "    </tr>\n",
       "    <tr>\n",
       "      <th>4</th>\n",
       "      <td>136.000000</td>\n",
       "      <td>170.2</td>\n",
       "      <td>35</td>\n",
       "      <td>25</td>\n",
       "      <td>8</td>\n",
       "    </tr>\n",
       "    <tr>\n",
       "      <th>8</th>\n",
       "      <td>115.000000</td>\n",
       "      <td>162.6</td>\n",
       "      <td>32</td>\n",
       "      <td>37</td>\n",
       "      <td>4</td>\n",
       "    </tr>\n",
       "    <tr>\n",
       "      <th>12</th>\n",
       "      <td>135.000000</td>\n",
       "      <td>172.7</td>\n",
       "      <td>28</td>\n",
       "      <td>26</td>\n",
       "      <td>8</td>\n",
       "    </tr>\n",
       "    <tr>\n",
       "      <th>14</th>\n",
       "      <td>125.000000</td>\n",
       "      <td>165.1</td>\n",
       "      <td>33</td>\n",
       "      <td>48</td>\n",
       "      <td>8</td>\n",
       "    </tr>\n",
       "    <tr>\n",
       "      <th>16</th>\n",
       "      <td>125.000000</td>\n",
       "      <td>167.6</td>\n",
       "      <td>51</td>\n",
       "      <td>35</td>\n",
       "      <td>8</td>\n",
       "    </tr>\n",
       "    <tr>\n",
       "      <th>20</th>\n",
       "      <td>161.000000</td>\n",
       "      <td>172.7</td>\n",
       "      <td>32</td>\n",
       "      <td>106</td>\n",
       "      <td>20</td>\n",
       "    </tr>\n",
       "    <tr>\n",
       "      <th rowspan=\"6\" valign=\"top\">3</th>\n",
       "      <th>4</th>\n",
       "      <td>115.000000</td>\n",
       "      <td>162.6</td>\n",
       "      <td>49</td>\n",
       "      <td>38</td>\n",
       "      <td>4</td>\n",
       "    </tr>\n",
       "    <tr>\n",
       "      <th>8</th>\n",
       "      <td>137.391709</td>\n",
       "      <td>160.0</td>\n",
       "      <td>30</td>\n",
       "      <td>106</td>\n",
       "      <td>8</td>\n",
       "    </tr>\n",
       "    <tr>\n",
       "      <th>12</th>\n",
       "      <td>127.000000</td>\n",
       "      <td>162.6</td>\n",
       "      <td>30</td>\n",
       "      <td>52</td>\n",
       "      <td>8</td>\n",
       "    </tr>\n",
       "    <tr>\n",
       "      <th>16</th>\n",
       "      <td>150.000000</td>\n",
       "      <td>160.0</td>\n",
       "      <td>29</td>\n",
       "      <td>41</td>\n",
       "      <td>14</td>\n",
       "    </tr>\n",
       "    <tr>\n",
       "      <th>20</th>\n",
       "      <td>180.000000</td>\n",
       "      <td>172.7</td>\n",
       "      <td>38</td>\n",
       "      <td>52</td>\n",
       "      <td>24</td>\n",
       "    </tr>\n",
       "    <tr>\n",
       "      <th>24</th>\n",
       "      <td>165.000000</td>\n",
       "      <td>167.6</td>\n",
       "      <td>34</td>\n",
       "      <td>106</td>\n",
       "      <td>20</td>\n",
       "    </tr>\n",
       "    <tr>\n",
       "      <th rowspan=\"7\" valign=\"top\">4</th>\n",
       "      <th>1</th>\n",
       "      <td>117.000000</td>\n",
       "      <td>162.6</td>\n",
       "      <td>35</td>\n",
       "      <td>37</td>\n",
       "      <td>4</td>\n",
       "    </tr>\n",
       "    <tr>\n",
       "      <th>4</th>\n",
       "      <td>130.000000</td>\n",
       "      <td>170.2</td>\n",
       "      <td>31</td>\n",
       "      <td>38</td>\n",
       "      <td>8</td>\n",
       "    </tr>\n",
       "    <tr>\n",
       "      <th>8</th>\n",
       "      <td>150.000000</td>\n",
       "      <td>177.8</td>\n",
       "      <td>38</td>\n",
       "      <td>38</td>\n",
       "      <td>14</td>\n",
       "    </tr>\n",
       "    <tr>\n",
       "      <th>12</th>\n",
       "      <td>140.000000</td>\n",
       "      <td>160.0</td>\n",
       "      <td>43</td>\n",
       "      <td>39</td>\n",
       "      <td>8</td>\n",
       "    </tr>\n",
       "    <tr>\n",
       "      <th>14</th>\n",
       "      <td>140.000000</td>\n",
       "      <td>170.2</td>\n",
       "      <td>31</td>\n",
       "      <td>26</td>\n",
       "      <td>8</td>\n",
       "    </tr>\n",
       "    <tr>\n",
       "      <th>16</th>\n",
       "      <td>155.000000</td>\n",
       "      <td>180.3</td>\n",
       "      <td>32</td>\n",
       "      <td>50</td>\n",
       "      <td>14</td>\n",
       "    </tr>\n",
       "    <tr>\n",
       "      <th>20</th>\n",
       "      <td>175.000000</td>\n",
       "      <td>170.2</td>\n",
       "      <td>35</td>\n",
       "      <td>52</td>\n",
       "      <td>20</td>\n",
       "    </tr>\n",
       "    <tr>\n",
       "      <th>5</th>\n",
       "      <th>1</th>\n",
       "      <td>118.000000</td>\n",
       "      <td>167.6</td>\n",
       "      <td>27</td>\n",
       "      <td>26</td>\n",
       "      <td>4</td>\n",
       "    </tr>\n",
       "  </tbody>\n",
       "</table>\n",
       "</div>"
      ],
      "text/plain": [
       "                             weight  height  age  bust size  inferred_size\n",
       "category body type size                                                   \n",
       "0        3         42    137.391709   170.2   23         76             24\n",
       "         4         20    149.000000   162.6   49         38             14\n",
       "1        0         1     137.391709   157.5   28        106              8\n",
       "                   4     137.391709   160.0   31        106              8\n",
       "                   8     137.391709   175.3   31        106              8\n",
       "                   12    126.000000   167.6   21         37              8\n",
       "                   16    137.391709   162.6   36         52             14\n",
       "         1         12    135.000000   170.2   32         37              8\n",
       "                   20    137.391709   175.3   40         64             20\n",
       "         2         1     120.000000   167.6   26         25              4\n",
       "                   4     136.000000   170.2   35         25              8\n",
       "                   8     115.000000   162.6   32         37              4\n",
       "                   12    135.000000   172.7   28         26              8\n",
       "                   14    125.000000   165.1   33         48              8\n",
       "                   16    125.000000   167.6   51         35              8\n",
       "                   20    161.000000   172.7   32        106             20\n",
       "         3         4     115.000000   162.6   49         38              4\n",
       "                   8     137.391709   160.0   30        106              8\n",
       "                   12    127.000000   162.6   30         52              8\n",
       "                   16    150.000000   160.0   29         41             14\n",
       "                   20    180.000000   172.7   38         52             24\n",
       "                   24    165.000000   167.6   34        106             20\n",
       "         4         1     117.000000   162.6   35         37              4\n",
       "                   4     130.000000   170.2   31         38              8\n",
       "                   8     150.000000   177.8   38         38             14\n",
       "                   12    140.000000   160.0   43         39              8\n",
       "                   14    140.000000   170.2   31         26              8\n",
       "                   16    155.000000   180.3   32         50             14\n",
       "                   20    175.000000   170.2   35         52             20\n",
       "         5         1     118.000000   167.6   27         26              4"
      ]
     },
     "execution_count": 61,
     "metadata": {
      "tags": []
     },
     "output_type": "execute_result"
    }
   ],
   "source": [
    "data = printData.groupby(['category','body type','size']).first()\n",
    "data = pd.DataFrame(data)\n",
    "data.head(30)"
   ]
  },
  {
   "cell_type": "markdown",
   "metadata": {
    "colab_type": "text",
    "id": "ewdVmPojTY10"
   },
   "source": [
    "**Model is not very accurate as there is variation for many instances between the size purchased and inferred size**"
   ]
  }
 ],
 "metadata": {
  "colab": {
   "collapsed_sections": [],
   "machine_shape": "hm",
   "name": "Infer-Size.ipynb",
   "provenance": []
  },
  "kernelspec": {
   "display_name": "Python 3",
   "language": "python",
   "name": "python3"
  },
  "language_info": {
   "codemirror_mode": {
    "name": "ipython",
    "version": 3
   },
   "file_extension": ".py",
   "mimetype": "text/x-python",
   "name": "python",
   "nbconvert_exporter": "python",
   "pygments_lexer": "ipython3",
   "version": "3.7.1"
  }
 },
 "nbformat": 4,
 "nbformat_minor": 1
}
