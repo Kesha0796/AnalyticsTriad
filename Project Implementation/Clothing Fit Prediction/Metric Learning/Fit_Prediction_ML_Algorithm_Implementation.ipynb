{
 "cells": [
  {
   "cell_type": "markdown",
   "metadata": {
    "colab_type": "text",
    "id": "5a0lyT35IzDS"
   },
   "source": [
    "### PREPROCESSING AND ALGORITHM IMPLEMENTATION FOR FIT PREDICTION\n",
    "#### NAME: Priyanka Raju\n",
    "#### SJSU ID: 013839865"
   ]
  },
  {
   "cell_type": "markdown",
   "metadata": {
    "colab_type": "text",
    "id": "oDiJYX0m7dmj"
   },
   "source": [
    "**Mount drive to acccess files for the project**"
   ]
  },
  {
   "cell_type": "code",
   "execution_count": 0,
   "metadata": {
    "colab": {},
    "colab_type": "code",
    "id": "gNDgL0yvvgSk"
   },
   "outputs": [],
   "source": [
    "! pip install matplotlib==3.1.0"
   ]
  },
  {
   "cell_type": "code",
   "execution_count": 0,
   "metadata": {
    "colab": {},
    "colab_type": "code",
    "id": "Dcw15le4JAc5"
   },
   "outputs": [],
   "source": [
    "from google.colab import drive\n",
    "drive.mount('/content/drive')"
   ]
  },
  {
   "cell_type": "markdown",
   "metadata": {
    "colab_type": "text",
    "id": "9ku7IxGE7OQz"
   },
   "source": [
    "**Install category_encoders to convert the categorical features to numeric features using different techniques**\n",
    "http://contrib.scikit-learn.org/categorical-encoding/index.html"
   ]
  },
  {
   "cell_type": "code",
   "execution_count": 5,
   "metadata": {
    "colab": {
     "base_uri": "https://localhost:8080/",
     "height": 292
    },
    "colab_type": "code",
    "id": "X9si9gvjJnC-",
    "outputId": "09359ac3-0da0-4f3c-d962-abcb4dae8ace"
   },
   "outputs": [
    {
     "name": "stdout",
     "output_type": "stream",
     "text": [
      "Collecting category_encoders\n",
      "\u001b[?25l  Downloading https://files.pythonhosted.org/packages/a0/52/c54191ad3782de633ea3d6ee3bb2837bda0cf3bc97644bb6375cf14150a0/category_encoders-2.1.0-py2.py3-none-any.whl (100kB)\n",
      "\r",
      "\u001b[K     |███▎                            | 10kB 19.7MB/s eta 0:00:01\r",
      "\u001b[K     |██████▌                         | 20kB 1.7MB/s eta 0:00:01\r",
      "\u001b[K     |█████████▉                      | 30kB 2.5MB/s eta 0:00:01\r",
      "\u001b[K     |█████████████                   | 40kB 1.7MB/s eta 0:00:01\r",
      "\u001b[K     |████████████████▍               | 51kB 2.1MB/s eta 0:00:01\r",
      "\u001b[K     |███████████████████▋            | 61kB 2.5MB/s eta 0:00:01\r",
      "\u001b[K     |██████████████████████▉         | 71kB 2.9MB/s eta 0:00:01\r",
      "\u001b[K     |██████████████████████████▏     | 81kB 3.3MB/s eta 0:00:01\r",
      "\u001b[K     |█████████████████████████████▍  | 92kB 3.6MB/s eta 0:00:01\r",
      "\u001b[K     |████████████████████████████████| 102kB 1.7MB/s \n",
      "\u001b[?25hRequirement already satisfied: pandas>=0.21.1 in /usr/local/lib/python3.6/dist-packages (from category_encoders) (0.25.3)\n",
      "Requirement already satisfied: statsmodels>=0.6.1 in /usr/local/lib/python3.6/dist-packages (from category_encoders) (0.10.1)\n",
      "Requirement already satisfied: numpy>=1.11.3 in /usr/local/lib/python3.6/dist-packages (from category_encoders) (1.17.4)\n",
      "Requirement already satisfied: scipy>=0.19.0 in /usr/local/lib/python3.6/dist-packages (from category_encoders) (1.3.2)\n",
      "Requirement already satisfied: scikit-learn>=0.20.0 in /usr/local/lib/python3.6/dist-packages (from category_encoders) (0.21.3)\n",
      "Requirement already satisfied: patsy>=0.4.1 in /usr/local/lib/python3.6/dist-packages (from category_encoders) (0.5.1)\n",
      "Requirement already satisfied: pytz>=2017.2 in /usr/local/lib/python3.6/dist-packages (from pandas>=0.21.1->category_encoders) (2018.9)\n",
      "Requirement already satisfied: python-dateutil>=2.6.1 in /usr/local/lib/python3.6/dist-packages (from pandas>=0.21.1->category_encoders) (2.6.1)\n",
      "Requirement already satisfied: joblib>=0.11 in /usr/local/lib/python3.6/dist-packages (from scikit-learn>=0.20.0->category_encoders) (0.14.0)\n",
      "Requirement already satisfied: six in /usr/local/lib/python3.6/dist-packages (from patsy>=0.4.1->category_encoders) (1.12.0)\n",
      "Installing collected packages: category-encoders\n",
      "Successfully installed category-encoders-2.1.0\n"
     ]
    }
   ],
   "source": [
    "! pip install category_encoders"
   ]
  },
  {
   "cell_type": "markdown",
   "metadata": {
    "colab_type": "text",
    "id": "nEoWisQ861QK"
   },
   "source": [
    "**Install PyLMNN for Large Margin Nearest Neighbor implementation along with K-NN**\n",
    "\n",
    "https://pypi.org/project/PyLMNN/"
   ]
  },
  {
   "cell_type": "code",
   "execution_count": 2,
   "metadata": {
    "colab": {
     "base_uri": "https://localhost:8080/",
     "height": 258
    },
    "colab_type": "code",
    "id": "R48pul5l6VHM",
    "outputId": "3007d765-d6ae-457a-ba81-da68e52efd6a"
   },
   "outputs": [
    {
     "name": "stdout",
     "output_type": "stream",
     "text": [
      "Collecting pylmnn\n",
      "  Downloading https://files.pythonhosted.org/packages/ac/15/be5776c3247a877850211b5efdeb9cbe907088dd4a20a51201c9890a0783/PyLMNN-1.6.3.tar.gz\n",
      "Requirement already satisfied: numpy>=1.11 in /usr/local/lib/python3.6/dist-packages (from pylmnn) (1.17.4)\n",
      "Requirement already satisfied: scipy>=0.18 in /usr/local/lib/python3.6/dist-packages (from pylmnn) (1.3.2)\n",
      "Requirement already satisfied: scikit_learn>=0.18 in /usr/local/lib/python3.6/dist-packages (from pylmnn) (0.21.3)\n",
      "Requirement already satisfied: joblib>=0.11 in /usr/local/lib/python3.6/dist-packages (from scikit_learn>=0.18->pylmnn) (0.14.0)\n",
      "Building wheels for collected packages: pylmnn\n",
      "  Building wheel for pylmnn (setup.py) ... \u001b[?25l\u001b[?25hdone\n",
      "  Created wheel for pylmnn: filename=PyLMNN-1.6.3-cp36-none-any.whl size=21049 sha256=4f15ad6bb5208e4bfdf1806cefcc967395517d351db9c5bd1b8be1e66ba89be4\n",
      "  Stored in directory: /root/.cache/pip/wheels/62/a0/bd/b84f85bb04c14eac1c1c4e52c7b49fc7f4c2ed6ffe6ad6f2a7\n",
      "Successfully built pylmnn\n",
      "Installing collected packages: pylmnn\n",
      "Successfully installed pylmnn-1.6.3\n"
     ]
    }
   ],
   "source": [
    "! pip3 install pylmnn"
   ]
  },
  {
   "cell_type": "markdown",
   "metadata": {
    "colab_type": "text",
    "id": "XF_AHXa7MTRb"
   },
   "source": [
    "https://scikit-learn.org/"
   ]
  },
  {
   "cell_type": "code",
   "execution_count": 6,
   "metadata": {
    "colab": {
     "base_uri": "https://localhost:8080/",
     "height": 71
    },
    "colab_type": "code",
    "id": "ZDqSNthkIzDa",
    "outputId": "90ef2661-928b-45c1-f8a5-08dcd2b6118a"
   },
   "outputs": [
    {
     "name": "stderr",
     "output_type": "stream",
     "text": [
      "/usr/local/lib/python3.6/dist-packages/sklearn/externals/six.py:31: DeprecationWarning: The module is deprecated in version 0.21 and will be removed in version 0.23 since we've dropped support for Python 2.7. Please rely on the official version of six (https://pypi.org/project/six/).\n",
      "  \"(https://pypi.org/project/six/).\", DeprecationWarning)\n"
     ]
    }
   ],
   "source": [
    "import numpy as np\n",
    "import pandas as pd\n",
    "\n",
    "# CATEGORICAL TO NUMERICAL ENCODING\n",
    "import category_encoders as ce\n",
    "\n",
    "# TO PLOT \n",
    "import seaborn as sns\n",
    "sns.set()\n",
    "import matplotlib.pyplot as plt\n",
    "\n",
    "# Model selection for splitting data into train and test \n",
    "from sklearn.model_selection import train_test_split\n",
    "# Import GridsearchCV to \n",
    "from sklearn.model_selection import GridSearchCV\n",
    "\n",
    "from sklearn.ensemble import RandomForestClassifier\n",
    "from sklearn.tree import DecisionTreeClassifier\n",
    "from sklearn.neighbors import KNeighborsClassifier\n",
    "\n",
    "from pylmnn import LargeMarginNearestNeighbor as LMNN\n",
    "\n",
    "from sklearn import metrics\n",
    "from sklearn.metrics import mean_squared_error\n",
    "from sklearn.metrics import classification_report, confusion_matrix\n",
    "#Import scikit-learn metrics module for accuracy calculation\n",
    "from sklearn import metrics\n",
    "\n",
    "from sklearn.model_selection import cross_val_score\n",
    "import warnings"
   ]
  },
  {
   "cell_type": "markdown",
   "metadata": {
    "colab_type": "text",
    "id": "_vo9-Zo_IzD-"
   },
   "source": [
    "### Reading from the merged dataset"
   ]
  },
  {
   "cell_type": "code",
   "execution_count": 0,
   "metadata": {
    "colab": {},
    "colab_type": "code",
    "id": "_X2jInCDIzD_"
   },
   "outputs": [],
   "source": [
    "df = pd.read_json('/content/drive/My Drive/Colab Notebooks/256-project/updatedFitDF.json', lines=True)"
   ]
  },
  {
   "cell_type": "code",
   "execution_count": 0,
   "metadata": {
    "colab": {
     "base_uri": "https://localhost:8080/",
     "height": 326
    },
    "colab_type": "code",
    "id": "V_Gypvv9IzEQ",
    "outputId": "67b25713-d692-45f4-b1bc-f08de11bb5b8"
   },
   "outputs": [
    {
     "data": {
      "text/html": [
       "<div>\n",
       "<style scoped>\n",
       "    .dataframe tbody tr th:only-of-type {\n",
       "        vertical-align: middle;\n",
       "    }\n",
       "\n",
       "    .dataframe tbody tr th {\n",
       "        vertical-align: top;\n",
       "    }\n",
       "\n",
       "    .dataframe thead th {\n",
       "        text-align: right;\n",
       "    }\n",
       "</style>\n",
       "<table border=\"1\" class=\"dataframe\">\n",
       "  <thead>\n",
       "    <tr style=\"text-align: right;\">\n",
       "      <th></th>\n",
       "      <th>bra size</th>\n",
       "      <th>category</th>\n",
       "      <th>cup size</th>\n",
       "      <th>fit</th>\n",
       "      <th>height</th>\n",
       "      <th>hips</th>\n",
       "      <th>item_id</th>\n",
       "      <th>length</th>\n",
       "      <th>quality</th>\n",
       "      <th>shoe size</th>\n",
       "      <th>shoe width</th>\n",
       "      <th>size</th>\n",
       "      <th>user_id</th>\n",
       "      <th>age</th>\n",
       "      <th>body type</th>\n",
       "      <th>bust size</th>\n",
       "      <th>rented for</th>\n",
       "      <th>weight</th>\n",
       "      <th>fit_to_numeric</th>\n",
       "    </tr>\n",
       "  </thead>\n",
       "  <tbody>\n",
       "    <tr>\n",
       "      <th>0</th>\n",
       "      <td>34</td>\n",
       "      <td>new</td>\n",
       "      <td>d</td>\n",
       "      <td>small</td>\n",
       "      <td>167.6</td>\n",
       "      <td>38.000000</td>\n",
       "      <td>123373</td>\n",
       "      <td>just right</td>\n",
       "      <td>5.0</td>\n",
       "      <td>0.0</td>\n",
       "      <td>Unspecified</td>\n",
       "      <td>7</td>\n",
       "      <td>991571</td>\n",
       "      <td>33</td>\n",
       "      <td>Unspecified</td>\n",
       "      <td>Unspecified</td>\n",
       "      <td>Unspecified</td>\n",
       "      <td>137.391709</td>\n",
       "      <td>1</td>\n",
       "    </tr>\n",
       "    <tr>\n",
       "      <th>1</th>\n",
       "      <td>36</td>\n",
       "      <td>new</td>\n",
       "      <td>b</td>\n",
       "      <td>small</td>\n",
       "      <td>157.5</td>\n",
       "      <td>30.000000</td>\n",
       "      <td>123373</td>\n",
       "      <td>just right</td>\n",
       "      <td>3.0</td>\n",
       "      <td>0.0</td>\n",
       "      <td>Unspecified</td>\n",
       "      <td>13</td>\n",
       "      <td>587883</td>\n",
       "      <td>33</td>\n",
       "      <td>Unspecified</td>\n",
       "      <td>Unspecified</td>\n",
       "      <td>Unspecified</td>\n",
       "      <td>137.391709</td>\n",
       "      <td>1</td>\n",
       "    </tr>\n",
       "    <tr>\n",
       "      <th>2</th>\n",
       "      <td>32</td>\n",
       "      <td>new</td>\n",
       "      <td>b</td>\n",
       "      <td>small</td>\n",
       "      <td>170.2</td>\n",
       "      <td>40.358501</td>\n",
       "      <td>123373</td>\n",
       "      <td>slightly long</td>\n",
       "      <td>2.0</td>\n",
       "      <td>9.0</td>\n",
       "      <td>Unspecified</td>\n",
       "      <td>7</td>\n",
       "      <td>395665</td>\n",
       "      <td>33</td>\n",
       "      <td>Unspecified</td>\n",
       "      <td>Unspecified</td>\n",
       "      <td>Unspecified</td>\n",
       "      <td>137.391709</td>\n",
       "      <td>1</td>\n",
       "    </tr>\n",
       "    <tr>\n",
       "      <th>3</th>\n",
       "      <td>36</td>\n",
       "      <td>new</td>\n",
       "      <td>dd/e</td>\n",
       "      <td>fit</td>\n",
       "      <td>165.1</td>\n",
       "      <td>40.358501</td>\n",
       "      <td>123373</td>\n",
       "      <td>just right</td>\n",
       "      <td>5.0</td>\n",
       "      <td>0.0</td>\n",
       "      <td>Unspecified</td>\n",
       "      <td>21</td>\n",
       "      <td>875643</td>\n",
       "      <td>33</td>\n",
       "      <td>Unspecified</td>\n",
       "      <td>Unspecified</td>\n",
       "      <td>Unspecified</td>\n",
       "      <td>137.391709</td>\n",
       "      <td>2</td>\n",
       "    </tr>\n",
       "    <tr>\n",
       "      <th>4</th>\n",
       "      <td>36</td>\n",
       "      <td>new</td>\n",
       "      <td>b</td>\n",
       "      <td>small</td>\n",
       "      <td>157.5</td>\n",
       "      <td>40.358501</td>\n",
       "      <td>123373</td>\n",
       "      <td>slightly long</td>\n",
       "      <td>5.0</td>\n",
       "      <td>0.0</td>\n",
       "      <td>Unspecified</td>\n",
       "      <td>18</td>\n",
       "      <td>944840</td>\n",
       "      <td>33</td>\n",
       "      <td>Unspecified</td>\n",
       "      <td>Unspecified</td>\n",
       "      <td>Unspecified</td>\n",
       "      <td>137.391709</td>\n",
       "      <td>1</td>\n",
       "    </tr>\n",
       "  </tbody>\n",
       "</table>\n",
       "</div>"
      ],
      "text/plain": [
       "   bra size category cup size  ...   rented for      weight  fit_to_numeric\n",
       "0        34      new        d  ...  Unspecified  137.391709               1\n",
       "1        36      new        b  ...  Unspecified  137.391709               1\n",
       "2        32      new        b  ...  Unspecified  137.391709               1\n",
       "3        36      new     dd/e  ...  Unspecified  137.391709               2\n",
       "4        36      new        b  ...  Unspecified  137.391709               1\n",
       "\n",
       "[5 rows x 19 columns]"
      ]
     },
     "execution_count": 6,
     "metadata": {
      "tags": []
     },
     "output_type": "execute_result"
    }
   ],
   "source": [
    "df.head()"
   ]
  },
  {
   "cell_type": "code",
   "execution_count": 0,
   "metadata": {
    "colab": {
     "base_uri": "https://localhost:8080/",
     "height": 425
    },
    "colab_type": "code",
    "id": "yydOk4h3IzE6",
    "outputId": "3be3dc69-c084-45e8-eab6-38fc964d78bc"
   },
   "outputs": [
    {
     "name": "stdout",
     "output_type": "stream",
     "text": [
      "<class 'pandas.core.frame.DataFrame'>\n",
      "RangeIndex: 275334 entries, 0 to 275333\n",
      "Data columns (total 19 columns):\n",
      "bra size          275334 non-null int64\n",
      "category          275334 non-null object\n",
      "cup size          275334 non-null object\n",
      "fit               275334 non-null object\n",
      "height            275334 non-null float64\n",
      "hips              275334 non-null float64\n",
      "item_id           275334 non-null int64\n",
      "length            275334 non-null object\n",
      "quality           275334 non-null float64\n",
      "shoe size         275334 non-null float64\n",
      "shoe width        275334 non-null object\n",
      "size              275334 non-null int64\n",
      "user_id           275334 non-null int64\n",
      "age               275334 non-null int64\n",
      "body type         275334 non-null object\n",
      "bust size         275334 non-null object\n",
      "rented for        275334 non-null object\n",
      "weight            275334 non-null float64\n",
      "fit_to_numeric    275334 non-null int64\n",
      "dtypes: float64(5), int64(6), object(8)\n",
      "memory usage: 39.9+ MB\n"
     ]
    }
   ],
   "source": [
    "df.info()"
   ]
  },
  {
   "cell_type": "markdown",
   "metadata": {
    "colab_type": "text",
    "id": "Z0ax1CuWIzFE"
   },
   "source": [
    "### Split the data such that make the Fit as target variable"
   ]
  },
  {
   "cell_type": "code",
   "execution_count": 0,
   "metadata": {
    "colab": {},
    "colab_type": "code",
    "id": "FfkJ5I4xIzFQ"
   },
   "outputs": [],
   "source": [
    "X = df.drop(columns={'fit','fit_to_numeric'}, axis = 1)\n",
    "y = df['fit_to_numeric']"
   ]
  },
  {
   "cell_type": "code",
   "execution_count": 0,
   "metadata": {
    "colab": {
     "base_uri": "https://localhost:8080/",
     "height": 34
    },
    "colab_type": "code",
    "id": "aykt-8-KIzFT",
    "outputId": "0af6773b-1e33-4cb4-df48-11087c008c23"
   },
   "outputs": [
    {
     "data": {
      "text/plain": [
       "(275334, 19)"
      ]
     },
     "execution_count": 9,
     "metadata": {
      "tags": []
     },
     "output_type": "execute_result"
    }
   ],
   "source": [
    "df.shape"
   ]
  },
  {
   "cell_type": "code",
   "execution_count": 0,
   "metadata": {
    "colab": {
     "base_uri": "https://localhost:8080/",
     "height": 34
    },
    "colab_type": "code",
    "id": "rRS1u4BPIzFc",
    "outputId": "3752bedb-1118-48b5-cf83-59deeeb4faf9"
   },
   "outputs": [
    {
     "data": {
      "text/plain": [
       "(275334, 17)"
      ]
     },
     "execution_count": 10,
     "metadata": {
      "tags": []
     },
     "output_type": "execute_result"
    }
   ],
   "source": [
    "X.shape"
   ]
  },
  {
   "cell_type": "code",
   "execution_count": 0,
   "metadata": {
    "colab": {
     "base_uri": "https://localhost:8080/",
     "height": 34
    },
    "colab_type": "code",
    "id": "GTssBr3UIzFf",
    "outputId": "d70011df-6ac7-4c5c-a138-e5a9d0f6845c"
   },
   "outputs": [
    {
     "data": {
      "text/plain": [
       "(275334,)"
      ]
     },
     "execution_count": 97,
     "metadata": {
      "tags": []
     },
     "output_type": "execute_result"
    }
   ],
   "source": [
    "y.shape"
   ]
  },
  {
   "cell_type": "markdown",
   "metadata": {
    "colab_type": "text",
    "id": "hcKOSiywIzFj"
   },
   "source": [
    "### Splitting data into train and test"
   ]
  },
  {
   "cell_type": "code",
   "execution_count": 0,
   "metadata": {
    "colab": {},
    "colab_type": "code",
    "id": "0V3YdsVIIzFo"
   },
   "outputs": [],
   "source": [
    "X_train, X_test, y_train, y_test = train_test_split(X, y, test_size=0.2, random_state=1)"
   ]
  },
  {
   "cell_type": "markdown",
   "metadata": {
    "colab_type": "text",
    "id": "h8llT55eIzFu"
   },
   "source": [
    "### Preprocessing in terms of converting categorical attributes to numerical\n",
    "https://towardsdatascience.com/all-about-categorical-variable-encoding-305f3361fd02"
   ]
  },
  {
   "cell_type": "markdown",
   "metadata": {
    "colab_type": "text",
    "id": "cmC2MB9QIzFv"
   },
   "source": [
    "### 1. 'length' attribute can be viewd as ordinal attribute type, we can use the Ordinal Encoder to assign numeric values to this column"
   ]
  },
  {
   "cell_type": "code",
   "execution_count": 0,
   "metadata": {
    "colab": {
     "base_uri": "https://localhost:8080/",
     "height": 51
    },
    "colab_type": "code",
    "id": "GyUCVG_WIzFx",
    "outputId": "4fb581d8-8174-4555-b838-7a491a2c6556"
   },
   "outputs": [
    {
     "data": {
      "text/plain": [
       "array(['Unspecified', 'just right', 'slightly long', 'slightly short',\n",
       "       'very long', 'very short'], dtype=object)"
      ]
     },
     "execution_count": 13,
     "metadata": {
      "tags": []
     },
     "output_type": "execute_result"
    }
   ],
   "source": [
    "X_train['length'].sort_values(ascending=True).unique()"
   ]
  },
  {
   "cell_type": "code",
   "execution_count": 0,
   "metadata": {
    "colab": {},
    "colab_type": "code",
    "id": "F6JE0pStIzFz"
   },
   "outputs": [],
   "source": [
    "mappingLen=[{'col': 'length','mapping': {'Unspecified': 0, 'very short': 1, 'slightly short': 2,'just right':3,'slightly long':4,'very long':5}}]\n",
    "\n",
    "ceOrdLen = ce.OrdinalEncoder(cols=['length'],return_df=True,mapping=mappingLen)\n",
    "X_train = ceOrdLen.fit_transform(X_train,y_train)"
   ]
  },
  {
   "cell_type": "code",
   "execution_count": 0,
   "metadata": {
    "colab": {
     "base_uri": "https://localhost:8080/",
     "height": 34
    },
    "colab_type": "code",
    "id": "ArhCSsr1IzF5",
    "outputId": "85fa7d89-1923-44da-fcb9-eb8e07a1feed"
   },
   "outputs": [
    {
     "data": {
      "text/plain": [
       "(220267, 17)"
      ]
     },
     "execution_count": 15,
     "metadata": {
      "tags": []
     },
     "output_type": "execute_result"
    }
   ],
   "source": [
    "X_train.shape"
   ]
  },
  {
   "cell_type": "code",
   "execution_count": 0,
   "metadata": {
    "colab": {},
    "colab_type": "code",
    "id": "q6YhQ1agIzGC"
   },
   "outputs": [],
   "source": [
    "X_test = ceOrdLen.transform(X_test)"
   ]
  },
  {
   "cell_type": "code",
   "execution_count": 0,
   "metadata": {
    "colab": {
     "base_uri": "https://localhost:8080/",
     "height": 34
    },
    "colab_type": "code",
    "id": "Dr6KyhI9IzGE",
    "outputId": "5e62f4f2-c92b-4e5d-9167-a4f1d3b2f654"
   },
   "outputs": [
    {
     "data": {
      "text/plain": [
       "(55067, 17)"
      ]
     },
     "execution_count": 17,
     "metadata": {
      "tags": []
     },
     "output_type": "execute_result"
    }
   ],
   "source": [
    "X_test.shape"
   ]
  },
  {
   "cell_type": "code",
   "execution_count": 0,
   "metadata": {
    "colab": {
     "base_uri": "https://localhost:8080/",
     "height": 34
    },
    "colab_type": "code",
    "id": "a2FOPkzhIzGI",
    "outputId": "a3b59517-6236-4eaa-a7b9-75297b8ec42e"
   },
   "outputs": [
    {
     "data": {
      "text/plain": [
       "array([0, 1, 2, 3, 4, 5])"
      ]
     },
     "execution_count": 18,
     "metadata": {
      "tags": []
     },
     "output_type": "execute_result"
    }
   ],
   "source": [
    "X_train['length'].sort_values(ascending=True).unique()"
   ]
  },
  {
   "cell_type": "markdown",
   "metadata": {
    "colab_type": "text",
    "id": "Qkbai5QWIzGP"
   },
   "source": [
    "###  2. 'shoe width' attribute can be viewd as ordinal attribute type, we can use the Ordinal Encoder to assign numeric values to this column"
   ]
  },
  {
   "cell_type": "code",
   "execution_count": 0,
   "metadata": {
    "colab": {
     "base_uri": "https://localhost:8080/",
     "height": 34
    },
    "colab_type": "code",
    "id": "3f4Q36D_IzGP",
    "outputId": "7ff8e1a0-c6d4-4176-e287-bbf27958bbb6"
   },
   "outputs": [
    {
     "data": {
      "text/plain": [
       "array(['Unspecified', 'average', 'narrow', 'wide'], dtype=object)"
      ]
     },
     "execution_count": 19,
     "metadata": {
      "tags": []
     },
     "output_type": "execute_result"
    }
   ],
   "source": [
    "X_train['shoe width'].sort_values(ascending=True).unique()"
   ]
  },
  {
   "cell_type": "code",
   "execution_count": 0,
   "metadata": {
    "colab": {},
    "colab_type": "code",
    "id": "zQjr3JbkIzGY"
   },
   "outputs": [],
   "source": [
    "mappingShoe=[{'col': 'shoe width','mapping': {'Unspecified': 0, 'average': 1, 'narrow': 2,'wide':3}}]\n",
    "\n",
    "ceOrdShoe = ce.OrdinalEncoder(cols=['shoe width'],return_df=True,mapping=mappingShoe)\n",
    "X_train = ceOrdShoe.fit_transform(X_train,y_train)"
   ]
  },
  {
   "cell_type": "code",
   "execution_count": 0,
   "metadata": {
    "colab": {
     "base_uri": "https://localhost:8080/",
     "height": 34
    },
    "colab_type": "code",
    "id": "9o-xxloSIzGb",
    "outputId": "c6ebff28-1885-4a6f-ccb7-d451a8fe70da"
   },
   "outputs": [
    {
     "data": {
      "text/plain": [
       "array([0, 1, 2, 3])"
      ]
     },
     "execution_count": 21,
     "metadata": {
      "tags": []
     },
     "output_type": "execute_result"
    }
   ],
   "source": [
    "X_train['shoe width'].sort_values(ascending=True).unique()"
   ]
  },
  {
   "cell_type": "code",
   "execution_count": 0,
   "metadata": {
    "colab": {},
    "colab_type": "code",
    "id": "m86X7AxrIzGk"
   },
   "outputs": [],
   "source": [
    "X_test = ceOrdShoe.transform(X_test)"
   ]
  },
  {
   "cell_type": "code",
   "execution_count": 0,
   "metadata": {
    "colab": {
     "base_uri": "https://localhost:8080/",
     "height": 34
    },
    "colab_type": "code",
    "id": "it2P41ZdIzGp",
    "outputId": "ac38a33e-6f51-4b4c-e152-a0a7cb4917c4"
   },
   "outputs": [
    {
     "data": {
      "text/plain": [
       "(55067, 17)"
      ]
     },
     "execution_count": 23,
     "metadata": {
      "tags": []
     },
     "output_type": "execute_result"
    }
   ],
   "source": [
    "X_test.shape"
   ]
  },
  {
   "cell_type": "markdown",
   "metadata": {
    "colab_type": "text",
    "id": "mTox8fm9IzGz"
   },
   "source": [
    "### 3. 'body type' attribute can be converted from categorical to numerical using Leave One Out Encoding technique"
   ]
  },
  {
   "cell_type": "code",
   "execution_count": 0,
   "metadata": {
    "colab": {
     "base_uri": "https://localhost:8080/",
     "height": 51
    },
    "colab_type": "code",
    "id": "R9-or5sZIzG0",
    "outputId": "5fd89cd4-1cb5-474d-a105-da7c53a3553f"
   },
   "outputs": [
    {
     "data": {
      "text/plain": [
       "array(['Unspecified', 'apple', 'athletic', 'full bust', 'hourglass',\n",
       "       'pear', 'petite', 'straight & narrow'], dtype=object)"
      ]
     },
     "execution_count": 24,
     "metadata": {
      "tags": []
     },
     "output_type": "execute_result"
    }
   ],
   "source": [
    "X_train['body type'].sort_values(ascending=True).unique()"
   ]
  },
  {
   "cell_type": "code",
   "execution_count": 0,
   "metadata": {
    "colab": {},
    "colab_type": "code",
    "id": "-zRkrT3YIzG3"
   },
   "outputs": [],
   "source": [
    "ceLOOBT = ce.LeaveOneOutEncoder(cols=['body type'],return_df=True)\n",
    "X_train = ceLOOBT.fit_transform(X_train,y_train)"
   ]
  },
  {
   "cell_type": "code",
   "execution_count": 0,
   "metadata": {
    "colab": {
     "base_uri": "https://localhost:8080/",
     "height": 102
    },
    "colab_type": "code",
    "id": "jSjzUlzIIzG6",
    "outputId": "e13976f2-a80a-4c55-e174-6782198da29c"
   },
   "outputs": [
    {
     "data": {
      "text/plain": [
       "array([1.98214184, 1.98217041, 1.98219898, 1.98393574, 1.98418675,\n",
       "       1.98443775, 1.98620806, 1.98629215, 1.98637625, 1.99631167,\n",
       "       1.99632452, 1.99633737, 1.99662208, 1.99664475, 1.99666742,\n",
       "       1.99808221, 1.9981656 , 1.99824898, 2.00334183, 2.00339847,\n",
       "       2.00345511, 2.01869211, 2.01874825, 2.01880438])"
      ]
     },
     "execution_count": 26,
     "metadata": {
      "tags": []
     },
     "output_type": "execute_result"
    }
   ],
   "source": [
    "X_train['body type'].sort_values(ascending=True).unique()"
   ]
  },
  {
   "cell_type": "code",
   "execution_count": 0,
   "metadata": {
    "colab": {},
    "colab_type": "code",
    "id": "01f6AEQuIzHB"
   },
   "outputs": [],
   "source": [
    "X_test = ceLOOBT.transform(X_test)"
   ]
  },
  {
   "cell_type": "code",
   "execution_count": 0,
   "metadata": {
    "colab": {
     "base_uri": "https://localhost:8080/",
     "height": 34
    },
    "colab_type": "code",
    "id": "qd3Lo9rhIzHH",
    "outputId": "dbf9d671-ee73-4480-c5d6-8145d4c05281"
   },
   "outputs": [
    {
     "data": {
      "text/plain": [
       "(55067, 17)"
      ]
     },
     "execution_count": 28,
     "metadata": {
      "tags": []
     },
     "output_type": "execute_result"
    }
   ],
   "source": [
    "X_test.shape"
   ]
  },
  {
   "cell_type": "markdown",
   "metadata": {
    "colab_type": "text",
    "id": "QOXEN9JiIzHL"
   },
   "source": [
    "### 4. 'rented for' attribute can be converted from categorical to numerical using Binay Encoding technique"
   ]
  },
  {
   "cell_type": "code",
   "execution_count": 0,
   "metadata": {
    "colab": {
     "base_uri": "https://localhost:8080/",
     "height": 68
    },
    "colab_type": "code",
    "id": "fyrOA5bNIzHM",
    "outputId": "a459f017-6d98-455f-8576-b0e9b35a9f36"
   },
   "outputs": [
    {
     "data": {
      "text/plain": [
       "array(['Unspecified', 'date', 'everyday', 'formal affair', 'other',\n",
       "       'party', 'party: cocktail', 'vacation', 'wedding', 'work'],\n",
       "      dtype=object)"
      ]
     },
     "execution_count": 29,
     "metadata": {
      "tags": []
     },
     "output_type": "execute_result"
    }
   ],
   "source": [
    "X_train['rented for'].sort_values(ascending=True).unique()"
   ]
  },
  {
   "cell_type": "code",
   "execution_count": 0,
   "metadata": {
    "colab": {},
    "colab_type": "code",
    "id": "YL5IV2jgIzHR"
   },
   "outputs": [],
   "source": [
    "ceBinRF = ce.BinaryEncoder(cols=['rented for'],return_df=True,drop_invariant=False)\n",
    "X_train = ceBinRF.fit_transform(X_train,y_train)"
   ]
  },
  {
   "cell_type": "code",
   "execution_count": 0,
   "metadata": {
    "colab": {
     "base_uri": "https://localhost:8080/",
     "height": 241
    },
    "colab_type": "code",
    "id": "C4tC_ekWIzHT",
    "outputId": "74400120-1352-4833-f3ac-004258e74171"
   },
   "outputs": [
    {
     "data": {
      "text/html": [
       "<div>\n",
       "<style scoped>\n",
       "    .dataframe tbody tr th:only-of-type {\n",
       "        vertical-align: middle;\n",
       "    }\n",
       "\n",
       "    .dataframe tbody tr th {\n",
       "        vertical-align: top;\n",
       "    }\n",
       "\n",
       "    .dataframe thead th {\n",
       "        text-align: right;\n",
       "    }\n",
       "</style>\n",
       "<table border=\"1\" class=\"dataframe\">\n",
       "  <thead>\n",
       "    <tr style=\"text-align: right;\">\n",
       "      <th></th>\n",
       "      <th>bra size</th>\n",
       "      <th>category</th>\n",
       "      <th>cup size</th>\n",
       "      <th>height</th>\n",
       "      <th>hips</th>\n",
       "      <th>item_id</th>\n",
       "      <th>length</th>\n",
       "      <th>quality</th>\n",
       "      <th>shoe size</th>\n",
       "      <th>shoe width</th>\n",
       "      <th>size</th>\n",
       "      <th>user_id</th>\n",
       "      <th>age</th>\n",
       "      <th>body type</th>\n",
       "      <th>bust size</th>\n",
       "      <th>rented for_0</th>\n",
       "      <th>rented for_1</th>\n",
       "      <th>rented for_2</th>\n",
       "      <th>rented for_3</th>\n",
       "      <th>rented for_4</th>\n",
       "      <th>weight</th>\n",
       "    </tr>\n",
       "  </thead>\n",
       "  <tbody>\n",
       "    <tr>\n",
       "      <th>88803</th>\n",
       "      <td>36</td>\n",
       "      <td>shirt</td>\n",
       "      <td>Unspecified</td>\n",
       "      <td>162.6</td>\n",
       "      <td>40.358501</td>\n",
       "      <td>280734</td>\n",
       "      <td>0</td>\n",
       "      <td>5.0</td>\n",
       "      <td>0.0</td>\n",
       "      <td>0</td>\n",
       "      <td>8</td>\n",
       "      <td>450977</td>\n",
       "      <td>40</td>\n",
       "      <td>1.996645</td>\n",
       "      <td>34d</td>\n",
       "      <td>0</td>\n",
       "      <td>0</td>\n",
       "      <td>0</td>\n",
       "      <td>0</td>\n",
       "      <td>1</td>\n",
       "      <td>128.000000</td>\n",
       "    </tr>\n",
       "    <tr>\n",
       "      <th>40438</th>\n",
       "      <td>38</td>\n",
       "      <td>top</td>\n",
       "      <td>h</td>\n",
       "      <td>170.2</td>\n",
       "      <td>49.000000</td>\n",
       "      <td>429442</td>\n",
       "      <td>3</td>\n",
       "      <td>4.0</td>\n",
       "      <td>10.5</td>\n",
       "      <td>1</td>\n",
       "      <td>26</td>\n",
       "      <td>111847</td>\n",
       "      <td>33</td>\n",
       "      <td>1.996325</td>\n",
       "      <td>Unspecified</td>\n",
       "      <td>0</td>\n",
       "      <td>0</td>\n",
       "      <td>0</td>\n",
       "      <td>1</td>\n",
       "      <td>0</td>\n",
       "      <td>137.391709</td>\n",
       "    </tr>\n",
       "    <tr>\n",
       "      <th>159438</th>\n",
       "      <td>36</td>\n",
       "      <td>dress</td>\n",
       "      <td>Unspecified</td>\n",
       "      <td>167.6</td>\n",
       "      <td>40.358501</td>\n",
       "      <td>172027</td>\n",
       "      <td>0</td>\n",
       "      <td>5.0</td>\n",
       "      <td>0.0</td>\n",
       "      <td>0</td>\n",
       "      <td>1</td>\n",
       "      <td>652969</td>\n",
       "      <td>33</td>\n",
       "      <td>1.982142</td>\n",
       "      <td>34b</td>\n",
       "      <td>0</td>\n",
       "      <td>0</td>\n",
       "      <td>0</td>\n",
       "      <td>1</td>\n",
       "      <td>1</td>\n",
       "      <td>135.000000</td>\n",
       "    </tr>\n",
       "    <tr>\n",
       "      <th>56649</th>\n",
       "      <td>40</td>\n",
       "      <td>top</td>\n",
       "      <td>d</td>\n",
       "      <td>167.6</td>\n",
       "      <td>52.000000</td>\n",
       "      <td>645085</td>\n",
       "      <td>3</td>\n",
       "      <td>3.0</td>\n",
       "      <td>0.0</td>\n",
       "      <td>0</td>\n",
       "      <td>26</td>\n",
       "      <td>867290</td>\n",
       "      <td>33</td>\n",
       "      <td>1.996312</td>\n",
       "      <td>Unspecified</td>\n",
       "      <td>0</td>\n",
       "      <td>0</td>\n",
       "      <td>0</td>\n",
       "      <td>1</td>\n",
       "      <td>0</td>\n",
       "      <td>137.391709</td>\n",
       "    </tr>\n",
       "    <tr>\n",
       "      <th>93003</th>\n",
       "      <td>36</td>\n",
       "      <td>dress</td>\n",
       "      <td>Unspecified</td>\n",
       "      <td>172.7</td>\n",
       "      <td>40.358501</td>\n",
       "      <td>299987</td>\n",
       "      <td>0</td>\n",
       "      <td>2.0</td>\n",
       "      <td>0.0</td>\n",
       "      <td>0</td>\n",
       "      <td>8</td>\n",
       "      <td>620961</td>\n",
       "      <td>27</td>\n",
       "      <td>1.982142</td>\n",
       "      <td>32c</td>\n",
       "      <td>0</td>\n",
       "      <td>0</td>\n",
       "      <td>1</td>\n",
       "      <td>0</td>\n",
       "      <td>0</td>\n",
       "      <td>130.000000</td>\n",
       "    </tr>\n",
       "  </tbody>\n",
       "</table>\n",
       "</div>"
      ],
      "text/plain": [
       "        bra size category     cup size  ...  rented for_3  rented for_4      weight\n",
       "88803         36    shirt  Unspecified  ...             0             1  128.000000\n",
       "40438         38      top            h  ...             1             0  137.391709\n",
       "159438        36    dress  Unspecified  ...             1             1  135.000000\n",
       "56649         40      top            d  ...             1             0  137.391709\n",
       "93003         36    dress  Unspecified  ...             0             0  130.000000\n",
       "\n",
       "[5 rows x 21 columns]"
      ]
     },
     "execution_count": 31,
     "metadata": {
      "tags": []
     },
     "output_type": "execute_result"
    }
   ],
   "source": [
    "X_train.head()"
   ]
  },
  {
   "cell_type": "code",
   "execution_count": 0,
   "metadata": {
    "colab": {},
    "colab_type": "code",
    "id": "AKRPKtyeIzHa"
   },
   "outputs": [],
   "source": [
    "X_test = ceBinRF.transform(X_test)"
   ]
  },
  {
   "cell_type": "code",
   "execution_count": 0,
   "metadata": {
    "colab": {
     "base_uri": "https://localhost:8080/",
     "height": 241
    },
    "colab_type": "code",
    "id": "zShcN0LPIzHf",
    "outputId": "bb74dd69-1eb0-4d5c-b9a2-7fb0f44aec97"
   },
   "outputs": [
    {
     "data": {
      "text/html": [
       "<div>\n",
       "<style scoped>\n",
       "    .dataframe tbody tr th:only-of-type {\n",
       "        vertical-align: middle;\n",
       "    }\n",
       "\n",
       "    .dataframe tbody tr th {\n",
       "        vertical-align: top;\n",
       "    }\n",
       "\n",
       "    .dataframe thead th {\n",
       "        text-align: right;\n",
       "    }\n",
       "</style>\n",
       "<table border=\"1\" class=\"dataframe\">\n",
       "  <thead>\n",
       "    <tr style=\"text-align: right;\">\n",
       "      <th></th>\n",
       "      <th>bra size</th>\n",
       "      <th>category</th>\n",
       "      <th>cup size</th>\n",
       "      <th>height</th>\n",
       "      <th>hips</th>\n",
       "      <th>item_id</th>\n",
       "      <th>length</th>\n",
       "      <th>quality</th>\n",
       "      <th>shoe size</th>\n",
       "      <th>shoe width</th>\n",
       "      <th>size</th>\n",
       "      <th>user_id</th>\n",
       "      <th>age</th>\n",
       "      <th>body type</th>\n",
       "      <th>bust size</th>\n",
       "      <th>rented for_0</th>\n",
       "      <th>rented for_1</th>\n",
       "      <th>rented for_2</th>\n",
       "      <th>rented for_3</th>\n",
       "      <th>rented for_4</th>\n",
       "      <th>weight</th>\n",
       "    </tr>\n",
       "  </thead>\n",
       "  <tbody>\n",
       "    <tr>\n",
       "      <th>53717</th>\n",
       "      <td>38</td>\n",
       "      <td>top</td>\n",
       "      <td>b</td>\n",
       "      <td>167.6</td>\n",
       "      <td>40.358501</td>\n",
       "      <td>621405</td>\n",
       "      <td>4</td>\n",
       "      <td>4.0</td>\n",
       "      <td>0.0</td>\n",
       "      <td>0</td>\n",
       "      <td>20</td>\n",
       "      <td>729138</td>\n",
       "      <td>33</td>\n",
       "      <td>1.996325</td>\n",
       "      <td>Unspecified</td>\n",
       "      <td>0</td>\n",
       "      <td>0</td>\n",
       "      <td>0</td>\n",
       "      <td>1</td>\n",
       "      <td>0</td>\n",
       "      <td>137.391709</td>\n",
       "    </tr>\n",
       "    <tr>\n",
       "      <th>79620</th>\n",
       "      <td>44</td>\n",
       "      <td>outerwear</td>\n",
       "      <td>ddd/f</td>\n",
       "      <td>175.3</td>\n",
       "      <td>40.358501</td>\n",
       "      <td>785517</td>\n",
       "      <td>3</td>\n",
       "      <td>5.0</td>\n",
       "      <td>0.0</td>\n",
       "      <td>0</td>\n",
       "      <td>26</td>\n",
       "      <td>434935</td>\n",
       "      <td>33</td>\n",
       "      <td>1.996325</td>\n",
       "      <td>Unspecified</td>\n",
       "      <td>0</td>\n",
       "      <td>0</td>\n",
       "      <td>0</td>\n",
       "      <td>1</td>\n",
       "      <td>0</td>\n",
       "      <td>137.391709</td>\n",
       "    </tr>\n",
       "    <tr>\n",
       "      <th>82326</th>\n",
       "      <td>36</td>\n",
       "      <td>outerwear</td>\n",
       "      <td>Unspecified</td>\n",
       "      <td>175.3</td>\n",
       "      <td>40.358501</td>\n",
       "      <td>806856</td>\n",
       "      <td>3</td>\n",
       "      <td>4.0</td>\n",
       "      <td>9.5</td>\n",
       "      <td>0</td>\n",
       "      <td>20</td>\n",
       "      <td>944453</td>\n",
       "      <td>33</td>\n",
       "      <td>1.996325</td>\n",
       "      <td>Unspecified</td>\n",
       "      <td>0</td>\n",
       "      <td>0</td>\n",
       "      <td>0</td>\n",
       "      <td>1</td>\n",
       "      <td>0</td>\n",
       "      <td>137.391709</td>\n",
       "    </tr>\n",
       "    <tr>\n",
       "      <th>189450</th>\n",
       "      <td>36</td>\n",
       "      <td>sheath</td>\n",
       "      <td>Unspecified</td>\n",
       "      <td>170.2</td>\n",
       "      <td>40.358501</td>\n",
       "      <td>1731993</td>\n",
       "      <td>0</td>\n",
       "      <td>5.0</td>\n",
       "      <td>0.0</td>\n",
       "      <td>0</td>\n",
       "      <td>16</td>\n",
       "      <td>524441</td>\n",
       "      <td>28</td>\n",
       "      <td>1.996325</td>\n",
       "      <td>34d</td>\n",
       "      <td>0</td>\n",
       "      <td>0</td>\n",
       "      <td>1</td>\n",
       "      <td>0</td>\n",
       "      <td>0</td>\n",
       "      <td>145.000000</td>\n",
       "    </tr>\n",
       "    <tr>\n",
       "      <th>114245</th>\n",
       "      <td>36</td>\n",
       "      <td>dress</td>\n",
       "      <td>Unspecified</td>\n",
       "      <td>170.2</td>\n",
       "      <td>40.358501</td>\n",
       "      <td>1428822</td>\n",
       "      <td>0</td>\n",
       "      <td>5.0</td>\n",
       "      <td>0.0</td>\n",
       "      <td>0</td>\n",
       "      <td>12</td>\n",
       "      <td>896669</td>\n",
       "      <td>42</td>\n",
       "      <td>1.982171</td>\n",
       "      <td>36b</td>\n",
       "      <td>0</td>\n",
       "      <td>0</td>\n",
       "      <td>1</td>\n",
       "      <td>0</td>\n",
       "      <td>1</td>\n",
       "      <td>140.000000</td>\n",
       "    </tr>\n",
       "  </tbody>\n",
       "</table>\n",
       "</div>"
      ],
      "text/plain": [
       "        bra size   category  ... rented for_4      weight\n",
       "53717         38        top  ...            0  137.391709\n",
       "79620         44  outerwear  ...            0  137.391709\n",
       "82326         36  outerwear  ...            0  137.391709\n",
       "189450        36     sheath  ...            0  145.000000\n",
       "114245        36      dress  ...            1  140.000000\n",
       "\n",
       "[5 rows x 21 columns]"
      ]
     },
     "execution_count": 33,
     "metadata": {
      "tags": []
     },
     "output_type": "execute_result"
    }
   ],
   "source": [
    "X_test.head()"
   ]
  },
  {
   "cell_type": "markdown",
   "metadata": {
    "colab_type": "text",
    "id": "et_T4UmxIzHi"
   },
   "source": [
    "### 5. 'category' attribute has around 60 classes. To convert to numeric encoder there will 60 new features created. Instead we can try using Leave one out encoding technique. In this encoding technique the value for caterory is calculated based on the "
   ]
  },
  {
   "cell_type": "code",
   "execution_count": 0,
   "metadata": {
    "colab": {
     "base_uri": "https://localhost:8080/",
     "height": 187
    },
    "colab_type": "code",
    "id": "66Sh6wcnIzHj",
    "outputId": "3978d269-2a6c-4044-bad1-2dd1f5130ca3"
   },
   "outputs": [
    {
     "data": {
      "text/plain": [
       "array(['ballgown', 'blazer', 'blouse', 'bomber', 'bottoms', 'buttondown',\n",
       "       'cami', 'cape', 'cardigan', 'coat', 'combo', 'crewneck', 'culotte',\n",
       "       'dress', 'duster', 'frock', 'gown', 'henley', 'hoodie', 'jacket',\n",
       "       'jeans', 'jogger', 'jumpsuit', 'kaftan', 'kimono', 'knit',\n",
       "       'leggings', 'maxi', 'midi', 'mini', 'new', 'outerwear', 'overalls',\n",
       "       'overcoat', 'pant', 'parka', 'peacoat', 'poncho', 'print',\n",
       "       'pullover', 'romper', 'sale', 'sheath', 'shirt', 'shirtdress',\n",
       "       'skirt', 'suit', 'sweater', 'sweatpants', 'sweatshirt', 't-shirt',\n",
       "       'tank', 'tight', 'top', 'trench', 'trouser', 'tunic', 'turtleneck',\n",
       "       'vest', 'wedding'], dtype=object)"
      ]
     },
     "execution_count": 34,
     "metadata": {
      "tags": []
     },
     "output_type": "execute_result"
    }
   ],
   "source": [
    "X['category'].sort_values(ascending=True).unique()"
   ]
  },
  {
   "cell_type": "code",
   "execution_count": 0,
   "metadata": {
    "colab": {},
    "colab_type": "code",
    "id": "SkP-xua7IzHn"
   },
   "outputs": [],
   "source": [
    "ceLOOCat = ce.LeaveOneOutEncoder(cols=['category'],return_df=True)\n",
    "X_train = ceLOOCat.fit_transform(X_train,y_train)"
   ]
  },
  {
   "cell_type": "code",
   "execution_count": 0,
   "metadata": {
    "colab": {
     "base_uri": "https://localhost:8080/",
     "height": 510
    },
    "colab_type": "code",
    "id": "u0NMqkpSIzHp",
    "outputId": "18aa1278-57a9-4d4f-b58b-25f5abd326a9"
   },
   "outputs": [
    {
     "data": {
      "text/plain": [
       "array([1.54545455, 1.63636364, 1.70056497, 1.70621469, 1.71186441,\n",
       "       1.78688525, 1.8       , 1.80327869, 1.81967213, 1.875     ,\n",
       "       1.88156028, 1.8822695 , 1.88297872, 1.92033557, 1.9204006 ,\n",
       "       1.92046563, 1.9223301 , 1.92307692, 1.92857143, 1.93203883,\n",
       "       1.94174757, 1.94440218, 1.9444607 , 1.94451923, 1.95098039,\n",
       "       1.95238095, 1.95348837, 1.96078431, 1.96465863, 1.96511628,\n",
       "       1.96546185, 1.96626506, 1.97058824, 1.97234531, 1.97242738,\n",
       "       1.97250944, 1.97619048, 1.97674419, 1.97745491, 1.97795591,\n",
       "       1.97845691, 1.99026105, 1.99027224, 1.99028344, 1.99202321,\n",
       "       1.99226493, 1.99250665, 1.9956384 , 1.99566619, 1.99569397,\n",
       "       1.99585957, 2.        , 2.00212993, 2.00266241, 2.00319489,\n",
       "       2.01401869, 2.01869159, 2.01948052, 2.02336449, 2.02364641,\n",
       "       2.0238674 , 2.0240884 , 2.02597403, 2.03246753, 2.04491726,\n",
       "       2.04521277, 2.04550827, 2.05434335, 2.05475504, 2.05516674,\n",
       "       2.05564648, 2.05728314, 2.0589198 , 2.06563707, 2.06756757,\n",
       "       2.06949807, 2.07052735, 2.07057664, 2.07062592, 2.07271418,\n",
       "       2.07307415, 2.07343413, 2.08728448, 2.08836207, 2.08943966,\n",
       "       2.11904762, 2.13333333, 2.13567839, 2.14070352, 2.14285714,\n",
       "       2.14572864, 2.14814815, 2.14871795, 2.15128205, 2.15384615,\n",
       "       2.15836299, 2.16014235, 2.16192171, 2.16666667, 2.16831683,\n",
       "       2.17821782, 2.18181818, 2.18518519, 2.18811881, 2.2       ,\n",
       "       2.21212121, 2.21428571, 2.21538462, 2.22222222, 2.23076923,\n",
       "       2.24242424, 2.25      , 2.25517241, 2.26206897, 2.26315789,\n",
       "       2.26666667, 2.26896552, 2.28571429, 2.28947368, 2.29365079,\n",
       "       2.3       , 2.3015873 , 2.31578947, 2.32160804, 2.32663317,\n",
       "       2.33165829, 2.33205619, 2.33333333, 2.33461047, 2.35      ,\n",
       "       2.35714286, 2.375     , 2.4       , 2.40425532, 2.40851064,\n",
       "       2.41276596, 2.43478261, 2.47826087, 2.5       , 2.68421053,\n",
       "       2.73684211, 3.        ])"
      ]
     },
     "execution_count": 36,
     "metadata": {
      "tags": []
     },
     "output_type": "execute_result"
    }
   ],
   "source": [
    "X_train['category'].sort_values(ascending=True).unique()"
   ]
  },
  {
   "cell_type": "code",
   "execution_count": 0,
   "metadata": {
    "colab": {},
    "colab_type": "code",
    "id": "FK_HyZGrIzHy"
   },
   "outputs": [],
   "source": [
    "X_test = ceLOOCat.transform(X_test)"
   ]
  },
  {
   "cell_type": "code",
   "execution_count": 0,
   "metadata": {
    "colab": {
     "base_uri": "https://localhost:8080/",
     "height": 34
    },
    "colab_type": "code",
    "id": "viedPMLSIzH2",
    "outputId": "e4a43034-e28d-48b5-d8d5-d5bfdf615b57"
   },
   "outputs": [
    {
     "data": {
      "text/plain": [
       "(55067, 21)"
      ]
     },
     "execution_count": 38,
     "metadata": {
      "tags": []
     },
     "output_type": "execute_result"
    }
   ],
   "source": [
    "X_test.shape"
   ]
  },
  {
   "cell_type": "markdown",
   "metadata": {
    "colab_type": "text",
    "id": "UgxQE16lIzH5"
   },
   "source": [
    "### 6. 'bust size' categorical feature can be converted to numerical feature based on Ordinal Encoding"
   ]
  },
  {
   "cell_type": "code",
   "execution_count": 0,
   "metadata": {
    "colab": {
     "base_uri": "https://localhost:8080/",
     "height": 238
    },
    "colab_type": "code",
    "id": "mv8upaa8IzH6",
    "outputId": "91d2e3ac-e295-4a28-fa20-90ad85307f60"
   },
   "outputs": [
    {
     "data": {
      "text/plain": [
       "array(['28a', '28aa', '28b', '28c', '28d', '28dd', '28ddd/e', '28f',\n",
       "       '28g', '28h', '30a', '30aa', '30b', '30c', '30d', '30dd',\n",
       "       '30ddd/e', '30f', '30g', '30h', '30i', '32a', '32aa', '32b', '32c',\n",
       "       '32d', '32d+', '32dd', '32ddd/e', '32f', '32g', '32h', '32i',\n",
       "       '32j', '34a', '34aa', '34b', '34c', '34d', '34d+', '34dd',\n",
       "       '34ddd/e', '34f', '34g', '34h', '34i', '34j', '36a', '36aa', '36b',\n",
       "       '36c', '36d', '36d+', '36dd', '36ddd/e', '36f', '36g', '36h',\n",
       "       '36i', '36j', '38a', '38aa', '38b', '38c', '38d', '38d+', '38dd',\n",
       "       '38ddd/e', '38f', '38g', '38h', '38i', '38j', '40b', '40c', '40d',\n",
       "       '40dd', '40ddd/e', '40f', '40g', '40h', '40i', '40j', '42b', '42c',\n",
       "       '42d', '42dd', '42ddd/e', '42f', '42g', '42h', '44b', '44c', '44d',\n",
       "       '44dd', '44ddd/e', '44f', '44g', '46c', '46ddd/e', '46f', '48d',\n",
       "       '48dd', 'Unspecified'], dtype=object)"
      ]
     },
     "execution_count": 39,
     "metadata": {
      "tags": []
     },
     "output_type": "execute_result"
    }
   ],
   "source": [
    "X_train['bust size'].sort_values(ascending=True).unique()"
   ]
  },
  {
   "cell_type": "code",
   "execution_count": 0,
   "metadata": {
    "colab": {},
    "colab_type": "code",
    "id": "OeUmnU4NIzH9"
   },
   "outputs": [],
   "source": [
    "ceOrdBuSize = ce.OrdinalEncoder(cols=['bust size'],return_df=True)\n",
    "X_train = ceOrdBuSize.fit_transform(X_train,y_train)"
   ]
  },
  {
   "cell_type": "code",
   "execution_count": 0,
   "metadata": {
    "colab": {
     "base_uri": "https://localhost:8080/",
     "height": 153
    },
    "colab_type": "code",
    "id": "2LovD6w4IzII",
    "outputId": "faf6c75e-27c7-4cfb-da5d-05f450d56cb8"
   },
   "outputs": [
    {
     "data": {
      "text/plain": [
       "array([  1,   2,   3,   4,   5,   6,   7,   8,   9,  10,  11,  12,  13,\n",
       "        14,  15,  16,  17,  18,  19,  20,  21,  22,  23,  24,  25,  26,\n",
       "        27,  28,  29,  30,  31,  32,  33,  34,  35,  36,  37,  38,  39,\n",
       "        40,  41,  42,  43,  44,  45,  46,  47,  48,  49,  50,  51,  52,\n",
       "        53,  54,  55,  56,  57,  58,  59,  60,  61,  62,  63,  64,  65,\n",
       "        66,  67,  68,  69,  70,  71,  72,  73,  74,  75,  76,  77,  78,\n",
       "        79,  80,  81,  82,  83,  84,  85,  86,  87,  88,  89,  90,  91,\n",
       "        92,  93,  94,  95,  96,  97,  98,  99, 100, 101, 102, 103, 104])"
      ]
     },
     "execution_count": 41,
     "metadata": {
      "tags": []
     },
     "output_type": "execute_result"
    }
   ],
   "source": [
    "X_train['bust size'].sort_values(ascending=True).unique()"
   ]
  },
  {
   "cell_type": "code",
   "execution_count": 0,
   "metadata": {
    "colab": {},
    "colab_type": "code",
    "id": "pR2vgu02IzIL"
   },
   "outputs": [],
   "source": [
    "X_test = ceOrdBuSize.transform(X_test)"
   ]
  },
  {
   "cell_type": "markdown",
   "metadata": {
    "colab_type": "text",
    "id": "gLe020VPIzIO"
   },
   "source": [
    "### 7. 'cup size' categorical feature can be converted to numerical feature based on Ordinal Encoding"
   ]
  },
  {
   "cell_type": "code",
   "execution_count": 0,
   "metadata": {
    "colab": {
     "base_uri": "https://localhost:8080/",
     "height": 51
    },
    "colab_type": "code",
    "id": "QL-TPb-rIzIP",
    "outputId": "48537c48-445c-4f38-c382-b76b2a96c181"
   },
   "outputs": [
    {
     "data": {
      "text/plain": [
       "array(['Unspecified', 'a', 'aa', 'b', 'c', 'd', 'dd/e', 'ddd/f', 'dddd/g',\n",
       "       'h', 'i', 'j', 'k'], dtype=object)"
      ]
     },
     "execution_count": 43,
     "metadata": {
      "tags": []
     },
     "output_type": "execute_result"
    }
   ],
   "source": [
    "X_train['cup size'].sort_values(ascending=True).unique()"
   ]
  },
  {
   "cell_type": "code",
   "execution_count": 0,
   "metadata": {
    "colab": {},
    "colab_type": "code",
    "id": "RJ-wIiMxIzIV"
   },
   "outputs": [],
   "source": [
    "ceOrdCupSize = ce.OrdinalEncoder(cols=['cup size'],return_df=True)\n",
    "X_train = ceOrdCupSize.fit_transform(X_train,y_train)"
   ]
  },
  {
   "cell_type": "code",
   "execution_count": 0,
   "metadata": {
    "colab": {
     "base_uri": "https://localhost:8080/",
     "height": 34
    },
    "colab_type": "code",
    "id": "oQINxwueIzIc",
    "outputId": "a0f834f1-63b2-49b9-e3a5-e5943a1c3cc2"
   },
   "outputs": [
    {
     "data": {
      "text/plain": [
       "array([ 1,  2,  3,  4,  5,  6,  7,  8,  9, 10, 11, 12, 13])"
      ]
     },
     "execution_count": 45,
     "metadata": {
      "tags": []
     },
     "output_type": "execute_result"
    }
   ],
   "source": [
    "X_train['cup size'].sort_values(ascending=True).unique()"
   ]
  },
  {
   "cell_type": "code",
   "execution_count": 0,
   "metadata": {
    "colab": {},
    "colab_type": "code",
    "id": "m-QnnyLtIzIl"
   },
   "outputs": [],
   "source": [
    "X_test = ceOrdCupSize.transform(X_test)"
   ]
  },
  {
   "cell_type": "code",
   "execution_count": 0,
   "metadata": {
    "colab": {
     "base_uri": "https://localhost:8080/",
     "height": 459
    },
    "colab_type": "code",
    "id": "lquDYJ6JIzIo",
    "outputId": "94daaa01-cd07-4f3c-ed69-9e08e5c2d7d7"
   },
   "outputs": [
    {
     "name": "stdout",
     "output_type": "stream",
     "text": [
      "<class 'pandas.core.frame.DataFrame'>\n",
      "Int64Index: 220267 entries, 88803 to 128037\n",
      "Data columns (total 21 columns):\n",
      "bra size        220267 non-null int64\n",
      "category        220267 non-null float64\n",
      "cup size        220267 non-null int64\n",
      "height          220267 non-null float64\n",
      "hips            220267 non-null float64\n",
      "item_id         220267 non-null int64\n",
      "length          220267 non-null int64\n",
      "quality         220267 non-null float64\n",
      "shoe size       220267 non-null float64\n",
      "shoe width      220267 non-null int64\n",
      "size            220267 non-null int64\n",
      "user_id         220267 non-null int64\n",
      "age             220267 non-null int64\n",
      "body type       220267 non-null float64\n",
      "bust size       220267 non-null int64\n",
      "rented for_0    220267 non-null int64\n",
      "rented for_1    220267 non-null int64\n",
      "rented for_2    220267 non-null int64\n",
      "rented for_3    220267 non-null int64\n",
      "rented for_4    220267 non-null int64\n",
      "weight          220267 non-null float64\n",
      "dtypes: float64(7), int64(14)\n",
      "memory usage: 37.0 MB\n"
     ]
    }
   ],
   "source": [
    "X_train.info()"
   ]
  },
  {
   "cell_type": "code",
   "execution_count": 0,
   "metadata": {
    "colab": {
     "base_uri": "https://localhost:8080/",
     "height": 459
    },
    "colab_type": "code",
    "id": "1lrHUPCVIzIv",
    "outputId": "dd120bd9-ff39-4c9e-d6b4-56a83f724103"
   },
   "outputs": [
    {
     "name": "stdout",
     "output_type": "stream",
     "text": [
      "<class 'pandas.core.frame.DataFrame'>\n",
      "Int64Index: 55067 entries, 53717 to 104954\n",
      "Data columns (total 21 columns):\n",
      "bra size        55067 non-null int64\n",
      "category        55067 non-null float64\n",
      "cup size        55067 non-null int64\n",
      "height          55067 non-null float64\n",
      "hips            55067 non-null float64\n",
      "item_id         55067 non-null int64\n",
      "length          55067 non-null int64\n",
      "quality         55067 non-null float64\n",
      "shoe size       55067 non-null float64\n",
      "shoe width      55067 non-null int64\n",
      "size            55067 non-null int64\n",
      "user_id         55067 non-null int64\n",
      "age             55067 non-null int64\n",
      "body type       55067 non-null float64\n",
      "bust size       55067 non-null float64\n",
      "rented for_0    55067 non-null int64\n",
      "rented for_1    55067 non-null int64\n",
      "rented for_2    55067 non-null int64\n",
      "rented for_3    55067 non-null int64\n",
      "rented for_4    55067 non-null int64\n",
      "weight          55067 non-null float64\n",
      "dtypes: float64(8), int64(13)\n",
      "memory usage: 9.2 MB\n"
     ]
    }
   ],
   "source": [
    "X_test.info()"
   ]
  },
  {
   "cell_type": "code",
   "execution_count": 0,
   "metadata": {
    "colab": {},
    "colab_type": "code",
    "id": "B-Z3W864r6We"
   },
   "outputs": [],
   "source": [
    "cols = X_train.columns\n",
    "cols = ['bra size', 'category', 'cup size', 'height', 'hips', 'item_id',\n",
    "       'length', 'quality', 'shoe size', 'shoe width', 'size', 'user_id',\n",
    "       'age', 'body type', 'bust size', 'rented for_0', 'rented for_1',\n",
    "       'rented for_2', 'rented for_3', 'rented for_4', 'weight']"
   ]
  },
  {
   "cell_type": "code",
   "execution_count": 0,
   "metadata": {
    "colab": {
     "base_uri": "https://localhost:8080/",
     "height": 688
    },
    "colab_type": "code",
    "id": "11U6ztn0oEOx",
    "outputId": "2a5be10b-c847-4fa5-cdd8-8830fae8a10c"
   },
   "outputs": [
    {
     "data": {
      "image/png": "[encoded data removed]",
      "text/plain": [
       "<Figure size 1008x720 with 2 Axes>"
      ]
     },
     "metadata": {
      "tags": []
     },
     "output_type": "display_data"
    }
   ],
   "source": [
    "from sklearn.preprocessing import StandardScaler\n",
    "scaler = StandardScaler()\n",
    "scaler.fit(X_train)\n",
    "new = scaler.transform(X_train)\n",
    "new  = pd.DataFrame(new,columns=cols)\n",
    "\n",
    "import matplotlib.pyplot as plt\n",
    "import seaborn as sns\n",
    "sns.set()\n",
    "%matplotlib inline\n",
    "corr = new.corr()\n",
    "g = sns.heatmap(corr, annot=True, fmt='.2f', cmap='coolwarm')\n",
    "g.figure.set_size_inches(14,10)\n",
    "plt.title('Correlation of features on scaled data')    \n",
    "plt.show()"
   ]
  },
  {
   "cell_type": "markdown",
   "metadata": {
    "colab_type": "text",
    "id": "gei64g8A_IOY"
   },
   "source": [
    "**Based on the correlation map and analysis on dataset the features are selected for building the model**"
   ]
  },
  {
   "cell_type": "code",
   "execution_count": 0,
   "metadata": {
    "colab": {},
    "colab_type": "code",
    "id": "tvkVFK0cIzIx"
   },
   "outputs": [],
   "source": [
    "X_train = X_train[['category','height','item_id','weight','size','user_id','length','hips']]\n",
    "X_test = X_test[['category','height','item_id','weight','size','user_id','length','hips']]"
   ]
  },
  {
   "cell_type": "code",
   "execution_count": 0,
   "metadata": {
    "colab": {
     "base_uri": "https://localhost:8080/",
     "height": 34
    },
    "colab_type": "code",
    "id": "cbnZz2EQIzKD",
    "outputId": "35bd3393-2fbe-40b0-ed9e-16afebb1ebb8"
   },
   "outputs": [
    {
     "data": {
      "text/plain": [
       "(220267, 8)"
      ]
     },
     "execution_count": 52,
     "metadata": {
      "tags": []
     },
     "output_type": "execute_result"
    }
   ],
   "source": [
    "X_train.shape"
   ]
  },
  {
   "cell_type": "code",
   "execution_count": 0,
   "metadata": {
    "colab": {
     "base_uri": "https://localhost:8080/",
     "height": 34
    },
    "colab_type": "code",
    "id": "Mcxqf2IJIzKT",
    "outputId": "06bda3d5-8a14-4384-adbd-b74092e2daa3"
   },
   "outputs": [
    {
     "data": {
      "text/plain": [
       "(55067, 8)"
      ]
     },
     "execution_count": 53,
     "metadata": {
      "tags": []
     },
     "output_type": "execute_result"
    }
   ],
   "source": [
    "X_test.shape"
   ]
  },
  {
   "cell_type": "markdown",
   "metadata": {
    "colab_type": "text",
    "id": "IvJ9Y0LxIokd"
   },
   "source": [
    "**K Nearest Neigbor Algorithm Implementation**"
   ]
  },
  {
   "cell_type": "markdown",
   "metadata": {
    "colab_type": "text",
    "id": "iU_6Te03JqEt"
   },
   "source": [
    "**1. Training with the default Knn model** "
   ]
  },
  {
   "cell_type": "code",
   "execution_count": 0,
   "metadata": {
    "colab": {
     "base_uri": "https://localhost:8080/",
     "height": 34
    },
    "colab_type": "code",
    "id": "J9efho90EP37",
    "outputId": "2f784a6e-24bb-48e4-c4c0-e0ee286a81ed"
   },
   "outputs": [
    {
     "name": "stdout",
     "output_type": "stream",
     "text": [
      "Accuracy for default k-NN model with k=5:  67.03 %\n"
     ]
    }
   ],
   "source": [
    "knnDefault = KNeighborsClassifier()\n",
    "knnDefault.fit(X_train, y_train)\n",
    "print(\"Accuracy for default k-NN model with k=5: \" ,round(((knnDefault.score(X_test,y_test))*100),2),\"%\")"
   ]
  },
  {
   "cell_type": "code",
   "execution_count": 0,
   "metadata": {
    "colab": {
     "base_uri": "https://localhost:8080/",
     "height": 352
    },
    "colab_type": "code",
    "id": "78wjtfLIOIJO",
    "outputId": "b0eac8c5-f984-4c7d-ff18-b0bf3190292b"
   },
   "outputs": [
    {
     "name": "stdout",
     "output_type": "stream",
     "text": [
      "[[  718  6758   185]\n",
      " [ 2897 35847  1076]\n",
      " [  542  6696   348]]\n"
     ]
    },
    {
     "data": {
      "image/png": "[encoded data removed]",
      "text/plain": [
       "<Figure size 432x288 with 2 Axes>"
      ]
     },
     "metadata": {
      "tags": []
     },
     "output_type": "display_data"
    }
   ],
   "source": [
    "print(confusion_matrix(y_test, knnDefault.predict(X_test)))\n",
    "plt.title('Confusion Matrix for K-NN with k=5')\n",
    "sns.heatmap(confusion_matrix(y_test, knnDefault.predict(X_test)),annot=True,fmt='d',xticklabels={'small':0,'fit':1,'large':2},yticklabels={'small':0,'fit':1,'large':2})\n",
    "plt.xlabel('Predicted Class')\n",
    "plt.ylabel('Actual Class')\n",
    "plt.show()"
   ]
  },
  {
   "cell_type": "code",
   "execution_count": 0,
   "metadata": {
    "colab": {
     "base_uri": "https://localhost:8080/",
     "height": 204
    },
    "colab_type": "code",
    "id": "2aS-gY7maGnH",
    "outputId": "ba456224-1d59-4656-f180-015f15fa6148"
   },
   "outputs": [
    {
     "name": "stdout",
     "output_type": "stream",
     "text": [
      "Classification Report\n",
      "              precision    recall  f1-score   support\n",
      "\n",
      "       small       0.17      0.09      0.12      7661\n",
      "         fit       0.73      0.90      0.80     39820\n",
      "       large       0.22      0.05      0.08      7586\n",
      "\n",
      "    accuracy                           0.67     55067\n",
      "   macro avg       0.37      0.35      0.33     55067\n",
      "weighted avg       0.58      0.67      0.61     55067\n",
      "\n"
     ]
    }
   ],
   "source": [
    "print('Classification Report')\n",
    "target_names = ['small', 'fit', 'large']\n",
    "print(classification_report(y_test, knnDefault.predict(X_test), target_names=target_names))"
   ]
  },
  {
   "cell_type": "markdown",
   "metadata": {
    "colab_type": "text",
    "id": "G41J7RbzJ5ZO"
   },
   "source": [
    "**2. Training with best parameters obtained with GridSearchCV**"
   ]
  },
  {
   "cell_type": "code",
   "execution_count": 0,
   "metadata": {
    "colab": {},
    "colab_type": "code",
    "id": "T_fFbIblIxJy"
   },
   "outputs": [],
   "source": [
    "param_gridKnn = {\n",
    "    'n_neighbors': [5,10,20],\n",
    "    'weights': ['uniform','distance']\n",
    "}"
   ]
  },
  {
   "cell_type": "code",
   "execution_count": 0,
   "metadata": {
    "colab": {
     "base_uri": "https://localhost:8080/",
     "height": 34
    },
    "colab_type": "code",
    "id": "BdME_iuIJU8j",
    "outputId": "008879e3-e8f9-41be-827c-d85fe553ed31"
   },
   "outputs": [
    {
     "data": {
      "text/plain": [
       "{'n_neighbors': 20, 'weights': 'uniform'}"
      ]
     },
     "execution_count": 124,
     "metadata": {
      "tags": []
     },
     "output_type": "execute_result"
    }
   ],
   "source": [
    "knn_gs = GridSearchCV(KNeighborsClassifier(), param_gridKnn, cv=3)\n",
    "knn_gs.fit(X_train,y_train)\n",
    "knn_gs.best_params_"
   ]
  },
  {
   "cell_type": "code",
   "execution_count": 0,
   "metadata": {
    "colab": {
     "base_uri": "https://localhost:8080/",
     "height": 34
    },
    "colab_type": "code",
    "id": "inW6K2PFIr7Y",
    "outputId": "018737fe-2f73-4231-a22f-474e45530c2c"
   },
   "outputs": [
    {
     "name": "stdout",
     "output_type": "stream",
     "text": [
      "Accuracy for default k-NN model with k=20:  72.09 %\n"
     ]
    }
   ],
   "source": [
    "knnModel = KNeighborsClassifier(n_neighbors=20,weights='uniform')\n",
    "knnModel.fit(X_train, y_train)\n",
    "print(\"Accuracy for k-NN model with k=20: \" ,round(((knnModel.score(X_test,y_test))*100),2),\"%\")"
   ]
  },
  {
   "cell_type": "code",
   "execution_count": 0,
   "metadata": {
    "colab": {
     "base_uri": "https://localhost:8080/",
     "height": 352
    },
    "colab_type": "code",
    "id": "IkXqGtw6WFY9",
    "outputId": "36c075dd-e3f1-407c-aed8-fc6878076708"
   },
   "outputs": [
    {
     "name": "stdout",
     "output_type": "stream",
     "text": [
      "[[   34  7608    19]\n",
      " [  100 39650    70]\n",
      " [   16  7557    13]]\n"
     ]
    },
    {
     "data": {
      "image/png": "[encoded data removed]",
      "text/plain": [
       "<Figure size 432x288 with 2 Axes>"
      ]
     },
     "metadata": {
      "tags": []
     },
     "output_type": "display_data"
    }
   ],
   "source": [
    "print(confusion_matrix(y_test, knnModel.predict(X_test)))\n",
    "plt.title('Confusion Matrix for K-NN with k=20')\n",
    "sns.heatmap(confusion_matrix(y_test, knnModel.predict(X_test)),annot=True,fmt='d',xticklabels={'small':0,'fit':1,'large':2},yticklabels={'small':0,'fit':1,'large':2})\n",
    "plt.xlabel('Predicted Class')\n",
    "plt.ylabel('Actual Class')\n",
    "plt.show()"
   ]
  },
  {
   "cell_type": "code",
   "execution_count": 0,
   "metadata": {
    "colab": {
     "base_uri": "https://localhost:8080/",
     "height": 204
    },
    "colab_type": "code",
    "id": "W5Iq2A5XZf-A",
    "outputId": "65e5bc1d-929d-43d6-aafa-2201c38d1486"
   },
   "outputs": [
    {
     "name": "stdout",
     "output_type": "stream",
     "text": [
      "Classification Report\n",
      "              precision    recall  f1-score   support\n",
      "\n",
      "       small       0.23      0.00      0.01      7661\n",
      "         fit       0.72      1.00      0.84     39820\n",
      "       large       0.13      0.00      0.00      7586\n",
      "\n",
      "    accuracy                           0.72     55067\n",
      "   macro avg       0.36      0.33      0.28     55067\n",
      "weighted avg       0.57      0.72      0.61     55067\n",
      "\n"
     ]
    }
   ],
   "source": [
    "print('Classification Report')\n",
    "target_names = ['small', 'fit', 'large']\n",
    "print(classification_report(y_test, knnModel.predict(X_test), target_names=target_names))"
   ]
  },
  {
   "cell_type": "markdown",
   "metadata": {
    "colab_type": "text",
    "id": "6KjWnbDrwULo"
   },
   "source": [
    "**3. Large Margin Nearest Neighbor**"
   ]
  },
  {
   "cell_type": "markdown",
   "metadata": {
    "colab_type": "text",
    "id": "eK9qg3M8EbXB"
   },
   "source": [
    "**1. With default parameters k=3**"
   ]
  },
  {
   "cell_type": "code",
   "execution_count": 0,
   "metadata": {
    "colab": {
     "base_uri": "https://localhost:8080/",
     "height": 102
    },
    "colab_type": "code",
    "id": "wRglS0TGEH2P",
    "outputId": "24ea531f-f17a-46ed-9836-4ff60ed3a58d"
   },
   "outputs": [
    {
     "data": {
      "text/plain": [
       "LargeMarginNearestNeighbor(callback=None, impostor_store='auto', init='pca',\n",
       "                           max_impostors=500000, max_iter=50, n_components=None,\n",
       "                           n_jobs=1, n_neighbors=3, neighbors_params=None,\n",
       "                           random_state=None, store_opt_result=False, tol=1e-05,\n",
       "                           verbose=0, warm_start=False, weight_push_loss=0.5)"
      ]
     },
     "execution_count": 71,
     "metadata": {
      "tags": []
     },
     "output_type": "execute_result"
    }
   ],
   "source": [
    "lmnn = LMNN()\n",
    "lmnn.fit(X_train,y_train)"
   ]
  },
  {
   "cell_type": "markdown",
   "metadata": {
    "colab_type": "text",
    "id": "H6tIMJh8FPAk"
   },
   "source": [
    "To compare the performance between K-NN and applying the LMNN transformation for k=3"
   ]
  },
  {
   "cell_type": "code",
   "execution_count": 0,
   "metadata": {
    "colab": {
     "base_uri": "https://localhost:8080/",
     "height": 85
    },
    "colab_type": "code",
    "id": "kjCPHkeHc_UG",
    "outputId": "0a5ce326-a932-473f-e1a4-199d43f72887"
   },
   "outputs": [
    {
     "name": "stdout",
     "output_type": "stream",
     "text": [
      "Accuracy for default k-NN model with k=3:  62.28 %\n",
      "[[ 1220  6068   373]\n",
      " [ 5191 32423  2206]\n",
      " [  951  5981   654]]\n"
     ]
    }
   ],
   "source": [
    "knnWithML = KNeighborsClassifier(n_neighbors=3)\n",
    "knnWithML.fit(X_train,y_train)\n",
    "print(\"Accuracy for default k-NN model with k=3: \" ,round(((knnWithML.score(X_test,y_test))*100),2),\"%\")\n",
    "print(confusion_matrix(y_test, knnWithML.predict(X_test)))\n",
    "\n",
    "plt.title('Confusion Matrix for k-NN with k=3')\n",
    "sns.heatmap(confusion_matrix(y_test, knnWithML3.predict(lmnn.transform(X_test))),annot=True,fmt='d',xticklabels={'small':0,'fit':1,'large':2},yticklabels={'small':0,'fit':1,'large':2})\n",
    "plt.xlabel('Predicted Class')\n",
    "plt.ylabel('Actual Class')\n",
    "plt.show()"
   ]
  },
  {
   "cell_type": "code",
   "execution_count": 0,
   "metadata": {
    "colab": {
     "base_uri": "https://localhost:8080/",
     "height": 34
    },
    "colab_type": "code",
    "id": "Ph9I3aG8P1sc",
    "outputId": "af9a2588-278f-4407-f593-e35736dff184"
   },
   "outputs": [
    {
     "name": "stdout",
     "output_type": "stream",
     "text": [
      "Accuracy for LMNN model with k=3:  62.4821 %\n"
     ]
    }
   ],
   "source": [
    "knnWithML3 = KNeighborsClassifier(n_neighbors=3)\n",
    "knnWithML3.fit(lmnn.transform(X_train), y_train)\n",
    "print(\"Accuracy for LMNN model with k=3: \" ,round(((knnWithML3.score(lmnn.transform(X_test),y_test))*100),4),\"%\")"
   ]
  },
  {
   "cell_type": "code",
   "execution_count": 0,
   "metadata": {
    "colab": {
     "base_uri": "https://localhost:8080/",
     "height": 352
    },
    "colab_type": "code",
    "id": "XE8JOLptTRfG",
    "outputId": "82f462c1-9e2e-4f09-ba9d-a681831102e0"
   },
   "outputs": [
    {
     "name": "stdout",
     "output_type": "stream",
     "text": [
      "[[ 1293  6020   348]\n",
      " [ 5198 32507  2115]\n",
      " [ 1036  5943   607]]\n"
     ]
    },
    {
     "data": {
      "image/png": "[encoded data removed]",
      "text/plain": [
       "<Figure size 432x288 with 2 Axes>"
      ]
     },
     "metadata": {
      "tags": []
     },
     "output_type": "display_data"
    }
   ],
   "source": [
    "print(confusion_matrix(y_test, knnWithML3.predict(lmnn.transform(X_test))))\n",
    "plt.title('Confusion Matrix for LMNN with k=3')\n",
    "sns.heatmap(confusion_matrix(y_test, knnWithML3.predict(lmnn.transform(X_test))),annot=True,fmt='d',xticklabels={'small':0,'fit':1,'large':2},yticklabels={'small':0,'fit':1,'large':2})\n",
    "plt.xlabel('Predicted Class')\n",
    "plt.ylabel('Actual Class')\n",
    "plt.show()"
   ]
  },
  {
   "cell_type": "code",
   "execution_count": 0,
   "metadata": {
    "colab": {
     "base_uri": "https://localhost:8080/",
     "height": 204
    },
    "colab_type": "code",
    "id": "J1IaNxV65MEO",
    "outputId": "b681f91b-2890-44ea-a75d-18103f7650d7"
   },
   "outputs": [
    {
     "name": "stdout",
     "output_type": "stream",
     "text": [
      "Classification Report\n",
      "              precision    recall  f1-score   support\n",
      "\n",
      "       small       0.17      0.17      0.17      7661\n",
      "         fit       0.73      0.82      0.77     39820\n",
      "       large       0.20      0.08      0.11      7586\n",
      "\n",
      "    accuracy                           0.62     55067\n",
      "   macro avg       0.37      0.36      0.35     55067\n",
      "weighted avg       0.58      0.62      0.60     55067\n",
      "\n"
     ]
    }
   ],
   "source": [
    "print('Classification Report')\n",
    "target_names = ['small', 'fit', 'large']\n",
    "print(classification_report(y_test, knnWithML3.predict(lmnn.transform(X_test)), target_names=target_names))"
   ]
  },
  {
   "cell_type": "markdown",
   "metadata": {
    "colab_type": "text",
    "id": "GJVnTFnyfAPA"
   },
   "source": [
    "**2. with parameter tuning of k=50**"
   ]
  },
  {
   "cell_type": "code",
   "execution_count": 0,
   "metadata": {
    "colab": {
     "base_uri": "https://localhost:8080/",
     "height": 102
    },
    "colab_type": "code",
    "id": "tG3iVrgPIzSP",
    "outputId": "dee90835-c01b-4777-f2e8-3e95a4674c28"
   },
   "outputs": [
    {
     "data": {
      "text/plain": [
       "LargeMarginNearestNeighbor(callback=None, impostor_store='auto', init='pca',\n",
       "                           max_impostors=500000, max_iter=50, n_components=None,\n",
       "                           n_jobs=1, n_neighbors=50, neighbors_params=None,\n",
       "                           random_state=None, store_opt_result=False, tol=1e-05,\n",
       "                           verbose=0, warm_start=False, weight_push_loss=0.5)"
      ]
     },
     "execution_count": 147,
     "metadata": {
      "tags": []
     },
     "output_type": "execute_result"
    }
   ],
   "source": [
    "lmnn50 = LMNN(n_neighbors=50, max_iter=50)\n",
    "lmnn50.fit(X_train, y_train)"
   ]
  },
  {
   "cell_type": "code",
   "execution_count": 0,
   "metadata": {
    "colab": {
     "base_uri": "https://localhost:8080/",
     "height": 34
    },
    "colab_type": "code",
    "id": "Mo8D43KCXboR",
    "outputId": "6a9d2c62-729f-4929-ca05-ab51220b1c4f"
   },
   "outputs": [
    {
     "name": "stdout",
     "output_type": "stream",
     "text": [
      "Accuracy for LMNN model with k=50:  72.3101 %\n"
     ]
    }
   ],
   "source": [
    "knnWithML50 = KNeighborsClassifier(n_neighbors=50)\n",
    "knnWithML50.fit(lmnn50.transform(X_train), y_train)\n",
    "print(\"Accuracy for LMNN model with k=50: \" ,round(((knnWithML50.score(lmnn50.transform(X_test),y_test))*100),4),\"%\")"
   ]
  },
  {
   "cell_type": "code",
   "execution_count": 0,
   "metadata": {
    "colab": {
     "base_uri": "https://localhost:8080/",
     "height": 352
    },
    "colab_type": "code",
    "id": "LktjfwzHD4Ve",
    "outputId": "31d61348-a0d8-4119-8499-a7526d5fec13"
   },
   "outputs": [
    {
     "name": "stdout",
     "output_type": "stream",
     "text": [
      "[[    0  7661     0]\n",
      " [    0 39818     2]\n",
      " [    0  7585     1]]\n"
     ]
    },
    {
     "data": {
      "image/png": "[encoded data removed]",
      "text/plain": [
       "<Figure size 432x288 with 2 Axes>"
      ]
     },
     "metadata": {
      "tags": []
     },
     "output_type": "display_data"
    }
   ],
   "source": [
    "print(confusion_matrix(y_test, knnWithML50.predict(lmnn50.transform(X_test))))\n",
    "plt.title('Confusion Matrix for LMNN with k=50')\n",
    "sns.heatmap(confusion_matrix(y_test, knnWithML50.predict(lmnn50.transform(X_test))),annot=True,fmt='d',xticklabels={'small':0,'fit':1,'large':2},yticklabels={'small':0,'fit':1,'large':2})\n",
    "plt.xlabel('Predicted Class')\n",
    "plt.ylabel('Actual Class')\n",
    "plt.show()"
   ]
  },
  {
   "cell_type": "code",
   "execution_count": 0,
   "metadata": {
    "colab": {
     "base_uri": "https://localhost:8080/",
     "height": 258
    },
    "colab_type": "code",
    "id": "lZfYkcFy5jEz",
    "outputId": "5c07469e-1312-449a-906b-597ebdf591ac"
   },
   "outputs": [
    {
     "name": "stdout",
     "output_type": "stream",
     "text": [
      "Classification Report\n",
      "              precision    recall  f1-score   support\n",
      "\n",
      "       small       0.00      0.00      0.00      7661\n",
      "         fit       0.72      1.00      0.84     39820\n",
      "       large       0.33      0.00      0.00      7586\n",
      "\n",
      "    accuracy                           0.72     55067\n",
      "   macro avg       0.35      0.33      0.28     55067\n",
      "weighted avg       0.57      0.72      0.61     55067\n",
      "\n"
     ]
    },
    {
     "name": "stderr",
     "output_type": "stream",
     "text": [
      "/usr/local/lib/python3.6/dist-packages/sklearn/metrics/classification.py:1437: UndefinedMetricWarning: Precision and F-score are ill-defined and being set to 0.0 in labels with no predicted samples.\n",
      "  'precision', 'predicted', average, warn_for)\n"
     ]
    }
   ],
   "source": [
    "print('Classification Report')\n",
    "target_names = ['small', 'fit', 'large']\n",
    "print(classification_report(y_test, knnWithML50.predict(lmnn50.transform(X_test)), target_names=target_names))"
   ]
  },
  {
   "cell_type": "markdown",
   "metadata": {
    "colab_type": "text",
    "id": "fI4vbtAvil5U"
   },
   "source": [
    "**EVALUATION OF RESULTS**"
   ]
  },
  {
   "cell_type": "code",
   "execution_count": 0,
   "metadata": {
    "colab": {},
    "colab_type": "code",
    "id": "4yFMCluqiib2"
   },
   "outputs": [],
   "source": [
    "accKnn5 = 67.03\n",
    "accLmnn3 = 62.48\n",
    "accKnn20 = 72.09\n",
    "accLmnn50 = 72.31\n",
    "classification = pd.DataFrame({\"classifier\": ['K-NN(k=5)','K-NN(k=20)','LMNN(k=3)', 'LMNN(k=50)'],\n",
    "                           \"acc\": [accKnn5,accKnn20,accLmnn3,accLmnn50]},\n",
    "                            columns = ['classifier','acc'])\n",
    "classification = classification.sort_values(by='acc', ascending = False)"
   ]
  },
  {
   "cell_type": "code",
   "execution_count": 0,
   "metadata": {
    "colab": {
     "base_uri": "https://localhost:8080/",
     "height": 318
    },
    "colab_type": "code",
    "id": "UgSvz_SojDAW",
    "outputId": "23c90206-98c5-4ad0-ae5b-ccbc5eddd9fc"
   },
   "outputs": [
    {
     "data": {
      "text/plain": [
       "Text(0.5, 1.0, 'Performance of the Nearest Neighbor Classifier')"
      ]
     },
     "execution_count": 205,
     "metadata": {
      "tags": []
     },
     "output_type": "execute_result"
    },
    {
     "data": {
      "image/png": "[encoded data removed]",
      "text/plain": [
       "<Figure size 432x288 with 1 Axes>"
      ]
     },
     "metadata": {
      "tags": []
     },
     "output_type": "display_data"
    }
   ],
   "source": [
    "# sns.barplot(classification['acc'],classification['classifier'], palette = 'Set1')\n",
    "sns.barplot(classification['classifier'],classification['acc'], palette='Set1')\n",
    "plt.ylabel('Accuracy')\n",
    "plt.xlabel(\"KNN/LMNN Classifiers\")\n",
    "plt.title('Performance of the Nearest Neighbor Classifier')"
   ]
  },
  {
   "cell_type": "markdown",
   "metadata": {
    "colab_type": "text",
    "id": "izfz69z8JYjZ"
   },
   "source": [
    "**CLASSIFICATION MODEL COMPARISON WITH RESPECT TO EVALUATION METRICS ACCURACY**"
   ]
  },
  {
   "cell_type": "code",
   "execution_count": 0,
   "metadata": {
    "colab": {},
    "colab_type": "code",
    "id": "7CSsIcXqmqk9"
   },
   "outputs": [],
   "source": [
    "accLR = 72.31\n",
    "accNB = 72.29\n",
    "accLMNN = 72.31\n",
    "\n",
    "comparision = pd.DataFrame({\"classifier\": ['Logistic Regression','Naive Bayes','Large Margin NN'],\n",
    "                           \"acc\": [accLR,accNB,accLMNN]},\n",
    "                            columns = ['classifier','acc'])\n",
    "comparision = comparision.sort_values(by='acc', ascending = False)"
   ]
  },
  {
   "cell_type": "code",
   "execution_count": 8,
   "metadata": {
    "colab": {
     "base_uri": "https://localhost:8080/",
     "height": 318
    },
    "colab_type": "code",
    "id": "6mrW-Wt5JVzo",
    "outputId": "074af5d3-1691-4342-d383-963c67104b00"
   },
   "outputs": [
    {
     "data": {
      "text/plain": [
       "Text(0.5, 1.0, 'Performance comparison of the Classifier')"
      ]
     },
     "execution_count": 8,
     "metadata": {
      "tags": []
     },
     "output_type": "execute_result"
    },
    {
     "data": {
      "image/png": "[encoded data removed]",
      "text/plain": [
       "<Figure size 432x288 with 1 Axes>"
      ]
     },
     "metadata": {
      "tags": []
     },
     "output_type": "display_data"
    }
   ],
   "source": [
    "# sns.barplot(classification['acc'],classification['classifier'], palette = 'Set1')\n",
    "sns.barplot(comparision['classifier'],comparision['acc'], palette='Set2')\n",
    "plt.ylabel('Accuracy')\n",
    "plt.xlabel(\"Classifiers\")\n",
    "plt.title('Performance comparison of the Classifier')"
   ]
  }
 ],
 "metadata": {
  "accelerator": "GPU",
  "colab": {
   "collapsed_sections": [
    "h8llT55eIzFu"
   ],
   "name": "Fit-Prediction-ML-Algorithm-Implementation.ipynb",
   "provenance": [],
   "toc_visible": true
  },
  "kernelspec": {
   "display_name": "Python 3",
   "language": "python",
   "name": "python3"
  },
  "language_info": {
   "codemirror_mode": {
    "name": "ipython",
    "version": 3
   },
   "file_extension": ".py",
   "mimetype": "text/x-python",
   "name": "python",
   "nbconvert_exporter": "python",
   "pygments_lexer": "ipython3",
   "version": "3.7.1"
  }
 },
 "nbformat": 4,
 "nbformat_minor": 1
}
