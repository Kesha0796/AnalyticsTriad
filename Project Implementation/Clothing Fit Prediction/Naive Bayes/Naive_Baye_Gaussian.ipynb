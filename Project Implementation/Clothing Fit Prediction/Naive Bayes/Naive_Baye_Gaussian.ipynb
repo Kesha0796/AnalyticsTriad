{
  "nbformat": 4,
  "nbformat_minor": 0,
  "metadata": {
    "colab": {
      "name": "Untitled4.ipynb",
      "provenance": [],
      "collapsed_sections": []
    },
    "kernelspec": {
      "name": "python3",
      "display_name": "Python 3"
    }
  },
  "cells": [
    {
      "cell_type": "markdown",
      "metadata": {
        "id": "3rbkBYF-XNwH",
        "colab_type": "text"
      },
      "source": [
        "Importing the json and pandas"
      ]
    },
    {
      "cell_type": "code",
      "metadata": {
        "id": "TG1zruepcKFP",
        "colab_type": "code",
        "colab": {}
      },
      "source": [
        "import json\n",
        "import pandas as pd\n"
      ],
      "execution_count": 0,
      "outputs": []
    },
    {
      "cell_type": "markdown",
      "metadata": {
        "id": "gYIMBwfCXc9z",
        "colab_type": "text"
      },
      "source": [
        "Data file uploaded in google collab"
      ]
    },
    {
      "cell_type": "code",
      "metadata": {
        "id": "-E6KDPHPcZ3h",
        "colab_type": "code",
        "outputId": "8e84fdf6-4682-4ae2-bb31-0a8589b92864",
        "colab": {
          "resources": {
            "http://localhost:8080/nbextensions/google.colab/files.js": {
              "data": "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",
              "ok": true,
              "headers": [
                [
                  "content-type",
                  "application/javascript"
                ]
              ],
              "status": 200,
              "status_text": ""
            }
          },
          "base_uri": "https://localhost:8080/",
          "height": 75
        }
      },
      "source": [
        "from google.colab import files\n",
        "uploaded = files.upload()\n",
        "\n"
      ],
      "execution_count": 229,
      "outputs": [
        {
          "output_type": "display_data",
          "data": {
            "text/html": [
              "\n",
              "     <input type=\"file\" id=\"files-0784a4f4-7a74-4b4b-acbc-ff526d03889e\" name=\"files[]\" multiple disabled />\n",
              "     <output id=\"result-0784a4f4-7a74-4b4b-acbc-ff526d03889e\">\n",
              "      Upload widget is only available when the cell has been executed in the\n",
              "      current browser session. Please rerun this cell to enable.\n",
              "      </output>\n",
              "      <script src=\"/nbextensions/google.colab/files.js\"></script> "
            ],
            "text/plain": [
              "<IPython.core.display.HTML object>"
            ]
          },
          "metadata": {
            "tags": []
          }
        },
        {
          "output_type": "stream",
          "text": [
            "Saving data.json to data (2).json\n"
          ],
          "name": "stdout"
        }
      ]
    },
    {
      "cell_type": "markdown",
      "metadata": {
        "id": "Cv1_AsFwXuFa",
        "colab_type": "text"
      },
      "source": [
        "Reading json file into data frame called as df"
      ]
    },
    {
      "cell_type": "code",
      "metadata": {
        "id": "vBKml3_HgaGp",
        "colab_type": "code",
        "colab": {}
      },
      "source": [
        "# with open('data.json', 'r') as f:\n",
        "#     for line in f:\n",
        "#         T.append(json.loads(line))\n",
        "# print(T[0])\n",
        "df = pd.read_json('data.json',lines=True)"
      ],
      "execution_count": 0,
      "outputs": []
    },
    {
      "cell_type": "markdown",
      "metadata": {
        "id": "NHezZykkX2T8",
        "colab_type": "text"
      },
      "source": [
        "Displaying the data frame"
      ]
    },
    {
      "cell_type": "code",
      "metadata": {
        "id": "36YJKLgQgh3s",
        "colab_type": "code",
        "outputId": "9764ea11-70f7-40aa-f9e7-d8a739cdbec4",
        "colab": {
          "base_uri": "https://localhost:8080/",
          "height": 505
        }
      },
      "source": [
        "df"
      ],
      "execution_count": 231,
      "outputs": [
        {
          "output_type": "execute_result",
          "data": {
            "text/html": [
              "<div>\n",
              "<style scoped>\n",
              "    .dataframe tbody tr th:only-of-type {\n",
              "        vertical-align: middle;\n",
              "    }\n",
              "\n",
              "    .dataframe tbody tr th {\n",
              "        vertical-align: top;\n",
              "    }\n",
              "\n",
              "    .dataframe thead th {\n",
              "        text-align: right;\n",
              "    }\n",
              "</style>\n",
              "<table border=\"1\" class=\"dataframe\">\n",
              "  <thead>\n",
              "    <tr style=\"text-align: right;\">\n",
              "      <th></th>\n",
              "      <th>bra size</th>\n",
              "      <th>category</th>\n",
              "      <th>cup size</th>\n",
              "      <th>fit</th>\n",
              "      <th>height</th>\n",
              "      <th>hips</th>\n",
              "      <th>item_id</th>\n",
              "      <th>length</th>\n",
              "      <th>quality</th>\n",
              "      <th>shoe size</th>\n",
              "      <th>shoe width</th>\n",
              "      <th>size</th>\n",
              "      <th>user_id</th>\n",
              "      <th>age</th>\n",
              "      <th>body type</th>\n",
              "      <th>bust size</th>\n",
              "      <th>rented for</th>\n",
              "      <th>weight</th>\n",
              "      <th>fit_to_numeric</th>\n",
              "    </tr>\n",
              "  </thead>\n",
              "  <tbody>\n",
              "    <tr>\n",
              "      <th>0</th>\n",
              "      <td>34</td>\n",
              "      <td>new</td>\n",
              "      <td>d</td>\n",
              "      <td>small</td>\n",
              "      <td>167.6</td>\n",
              "      <td>38.000000</td>\n",
              "      <td>123373</td>\n",
              "      <td>just right</td>\n",
              "      <td>5.0</td>\n",
              "      <td>0.0</td>\n",
              "      <td>Unspecified</td>\n",
              "      <td>7</td>\n",
              "      <td>991571</td>\n",
              "      <td>33</td>\n",
              "      <td>Unspecified</td>\n",
              "      <td>Unspecified</td>\n",
              "      <td>Unspecified</td>\n",
              "      <td>137.391709</td>\n",
              "      <td>1</td>\n",
              "    </tr>\n",
              "    <tr>\n",
              "      <th>1</th>\n",
              "      <td>36</td>\n",
              "      <td>new</td>\n",
              "      <td>b</td>\n",
              "      <td>small</td>\n",
              "      <td>157.5</td>\n",
              "      <td>30.000000</td>\n",
              "      <td>123373</td>\n",
              "      <td>just right</td>\n",
              "      <td>3.0</td>\n",
              "      <td>0.0</td>\n",
              "      <td>Unspecified</td>\n",
              "      <td>13</td>\n",
              "      <td>587883</td>\n",
              "      <td>33</td>\n",
              "      <td>Unspecified</td>\n",
              "      <td>Unspecified</td>\n",
              "      <td>Unspecified</td>\n",
              "      <td>137.391709</td>\n",
              "      <td>1</td>\n",
              "    </tr>\n",
              "    <tr>\n",
              "      <th>2</th>\n",
              "      <td>32</td>\n",
              "      <td>new</td>\n",
              "      <td>b</td>\n",
              "      <td>small</td>\n",
              "      <td>170.2</td>\n",
              "      <td>40.358501</td>\n",
              "      <td>123373</td>\n",
              "      <td>slightly long</td>\n",
              "      <td>2.0</td>\n",
              "      <td>9.0</td>\n",
              "      <td>Unspecified</td>\n",
              "      <td>7</td>\n",
              "      <td>395665</td>\n",
              "      <td>33</td>\n",
              "      <td>Unspecified</td>\n",
              "      <td>Unspecified</td>\n",
              "      <td>Unspecified</td>\n",
              "      <td>137.391709</td>\n",
              "      <td>1</td>\n",
              "    </tr>\n",
              "    <tr>\n",
              "      <th>3</th>\n",
              "      <td>36</td>\n",
              "      <td>new</td>\n",
              "      <td>dd/e</td>\n",
              "      <td>fit</td>\n",
              "      <td>165.1</td>\n",
              "      <td>40.358501</td>\n",
              "      <td>123373</td>\n",
              "      <td>just right</td>\n",
              "      <td>5.0</td>\n",
              "      <td>0.0</td>\n",
              "      <td>Unspecified</td>\n",
              "      <td>21</td>\n",
              "      <td>875643</td>\n",
              "      <td>33</td>\n",
              "      <td>Unspecified</td>\n",
              "      <td>Unspecified</td>\n",
              "      <td>Unspecified</td>\n",
              "      <td>137.391709</td>\n",
              "      <td>2</td>\n",
              "    </tr>\n",
              "    <tr>\n",
              "      <th>4</th>\n",
              "      <td>36</td>\n",
              "      <td>new</td>\n",
              "      <td>b</td>\n",
              "      <td>small</td>\n",
              "      <td>157.5</td>\n",
              "      <td>40.358501</td>\n",
              "      <td>123373</td>\n",
              "      <td>slightly long</td>\n",
              "      <td>5.0</td>\n",
              "      <td>0.0</td>\n",
              "      <td>Unspecified</td>\n",
              "      <td>18</td>\n",
              "      <td>944840</td>\n",
              "      <td>33</td>\n",
              "      <td>Unspecified</td>\n",
              "      <td>Unspecified</td>\n",
              "      <td>Unspecified</td>\n",
              "      <td>137.391709</td>\n",
              "      <td>1</td>\n",
              "    </tr>\n",
              "    <tr>\n",
              "      <th>...</th>\n",
              "      <td>...</td>\n",
              "      <td>...</td>\n",
              "      <td>...</td>\n",
              "      <td>...</td>\n",
              "      <td>...</td>\n",
              "      <td>...</td>\n",
              "      <td>...</td>\n",
              "      <td>...</td>\n",
              "      <td>...</td>\n",
              "      <td>...</td>\n",
              "      <td>...</td>\n",
              "      <td>...</td>\n",
              "      <td>...</td>\n",
              "      <td>...</td>\n",
              "      <td>...</td>\n",
              "      <td>...</td>\n",
              "      <td>...</td>\n",
              "      <td>...</td>\n",
              "      <td>...</td>\n",
              "    </tr>\n",
              "    <tr>\n",
              "      <th>275329</th>\n",
              "      <td>36</td>\n",
              "      <td>jumpsuit</td>\n",
              "      <td>Unspecified</td>\n",
              "      <td>fit</td>\n",
              "      <td>175.3</td>\n",
              "      <td>40.358501</td>\n",
              "      <td>2252812</td>\n",
              "      <td>Unspecified</td>\n",
              "      <td>5.0</td>\n",
              "      <td>0.0</td>\n",
              "      <td>Unspecified</td>\n",
              "      <td>8</td>\n",
              "      <td>66386</td>\n",
              "      <td>42</td>\n",
              "      <td>hourglass</td>\n",
              "      <td>34dd</td>\n",
              "      <td>work</td>\n",
              "      <td>140.000000</td>\n",
              "      <td>2</td>\n",
              "    </tr>\n",
              "    <tr>\n",
              "      <th>275330</th>\n",
              "      <td>36</td>\n",
              "      <td>dress</td>\n",
              "      <td>Unspecified</td>\n",
              "      <td>fit</td>\n",
              "      <td>154.9</td>\n",
              "      <td>40.358501</td>\n",
              "      <td>682043</td>\n",
              "      <td>Unspecified</td>\n",
              "      <td>5.0</td>\n",
              "      <td>0.0</td>\n",
              "      <td>Unspecified</td>\n",
              "      <td>4</td>\n",
              "      <td>118398</td>\n",
              "      <td>29</td>\n",
              "      <td>petite</td>\n",
              "      <td>32c</td>\n",
              "      <td>work</td>\n",
              "      <td>100.000000</td>\n",
              "      <td>2</td>\n",
              "    </tr>\n",
              "    <tr>\n",
              "      <th>275331</th>\n",
              "      <td>36</td>\n",
              "      <td>dress</td>\n",
              "      <td>Unspecified</td>\n",
              "      <td>fit</td>\n",
              "      <td>172.7</td>\n",
              "      <td>40.358501</td>\n",
              "      <td>683251</td>\n",
              "      <td>Unspecified</td>\n",
              "      <td>3.0</td>\n",
              "      <td>0.0</td>\n",
              "      <td>Unspecified</td>\n",
              "      <td>8</td>\n",
              "      <td>47002</td>\n",
              "      <td>31</td>\n",
              "      <td>straight &amp; narrow</td>\n",
              "      <td>36a</td>\n",
              "      <td>everyday</td>\n",
              "      <td>135.000000</td>\n",
              "      <td>2</td>\n",
              "    </tr>\n",
              "    <tr>\n",
              "      <th>275332</th>\n",
              "      <td>36</td>\n",
              "      <td>dress</td>\n",
              "      <td>Unspecified</td>\n",
              "      <td>fit</td>\n",
              "      <td>167.6</td>\n",
              "      <td>40.358501</td>\n",
              "      <td>126335</td>\n",
              "      <td>Unspecified</td>\n",
              "      <td>5.0</td>\n",
              "      <td>0.0</td>\n",
              "      <td>Unspecified</td>\n",
              "      <td>16</td>\n",
              "      <td>961120</td>\n",
              "      <td>31</td>\n",
              "      <td>pear</td>\n",
              "      <td>36c</td>\n",
              "      <td>wedding</td>\n",
              "      <td>165.000000</td>\n",
              "      <td>2</td>\n",
              "    </tr>\n",
              "    <tr>\n",
              "      <th>275333</th>\n",
              "      <td>36</td>\n",
              "      <td>gown</td>\n",
              "      <td>Unspecified</td>\n",
              "      <td>fit</td>\n",
              "      <td>167.6</td>\n",
              "      <td>40.358501</td>\n",
              "      <td>127865</td>\n",
              "      <td>Unspecified</td>\n",
              "      <td>5.0</td>\n",
              "      <td>0.0</td>\n",
              "      <td>Unspecified</td>\n",
              "      <td>16</td>\n",
              "      <td>123612</td>\n",
              "      <td>30</td>\n",
              "      <td>athletic</td>\n",
              "      <td>36b</td>\n",
              "      <td>wedding</td>\n",
              "      <td>155.000000</td>\n",
              "      <td>2</td>\n",
              "    </tr>\n",
              "  </tbody>\n",
              "</table>\n",
              "<p>275334 rows × 19 columns</p>\n",
              "</div>"
            ],
            "text/plain": [
              "        bra size  category  ...      weight fit_to_numeric\n",
              "0             34       new  ...  137.391709              1\n",
              "1             36       new  ...  137.391709              1\n",
              "2             32       new  ...  137.391709              1\n",
              "3             36       new  ...  137.391709              2\n",
              "4             36       new  ...  137.391709              1\n",
              "...          ...       ...  ...         ...            ...\n",
              "275329        36  jumpsuit  ...  140.000000              2\n",
              "275330        36     dress  ...  100.000000              2\n",
              "275331        36     dress  ...  135.000000              2\n",
              "275332        36     dress  ...  165.000000              2\n",
              "275333        36      gown  ...  155.000000              2\n",
              "\n",
              "[275334 rows x 19 columns]"
            ]
          },
          "metadata": {
            "tags": []
          },
          "execution_count": 231
        }
      ]
    },
    {
      "cell_type": "markdown",
      "metadata": {
        "id": "m5NfDgMYMj-O",
        "colab_type": "text"
      },
      "source": [
        "Converting the categorical data into numerical data tried various methods but found label encoder to be working successfully.\n",
        "Label encoder used to convert categorical data which are 'category' and 'body type' columns into numerical value"
      ]
    },
    {
      "cell_type": "code",
      "metadata": {
        "id": "BtvrtwOsoGjG",
        "colab_type": "code",
        "outputId": "2e986440-1e5d-4910-ff8a-fa950391acad",
        "colab": {
          "base_uri": "https://localhost:8080/",
          "height": 487
        }
      },
      "source": [
        "# OneHotEncoder = pd.get_dummies(df['category'])\n",
        "# # on_thot=pd.get_dummies(df['category'])\n",
        "# onehotencoder = OneHotEncoder(categorical_features = [0]) \n",
        "# df = df.drop('category',axis=1) \n",
        "# df = df.join(onthot) \n",
        "\n",
        "from sklearn.preprocessing import LabelEncoder\n",
        "Label_Encoder = LabelEncoder()\n",
        "df['category']= Label_Encoder.fit_transform(df['category']) \n",
        "df\n",
        "\n",
        "from sklearn.preprocessing import LabelEncoder\n",
        "Label_Encoder = LabelEncoder()\n",
        "df['body type']= Label_Encoder.fit_transform(df['body type']) \n",
        "df\n",
        "\n",
        "# from sklearn.preprocessing import OneHotEncoder\n",
        "# enc = OneHotEncoder(categorical_features=[1])\n",
        "# df['category'] =  enc.fit_transform(df['category'])\n",
        "# enc.fit_transform(df).toarray()\n",
        "# df\n",
        "# # from sklearn.feature_extraction import DictVectorizer\n",
        "# # v = DictVectorizer(sparse=False)\n",
        "\n",
        "\n",
        "# # x = x.apply(lambda y : v.fit_transform(y))\n",
        "# # x.head(10)\n",
        "# # # X = v.fit_transform(t)\n",
        "# # # X\n",
        "\n",
        "# from sklearn import preprocessing \n",
        "\n",
        "\n",
        "# DicVect = preprocessing.DictVectorizer() \n",
        "# df['category']= DicVect.fit_transform(df['category']) \n",
        "# df\n",
        "#  on_thot=pd.get_dummies(data['category'])\n",
        "# # #onehotencoder = OneHotEncoder(categorical_features = [0]) \n",
        "# # df = data.drop('category',axis=1) \n",
        "# # df = df.join(onthot) \n"
      ],
      "execution_count": 232,
      "outputs": [
        {
          "output_type": "execute_result",
          "data": {
            "text/html": [
              "<div>\n",
              "<style scoped>\n",
              "    .dataframe tbody tr th:only-of-type {\n",
              "        vertical-align: middle;\n",
              "    }\n",
              "\n",
              "    .dataframe tbody tr th {\n",
              "        vertical-align: top;\n",
              "    }\n",
              "\n",
              "    .dataframe thead th {\n",
              "        text-align: right;\n",
              "    }\n",
              "</style>\n",
              "<table border=\"1\" class=\"dataframe\">\n",
              "  <thead>\n",
              "    <tr style=\"text-align: right;\">\n",
              "      <th></th>\n",
              "      <th>bra size</th>\n",
              "      <th>category</th>\n",
              "      <th>cup size</th>\n",
              "      <th>fit</th>\n",
              "      <th>height</th>\n",
              "      <th>hips</th>\n",
              "      <th>item_id</th>\n",
              "      <th>length</th>\n",
              "      <th>quality</th>\n",
              "      <th>shoe size</th>\n",
              "      <th>shoe width</th>\n",
              "      <th>size</th>\n",
              "      <th>user_id</th>\n",
              "      <th>age</th>\n",
              "      <th>body type</th>\n",
              "      <th>bust size</th>\n",
              "      <th>rented for</th>\n",
              "      <th>weight</th>\n",
              "      <th>fit_to_numeric</th>\n",
              "    </tr>\n",
              "  </thead>\n",
              "  <tbody>\n",
              "    <tr>\n",
              "      <th>0</th>\n",
              "      <td>34</td>\n",
              "      <td>30</td>\n",
              "      <td>d</td>\n",
              "      <td>small</td>\n",
              "      <td>167.6</td>\n",
              "      <td>38.000000</td>\n",
              "      <td>123373</td>\n",
              "      <td>just right</td>\n",
              "      <td>5.0</td>\n",
              "      <td>0.0</td>\n",
              "      <td>Unspecified</td>\n",
              "      <td>7</td>\n",
              "      <td>991571</td>\n",
              "      <td>33</td>\n",
              "      <td>0</td>\n",
              "      <td>Unspecified</td>\n",
              "      <td>Unspecified</td>\n",
              "      <td>137.391709</td>\n",
              "      <td>1</td>\n",
              "    </tr>\n",
              "    <tr>\n",
              "      <th>1</th>\n",
              "      <td>36</td>\n",
              "      <td>30</td>\n",
              "      <td>b</td>\n",
              "      <td>small</td>\n",
              "      <td>157.5</td>\n",
              "      <td>30.000000</td>\n",
              "      <td>123373</td>\n",
              "      <td>just right</td>\n",
              "      <td>3.0</td>\n",
              "      <td>0.0</td>\n",
              "      <td>Unspecified</td>\n",
              "      <td>13</td>\n",
              "      <td>587883</td>\n",
              "      <td>33</td>\n",
              "      <td>0</td>\n",
              "      <td>Unspecified</td>\n",
              "      <td>Unspecified</td>\n",
              "      <td>137.391709</td>\n",
              "      <td>1</td>\n",
              "    </tr>\n",
              "    <tr>\n",
              "      <th>2</th>\n",
              "      <td>32</td>\n",
              "      <td>30</td>\n",
              "      <td>b</td>\n",
              "      <td>small</td>\n",
              "      <td>170.2</td>\n",
              "      <td>40.358501</td>\n",
              "      <td>123373</td>\n",
              "      <td>slightly long</td>\n",
              "      <td>2.0</td>\n",
              "      <td>9.0</td>\n",
              "      <td>Unspecified</td>\n",
              "      <td>7</td>\n",
              "      <td>395665</td>\n",
              "      <td>33</td>\n",
              "      <td>0</td>\n",
              "      <td>Unspecified</td>\n",
              "      <td>Unspecified</td>\n",
              "      <td>137.391709</td>\n",
              "      <td>1</td>\n",
              "    </tr>\n",
              "    <tr>\n",
              "      <th>3</th>\n",
              "      <td>36</td>\n",
              "      <td>30</td>\n",
              "      <td>dd/e</td>\n",
              "      <td>fit</td>\n",
              "      <td>165.1</td>\n",
              "      <td>40.358501</td>\n",
              "      <td>123373</td>\n",
              "      <td>just right</td>\n",
              "      <td>5.0</td>\n",
              "      <td>0.0</td>\n",
              "      <td>Unspecified</td>\n",
              "      <td>21</td>\n",
              "      <td>875643</td>\n",
              "      <td>33</td>\n",
              "      <td>0</td>\n",
              "      <td>Unspecified</td>\n",
              "      <td>Unspecified</td>\n",
              "      <td>137.391709</td>\n",
              "      <td>2</td>\n",
              "    </tr>\n",
              "    <tr>\n",
              "      <th>4</th>\n",
              "      <td>36</td>\n",
              "      <td>30</td>\n",
              "      <td>b</td>\n",
              "      <td>small</td>\n",
              "      <td>157.5</td>\n",
              "      <td>40.358501</td>\n",
              "      <td>123373</td>\n",
              "      <td>slightly long</td>\n",
              "      <td>5.0</td>\n",
              "      <td>0.0</td>\n",
              "      <td>Unspecified</td>\n",
              "      <td>18</td>\n",
              "      <td>944840</td>\n",
              "      <td>33</td>\n",
              "      <td>0</td>\n",
              "      <td>Unspecified</td>\n",
              "      <td>Unspecified</td>\n",
              "      <td>137.391709</td>\n",
              "      <td>1</td>\n",
              "    </tr>\n",
              "    <tr>\n",
              "      <th>...</th>\n",
              "      <td>...</td>\n",
              "      <td>...</td>\n",
              "      <td>...</td>\n",
              "      <td>...</td>\n",
              "      <td>...</td>\n",
              "      <td>...</td>\n",
              "      <td>...</td>\n",
              "      <td>...</td>\n",
              "      <td>...</td>\n",
              "      <td>...</td>\n",
              "      <td>...</td>\n",
              "      <td>...</td>\n",
              "      <td>...</td>\n",
              "      <td>...</td>\n",
              "      <td>...</td>\n",
              "      <td>...</td>\n",
              "      <td>...</td>\n",
              "      <td>...</td>\n",
              "      <td>...</td>\n",
              "    </tr>\n",
              "    <tr>\n",
              "      <th>275329</th>\n",
              "      <td>36</td>\n",
              "      <td>22</td>\n",
              "      <td>Unspecified</td>\n",
              "      <td>fit</td>\n",
              "      <td>175.3</td>\n",
              "      <td>40.358501</td>\n",
              "      <td>2252812</td>\n",
              "      <td>Unspecified</td>\n",
              "      <td>5.0</td>\n",
              "      <td>0.0</td>\n",
              "      <td>Unspecified</td>\n",
              "      <td>8</td>\n",
              "      <td>66386</td>\n",
              "      <td>42</td>\n",
              "      <td>4</td>\n",
              "      <td>34dd</td>\n",
              "      <td>work</td>\n",
              "      <td>140.000000</td>\n",
              "      <td>2</td>\n",
              "    </tr>\n",
              "    <tr>\n",
              "      <th>275330</th>\n",
              "      <td>36</td>\n",
              "      <td>13</td>\n",
              "      <td>Unspecified</td>\n",
              "      <td>fit</td>\n",
              "      <td>154.9</td>\n",
              "      <td>40.358501</td>\n",
              "      <td>682043</td>\n",
              "      <td>Unspecified</td>\n",
              "      <td>5.0</td>\n",
              "      <td>0.0</td>\n",
              "      <td>Unspecified</td>\n",
              "      <td>4</td>\n",
              "      <td>118398</td>\n",
              "      <td>29</td>\n",
              "      <td>6</td>\n",
              "      <td>32c</td>\n",
              "      <td>work</td>\n",
              "      <td>100.000000</td>\n",
              "      <td>2</td>\n",
              "    </tr>\n",
              "    <tr>\n",
              "      <th>275331</th>\n",
              "      <td>36</td>\n",
              "      <td>13</td>\n",
              "      <td>Unspecified</td>\n",
              "      <td>fit</td>\n",
              "      <td>172.7</td>\n",
              "      <td>40.358501</td>\n",
              "      <td>683251</td>\n",
              "      <td>Unspecified</td>\n",
              "      <td>3.0</td>\n",
              "      <td>0.0</td>\n",
              "      <td>Unspecified</td>\n",
              "      <td>8</td>\n",
              "      <td>47002</td>\n",
              "      <td>31</td>\n",
              "      <td>7</td>\n",
              "      <td>36a</td>\n",
              "      <td>everyday</td>\n",
              "      <td>135.000000</td>\n",
              "      <td>2</td>\n",
              "    </tr>\n",
              "    <tr>\n",
              "      <th>275332</th>\n",
              "      <td>36</td>\n",
              "      <td>13</td>\n",
              "      <td>Unspecified</td>\n",
              "      <td>fit</td>\n",
              "      <td>167.6</td>\n",
              "      <td>40.358501</td>\n",
              "      <td>126335</td>\n",
              "      <td>Unspecified</td>\n",
              "      <td>5.0</td>\n",
              "      <td>0.0</td>\n",
              "      <td>Unspecified</td>\n",
              "      <td>16</td>\n",
              "      <td>961120</td>\n",
              "      <td>31</td>\n",
              "      <td>5</td>\n",
              "      <td>36c</td>\n",
              "      <td>wedding</td>\n",
              "      <td>165.000000</td>\n",
              "      <td>2</td>\n",
              "    </tr>\n",
              "    <tr>\n",
              "      <th>275333</th>\n",
              "      <td>36</td>\n",
              "      <td>16</td>\n",
              "      <td>Unspecified</td>\n",
              "      <td>fit</td>\n",
              "      <td>167.6</td>\n",
              "      <td>40.358501</td>\n",
              "      <td>127865</td>\n",
              "      <td>Unspecified</td>\n",
              "      <td>5.0</td>\n",
              "      <td>0.0</td>\n",
              "      <td>Unspecified</td>\n",
              "      <td>16</td>\n",
              "      <td>123612</td>\n",
              "      <td>30</td>\n",
              "      <td>2</td>\n",
              "      <td>36b</td>\n",
              "      <td>wedding</td>\n",
              "      <td>155.000000</td>\n",
              "      <td>2</td>\n",
              "    </tr>\n",
              "  </tbody>\n",
              "</table>\n",
              "<p>275334 rows × 19 columns</p>\n",
              "</div>"
            ],
            "text/plain": [
              "        bra size  category  ...      weight fit_to_numeric\n",
              "0             34        30  ...  137.391709              1\n",
              "1             36        30  ...  137.391709              1\n",
              "2             32        30  ...  137.391709              1\n",
              "3             36        30  ...  137.391709              2\n",
              "4             36        30  ...  137.391709              1\n",
              "...          ...       ...  ...         ...            ...\n",
              "275329        36        22  ...  140.000000              2\n",
              "275330        36        13  ...  100.000000              2\n",
              "275331        36        13  ...  135.000000              2\n",
              "275332        36        13  ...  165.000000              2\n",
              "275333        36        16  ...  155.000000              2\n",
              "\n",
              "[275334 rows x 19 columns]"
            ]
          },
          "metadata": {
            "tags": []
          },
          "execution_count": 232
        }
      ]
    },
    {
      "cell_type": "markdown",
      "metadata": {
        "id": "7j4j4hf2Yeha",
        "colab_type": "text"
      },
      "source": [
        "Displaying data frames with specific columns which are used for prediction. The columns included are 'user_id','item_id','size', 'category','body type','fit_to_numeric'."
      ]
    },
    {
      "cell_type": "code",
      "metadata": {
        "id": "qG5jxdiZgm0L",
        "colab_type": "code",
        "outputId": "91e4e7e4-d4b5-46e4-dd8b-9e4a4b48168d",
        "colab": {
          "base_uri": "https://localhost:8080/",
          "height": 415
        }
      },
      "source": [
        "df[['user_id','item_id','size', 'category','body type','fit_to_numeric']]          "
      ],
      "execution_count": 233,
      "outputs": [
        {
          "output_type": "execute_result",
          "data": {
            "text/html": [
              "<div>\n",
              "<style scoped>\n",
              "    .dataframe tbody tr th:only-of-type {\n",
              "        vertical-align: middle;\n",
              "    }\n",
              "\n",
              "    .dataframe tbody tr th {\n",
              "        vertical-align: top;\n",
              "    }\n",
              "\n",
              "    .dataframe thead th {\n",
              "        text-align: right;\n",
              "    }\n",
              "</style>\n",
              "<table border=\"1\" class=\"dataframe\">\n",
              "  <thead>\n",
              "    <tr style=\"text-align: right;\">\n",
              "      <th></th>\n",
              "      <th>user_id</th>\n",
              "      <th>item_id</th>\n",
              "      <th>size</th>\n",
              "      <th>category</th>\n",
              "      <th>body type</th>\n",
              "      <th>fit_to_numeric</th>\n",
              "    </tr>\n",
              "  </thead>\n",
              "  <tbody>\n",
              "    <tr>\n",
              "      <th>0</th>\n",
              "      <td>991571</td>\n",
              "      <td>123373</td>\n",
              "      <td>7</td>\n",
              "      <td>30</td>\n",
              "      <td>0</td>\n",
              "      <td>1</td>\n",
              "    </tr>\n",
              "    <tr>\n",
              "      <th>1</th>\n",
              "      <td>587883</td>\n",
              "      <td>123373</td>\n",
              "      <td>13</td>\n",
              "      <td>30</td>\n",
              "      <td>0</td>\n",
              "      <td>1</td>\n",
              "    </tr>\n",
              "    <tr>\n",
              "      <th>2</th>\n",
              "      <td>395665</td>\n",
              "      <td>123373</td>\n",
              "      <td>7</td>\n",
              "      <td>30</td>\n",
              "      <td>0</td>\n",
              "      <td>1</td>\n",
              "    </tr>\n",
              "    <tr>\n",
              "      <th>3</th>\n",
              "      <td>875643</td>\n",
              "      <td>123373</td>\n",
              "      <td>21</td>\n",
              "      <td>30</td>\n",
              "      <td>0</td>\n",
              "      <td>2</td>\n",
              "    </tr>\n",
              "    <tr>\n",
              "      <th>4</th>\n",
              "      <td>944840</td>\n",
              "      <td>123373</td>\n",
              "      <td>18</td>\n",
              "      <td>30</td>\n",
              "      <td>0</td>\n",
              "      <td>1</td>\n",
              "    </tr>\n",
              "    <tr>\n",
              "      <th>...</th>\n",
              "      <td>...</td>\n",
              "      <td>...</td>\n",
              "      <td>...</td>\n",
              "      <td>...</td>\n",
              "      <td>...</td>\n",
              "      <td>...</td>\n",
              "    </tr>\n",
              "    <tr>\n",
              "      <th>275329</th>\n",
              "      <td>66386</td>\n",
              "      <td>2252812</td>\n",
              "      <td>8</td>\n",
              "      <td>22</td>\n",
              "      <td>4</td>\n",
              "      <td>2</td>\n",
              "    </tr>\n",
              "    <tr>\n",
              "      <th>275330</th>\n",
              "      <td>118398</td>\n",
              "      <td>682043</td>\n",
              "      <td>4</td>\n",
              "      <td>13</td>\n",
              "      <td>6</td>\n",
              "      <td>2</td>\n",
              "    </tr>\n",
              "    <tr>\n",
              "      <th>275331</th>\n",
              "      <td>47002</td>\n",
              "      <td>683251</td>\n",
              "      <td>8</td>\n",
              "      <td>13</td>\n",
              "      <td>7</td>\n",
              "      <td>2</td>\n",
              "    </tr>\n",
              "    <tr>\n",
              "      <th>275332</th>\n",
              "      <td>961120</td>\n",
              "      <td>126335</td>\n",
              "      <td>16</td>\n",
              "      <td>13</td>\n",
              "      <td>5</td>\n",
              "      <td>2</td>\n",
              "    </tr>\n",
              "    <tr>\n",
              "      <th>275333</th>\n",
              "      <td>123612</td>\n",
              "      <td>127865</td>\n",
              "      <td>16</td>\n",
              "      <td>16</td>\n",
              "      <td>2</td>\n",
              "      <td>2</td>\n",
              "    </tr>\n",
              "  </tbody>\n",
              "</table>\n",
              "<p>275334 rows × 6 columns</p>\n",
              "</div>"
            ],
            "text/plain": [
              "        user_id  item_id  size  category  body type  fit_to_numeric\n",
              "0        991571   123373     7        30          0               1\n",
              "1        587883   123373    13        30          0               1\n",
              "2        395665   123373     7        30          0               1\n",
              "3        875643   123373    21        30          0               2\n",
              "4        944840   123373    18        30          0               1\n",
              "...         ...      ...   ...       ...        ...             ...\n",
              "275329    66386  2252812     8        22          4               2\n",
              "275330   118398   682043     4        13          6               2\n",
              "275331    47002   683251     8        13          7               2\n",
              "275332   961120   126335    16        13          5               2\n",
              "275333   123612   127865    16        16          2               2\n",
              "\n",
              "[275334 rows x 6 columns]"
            ]
          },
          "metadata": {
            "tags": []
          },
          "execution_count": 233
        }
      ]
    },
    {
      "cell_type": "markdown",
      "metadata": {
        "id": "sCjp7O-FYxeu",
        "colab_type": "text"
      },
      "source": [
        "Dividing the data  into features and labels. Features include the 'user_id','item_id','category','size','body type' which are required input values for our data set."
      ]
    },
    {
      "cell_type": "code",
      "metadata": {
        "id": "OBtL6PCXgwYq",
        "colab_type": "code",
        "outputId": "b6ffd5a0-b8b6-495d-fe54-e197c6e131eb",
        "colab": {
          "base_uri": "https://localhost:8080/",
          "height": 260
        }
      },
      "source": [
        "features = df[['user_id','item_id','category','size','body type']]\n",
        "print(features)"
      ],
      "execution_count": 234,
      "outputs": [
        {
          "output_type": "stream",
          "text": [
            "        user_id  item_id  category  size  body type\n",
            "0        991571   123373        30     7          0\n",
            "1        587883   123373        30    13          0\n",
            "2        395665   123373        30     7          0\n",
            "3        875643   123373        30    21          0\n",
            "4        944840   123373        30    18          0\n",
            "...         ...      ...       ...   ...        ...\n",
            "275329    66386  2252812        22     8          4\n",
            "275330   118398   682043        13     4          6\n",
            "275331    47002   683251        13     8          7\n",
            "275332   961120   126335        13    16          5\n",
            "275333   123612   127865        16    16          2\n",
            "\n",
            "[275334 rows x 5 columns]\n"
          ],
          "name": "stdout"
        }
      ]
    },
    {
      "cell_type": "markdown",
      "metadata": {
        "id": "Z4wjNI1FZQNv",
        "colab_type": "text"
      },
      "source": [
        "Labels are defined which are the required output for our data set.  Output is obtained in the form of  fit, small or large for the cloth.\n",
        "small = 1, fit = 2, large =3"
      ]
    },
    {
      "cell_type": "code",
      "metadata": {
        "id": "AqsEbRZfgzWD",
        "colab_type": "code",
        "outputId": "00404b01-2d8e-41fd-8f76-9a675cfa1640",
        "colab": {
          "base_uri": "https://localhost:8080/",
          "height": 225
        }
      },
      "source": [
        "label = df['fit_to_numeric']\n",
        "print(label)"
      ],
      "execution_count": 235,
      "outputs": [
        {
          "output_type": "stream",
          "text": [
            "0         1\n",
            "1         1\n",
            "2         1\n",
            "3         2\n",
            "4         1\n",
            "         ..\n",
            "275329    2\n",
            "275330    2\n",
            "275331    2\n",
            "275332    2\n",
            "275333    2\n",
            "Name: fit_to_numeric, Length: 275334, dtype: int64\n"
          ],
          "name": "stdout"
        }
      ]
    },
    {
      "cell_type": "markdown",
      "metadata": {
        "id": "Xb9qdbWZZlZU",
        "colab_type": "text"
      },
      "source": [
        "Dividing the data set into training and testing sets. Training is given as 80% of the data and testing is given as 20% of data. Therefore training and testing sets are formed."
      ]
    },
    {
      "cell_type": "code",
      "metadata": {
        "id": "fDKWmju_g7zY",
        "colab_type": "code",
        "colab": {}
      },
      "source": [
        "from sklearn.model_selection import train_test_split\n",
        "\n",
        "X_train, X_test, y_train, y_test = train_test_split(features, label, test_size=0.20)"
      ],
      "execution_count": 0,
      "outputs": []
    },
    {
      "cell_type": "markdown",
      "metadata": {
        "id": "5kOR8W0WZ6T6",
        "colab_type": "text"
      },
      "source": [
        "Applied the Gausian Naive Bayes Algorithm. Our data set contains normal(continous) form of data set. Gausian Naive Bayes Algorithm works better on our data set as compared to Multinomial and Bernauli Algorithms.\n",
        "Further the parameter here is set as Default one with priors=None , var_smoothing=1e-09. Priors set to none takes prior probability in accordance of our data set. And 1e-09 gives variance."
      ]
    },
    {
      "cell_type": "code",
      "metadata": {
        "id": "ZNXTVErMM6K8",
        "colab_type": "code",
        "outputId": "22621926-4dec-463d-ff32-6f5a737a9290",
        "colab": {
          "base_uri": "https://localhost:8080/",
          "height": 35
        }
      },
      "source": [
        "from sklearn.naive_bayes import GaussianNB\n",
        "\n",
        "model = GaussianNB(priors=None , var_smoothing=1e-09)\n",
        "model.fit(X_train, y_train)\n",
        "\n"
      ],
      "execution_count": 237,
      "outputs": [
        {
          "output_type": "execute_result",
          "data": {
            "text/plain": [
              "GaussianNB(priors=None, var_smoothing=1e-09)"
            ]
          },
          "metadata": {
            "tags": []
          },
          "execution_count": 237
        }
      ]
    },
    {
      "cell_type": "markdown",
      "metadata": {
        "id": "B4IK2CvNnipa",
        "colab_type": "text"
      },
      "source": [
        "Predicting the values using the x_test "
      ]
    },
    {
      "cell_type": "code",
      "metadata": {
        "id": "xGdUrEH8QMta",
        "colab_type": "code",
        "colab": {}
      },
      "source": [
        "\n",
        "import numpy as np\n",
        "y_pred = model.predict(X_test)\n",
        "\n"
      ],
      "execution_count": 0,
      "outputs": []
    },
    {
      "cell_type": "markdown",
      "metadata": {
        "id": "jjbrsqxjjfAJ",
        "colab_type": "text"
      },
      "source": [
        "Predicting the accuracy score for the data set using Gaussian Naive Bayes Algorithm"
      ]
    },
    {
      "cell_type": "code",
      "metadata": {
        "id": "zn9vNRdjnmZA",
        "colab_type": "code",
        "outputId": "c391d9d8-03bc-4fdb-b558-d8eaf10974f4",
        "colab": {
          "base_uri": "https://localhost:8080/",
          "height": 35
        }
      },
      "source": [
        "from sklearn.metrics import accuracy_score\n",
        "score =  accuracy_score(y_test, y_pred, normalize=True, sample_weight=None)\n",
        "print(score)\n",
        " "
      ],
      "execution_count": 239,
      "outputs": [
        {
          "output_type": "stream",
          "text": [
            "0.720758348920406\n"
          ],
          "name": "stdout"
        }
      ]
    },
    {
      "cell_type": "markdown",
      "metadata": {
        "id": "no19IWKdj2dt",
        "colab_type": "text"
      },
      "source": [
        "Displaying the classification report "
      ]
    },
    {
      "cell_type": "code",
      "metadata": {
        "id": "uikBD7sCPHIl",
        "colab_type": "code",
        "outputId": "de84aca6-7e7e-4376-9400-10dd9b9484b6",
        "colab": {
          "base_uri": "https://localhost:8080/",
          "height": 245
        }
      },
      "source": [
        "from sklearn.metrics import classification_report\n",
        "report = classification_report(y_test, y_pred, labels=None, target_names=None, sample_weight=None, digits=2, output_dict=False)\n",
        "print(report)"
      ],
      "execution_count": 240,
      "outputs": [
        {
          "output_type": "stream",
          "text": [
            "              precision    recall  f1-score   support\n",
            "\n",
            "           1       0.00      0.00      0.00      7738\n",
            "           2       0.72      1.00      0.84     39690\n",
            "           3       0.00      0.00      0.00      7639\n",
            "\n",
            "    accuracy                           0.72     55067\n",
            "   macro avg       0.24      0.33      0.28     55067\n",
            "weighted avg       0.52      0.72      0.60     55067\n",
            "\n"
          ],
          "name": "stdout"
        },
        {
          "output_type": "stream",
          "text": [
            "/usr/local/lib/python3.6/dist-packages/sklearn/metrics/classification.py:1437: UndefinedMetricWarning: Precision and F-score are ill-defined and being set to 0.0 in labels with no predicted samples.\n",
            "  'precision', 'predicted', average, warn_for)\n"
          ],
          "name": "stderr"
        }
      ]
    },
    {
      "cell_type": "markdown",
      "metadata": {
        "id": "RpguGOXGjtdD",
        "colab_type": "text"
      },
      "source": [
        "Displaying the confusion matrix"
      ]
    },
    {
      "cell_type": "code",
      "metadata": {
        "id": "-rNyoe2jPdcI",
        "colab_type": "code",
        "outputId": "33a3fd25-a295-4827-c908-df37ffb77228",
        "colab": {
          "base_uri": "https://localhost:8080/",
          "height": 363
        }
      },
      "source": [
        "from sklearn.metrics import confusion_matrix\n",
        "import numpy as np\n",
        "import itertools\n",
        "# confusion_matrix=confusion_matrix(y_test,y_pred)\n",
        "# print(confusion_matrix)\n",
        "import matplotlib.pyplot as plt\n",
        "def plot_confusion_matrix(cm, classes,\n",
        "                          normalize=False,\n",
        "                          title='Confusion matrix',\n",
        "                          cmap=plt.cm.Blues):\n",
        "    \"\"\"\n",
        "    This function prints and plots the confusion matrix.\n",
        "    Normalization can be applied by setting `normalize=True`.\n",
        "    \"\"\"\n",
        "    if normalize:\n",
        "        cm = cm.astype('float') / cm.sum(axis=1)[:, np.newaxis]\n",
        "        print(\"Normalized confusion matrix\")\n",
        "    else:\n",
        "        print('Confusion matrix, without normalization')\n",
        "\n",
        "    print(cm)\n",
        "\n",
        "    plt.imshow(cm, interpolation='nearest', cmap=cmap)\n",
        "    plt.title(title)\n",
        "    plt.colorbar()\n",
        "    tick_marks = np.arange(len(classes))\n",
        "    plt.xticks(tick_marks, classes, rotation=45)\n",
        "    plt.yticks(tick_marks, classes)\n",
        "\n",
        "    fmt = '.2f' if normalize else 'd'\n",
        "    thresh = cm.max() / 2.\n",
        "    for i, j in itertools.product(range(cm.shape[0]), range(cm.shape[1])):\n",
        "        plt.text(j, i, format(cm[i, j], fmt),\n",
        "                 horizontalalignment=\"center\",\n",
        "                 color=\"white\" if cm[i, j] > thresh else \"black\")\n",
        "\n",
        "    plt.ylabel('True label')\n",
        "    plt.xlabel('Predicted label')\n",
        "    plt.tight_layout()\n",
        "\n",
        "\n",
        "# Compute confusion matrix\n",
        "cnf_matrix = confusion_matrix(y_test, y_pred)\n",
        "np.set_printoptions(precision=2)\n",
        "\n",
        "# Plot non-normalized confusion matrix\n",
        "plt.figure()\n",
        "plot_confusion_matrix(cnf_matrix, classes=['small','fit','large'],\n",
        "                      title='Confusion matrix, without normalization')\n"
      ],
      "execution_count": 241,
      "outputs": [
        {
          "output_type": "stream",
          "text": [
            "Confusion matrix, without normalization\n",
            "[[    0  7738     0]\n",
            " [    0 39690     0]\n",
            " [    0  7639     0]]\n"
          ],
          "name": "stdout"
        },
        {
          "output_type": "display_data",
          "data": {
            "image/png": "[encoded data removed]",
            "text/plain": [
              "<Figure size 432x288 with 2 Axes>"
            ]
          },
          "metadata": {
            "tags": []
          }
        }
      ]
    },
    {
      "cell_type": "markdown",
      "metadata": {
        "id": "a2IwWVchl5i5",
        "colab_type": "text"
      },
      "source": [
        "Changed the parameter values of the Gaussian Naive bayes Algorithm by setting prior probability = [0.2,0.2,0.6] "
      ]
    },
    {
      "cell_type": "code",
      "metadata": {
        "id": "GByn0wlrkg6g",
        "colab_type": "code",
        "colab": {
          "base_uri": "https://localhost:8080/",
          "height": 35
        },
        "outputId": "66946786-7382-4e52-fe88-00b883fa9854"
      },
      "source": [
        "from sklearn.naive_bayes import GaussianNB\n",
        "\n",
        "model = GaussianNB(priors=[0.2,0.2,0.6] , var_smoothing=1e-09)\n",
        "model.fit(X_train, y_train)\n"
      ],
      "execution_count": 242,
      "outputs": [
        {
          "output_type": "execute_result",
          "data": {
            "text/plain": [
              "GaussianNB(priors=[0.2, 0.2, 0.6], var_smoothing=1e-09)"
            ]
          },
          "metadata": {
            "tags": []
          },
          "execution_count": 242
        }
      ]
    },
    {
      "cell_type": "markdown",
      "metadata": {
        "id": "CMVlhaPKluib",
        "colab_type": "text"
      },
      "source": [
        "Calculated the accuracy by giving the above prob "
      ]
    },
    {
      "cell_type": "code",
      "metadata": {
        "id": "f5XNKlu1k1fY",
        "colab_type": "code",
        "colab": {}
      },
      "source": [
        "import numpy as np\n",
        "y_pred = model.predict(X_test)\n"
      ],
      "execution_count": 0,
      "outputs": []
    },
    {
      "cell_type": "code",
      "metadata": {
        "id": "-ZVWdB6Fk29Q",
        "colab_type": "code",
        "colab": {
          "base_uri": "https://localhost:8080/",
          "height": 35
        },
        "outputId": "78778c62-45fa-42d3-d340-b1b388180984"
      },
      "source": [
        "from sklearn.metrics import accuracy_score\n",
        "score =  accuracy_score(y_test, y_pred, normalize=True, sample_weight=None)\n",
        "print(score)\n",
        " "
      ],
      "execution_count": 244,
      "outputs": [
        {
          "output_type": "stream",
          "text": [
            "0.13872192056948807\n"
          ],
          "name": "stdout"
        }
      ]
    },
    {
      "cell_type": "markdown",
      "metadata": {
        "id": "N066pLrsmaFQ",
        "colab_type": "text"
      },
      "source": [
        "changed the parameter values of the Gaussian Naive bayes Algorithm by setting prior probability = [0.2,0.6,0.2] "
      ]
    },
    {
      "cell_type": "code",
      "metadata": {
        "id": "BlkF2C29kmGd",
        "colab_type": "code",
        "colab": {
          "base_uri": "https://localhost:8080/",
          "height": 35
        },
        "outputId": "30a30193-3441-4842-dc4f-c01ea6ec9891"
      },
      "source": [
        "from sklearn.naive_bayes import GaussianNB\n",
        "\n",
        "model = GaussianNB(priors=[0.2,0.6,0.2] , var_smoothing=1e-09)\n",
        "model.fit(X_train, y_train)\n"
      ],
      "execution_count": 245,
      "outputs": [
        {
          "output_type": "execute_result",
          "data": {
            "text/plain": [
              "GaussianNB(priors=[0.2, 0.6, 0.2], var_smoothing=1e-09)"
            ]
          },
          "metadata": {
            "tags": []
          },
          "execution_count": 245
        }
      ]
    },
    {
      "cell_type": "code",
      "metadata": {
        "id": "aELOzUgFk-Oc",
        "colab_type": "code",
        "colab": {}
      },
      "source": [
        "import numpy as np\n",
        "y_pred = model.predict(X_test)\n"
      ],
      "execution_count": 0,
      "outputs": []
    },
    {
      "cell_type": "markdown",
      "metadata": {
        "id": "4FerRv_4mejY",
        "colab_type": "text"
      },
      "source": [
        "Calculated the accuracy by giving the above prob "
      ]
    },
    {
      "cell_type": "code",
      "metadata": {
        "id": "32YOWdKEk_TC",
        "colab_type": "code",
        "colab": {
          "base_uri": "https://localhost:8080/",
          "height": 35
        },
        "outputId": "265edaa5-87a8-49f1-e592-9665f12c80d2"
      },
      "source": [
        "from sklearn.metrics import accuracy_score\n",
        "score =  accuracy_score(y_test, y_pred, normalize=True, sample_weight=None)\n",
        "print(score)"
      ],
      "execution_count": 247,
      "outputs": [
        {
          "output_type": "stream",
          "text": [
            "0.720758348920406\n"
          ],
          "name": "stdout"
        }
      ]
    },
    {
      "cell_type": "markdown",
      "metadata": {
        "id": "dD5FpZnEmw6Y",
        "colab_type": "text"
      },
      "source": [
        "changed the parameter values of the Gaussian Naive bayes Algorithm by setting prior probability = [0.6,0.2,0.2] "
      ]
    },
    {
      "cell_type": "code",
      "metadata": {
        "id": "p85bxE-TkqHw",
        "colab_type": "code",
        "colab": {
          "base_uri": "https://localhost:8080/",
          "height": 35
        },
        "outputId": "de653917-3c12-472d-8070-7a78d975e6f5"
      },
      "source": [
        "from sklearn.naive_bayes import GaussianNB\n",
        "\n",
        "model = GaussianNB(priors=[0.6,0.2,0.2] , var_smoothing=1e-09)\n",
        "model.fit(X_train, y_train)"
      ],
      "execution_count": 248,
      "outputs": [
        {
          "output_type": "execute_result",
          "data": {
            "text/plain": [
              "GaussianNB(priors=[0.6, 0.2, 0.2], var_smoothing=1e-09)"
            ]
          },
          "metadata": {
            "tags": []
          },
          "execution_count": 248
        }
      ]
    },
    {
      "cell_type": "code",
      "metadata": {
        "id": "tfLYiqdrlCD7",
        "colab_type": "code",
        "colab": {}
      },
      "source": [
        "import numpy as np\n",
        "y_pred = model.predict(X_test)\n"
      ],
      "execution_count": 0,
      "outputs": []
    },
    {
      "cell_type": "markdown",
      "metadata": {
        "id": "7rfVqycRm1wv",
        "colab_type": "text"
      },
      "source": [
        "Calculated the accuracy by giving the above prob "
      ]
    },
    {
      "cell_type": "code",
      "metadata": {
        "id": "qmIZHsSSlEAB",
        "colab_type": "code",
        "colab": {
          "base_uri": "https://localhost:8080/",
          "height": 35
        },
        "outputId": "8d251655-a440-4fad-9f96-2a6bde1b165a"
      },
      "source": [
        "from sklearn.metrics import accuracy_score\n",
        "score =  accuracy_score(y_test, y_pred, normalize=True, sample_weight=None)\n",
        "print(score)"
      ],
      "execution_count": 250,
      "outputs": [
        {
          "output_type": "stream",
          "text": [
            "0.14051973051010588\n"
          ],
          "name": "stdout"
        }
      ]
    },
    {
      "cell_type": "markdown",
      "metadata": {
        "id": "UrRieIlIm9Qx",
        "colab_type": "text"
      },
      "source": [
        "Tried implementing the Multinomial Naive Bayes too. But since our data set contains continous values rather than discrete values so Gaussian is better to use. Multinomial works better on discrete set of data."
      ]
    },
    {
      "cell_type": "code",
      "metadata": {
        "id": "10BYH7t9RpOO",
        "colab_type": "code",
        "outputId": "7b5973af-5d0d-4f6d-8bd7-cfb3843c899d",
        "colab": {
          "base_uri": "https://localhost:8080/",
          "height": 35
        }
      },
      "source": [
        "from sklearn.naive_bayes import MultinomialNB\n",
        "\n",
        "model  = MultinomialNB(alpha=1, fit_prior=False, class_prior=None)\n",
        "model.fit(X_train, y_train)"
      ],
      "execution_count": 251,
      "outputs": [
        {
          "output_type": "execute_result",
          "data": {
            "text/plain": [
              "MultinomialNB(alpha=1, class_prior=None, fit_prior=False)"
            ]
          },
          "metadata": {
            "tags": []
          },
          "execution_count": 251
        }
      ]
    },
    {
      "cell_type": "code",
      "metadata": {
        "id": "dcr5rG_WlWQh",
        "colab_type": "code",
        "colab": {}
      },
      "source": [
        "import numpy as np\n",
        "y_pred = model.predict(X_test)"
      ],
      "execution_count": 0,
      "outputs": []
    },
    {
      "cell_type": "markdown",
      "metadata": {
        "id": "lhYnPmNKnPBn",
        "colab_type": "text"
      },
      "source": [
        "Calculated the accuracy using Multinomial model."
      ]
    },
    {
      "cell_type": "code",
      "metadata": {
        "id": "mm01u3FIlZz-",
        "colab_type": "code",
        "colab": {
          "base_uri": "https://localhost:8080/",
          "height": 35
        },
        "outputId": "36dbd097-bd6c-479b-82e2-58105a4e54d0"
      },
      "source": [
        "from sklearn.metrics import accuracy_score\n",
        "score =  accuracy_score(y_test, y_pred, normalize=True, sample_weight=None)\n",
        "print(score)"
      ],
      "execution_count": 253,
      "outputs": [
        {
          "output_type": "stream",
          "text": [
            "0.4517950859861623\n"
          ],
          "name": "stdout"
        }
      ]
    },
    {
      "cell_type": "code",
      "metadata": {
        "id": "FXIkKnma-s8y",
        "colab_type": "code",
        "colab": {}
      },
      "source": [
        ""
      ],
      "execution_count": 0,
      "outputs": []
    }
  ]
}